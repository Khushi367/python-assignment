{
  "nbformat": 4,
  "nbformat_minor": 0,
  "metadata": {
    "colab": {
      "provenance": []
    },
    "kernelspec": {
      "name": "python3",
      "display_name": "Python 3"
    },
    "language_info": {
      "name": "python"
    }
  },
  "cells": [
    {
      "cell_type": "markdown",
      "source": [
        "**Q1.What is Logistic Regression, and how does it differ from Linear Regression.**\n",
        "\n",
        "Ans.1. Logistic Regression\n",
        "\n",
        "Purpose: Used for classification problems (mainly binary classification).\n",
        "\n",
        "Output: Predicts probabilities (values between 0 and 1).\n",
        "\n",
        "Equation: Uses the sigmoid (logistic) function to transform the output of a linear equation into a probability:\n",
        "\n",
        "P(Y=1)=  1 / 1+e^−(b0+b1X1 +b2X2+...+bnXn)\n",
        "\n",
        "\n",
        "\n",
        "If P(Y=1) > 0.5, classify as 1\n",
        "\n",
        "If P(Y=1) ≤ 0.5, classify as 0\n",
        "\n",
        "Since the output is a probability, logistic regression is used in problems like spam detection, medical diagnosis, and credit risk analysis.\n",
        "\n",
        "\n",
        "\n",
        "2. Linear Regression\n",
        "\n",
        "Purpose: Used for regression problems (predicting continuous values).\n",
        "\n",
        "Output: Predicts a numerical value.\n",
        "\n",
        "Equation: A simple linear relationship between input variables X and output Y:\n",
        "\n",
        "Y = b0+b1X1+b2X2+...+bnXn\n",
        "\n",
        "It is useful in predicting house prices, sales, or temperature trends."
      ],
      "metadata": {
        "id": "MAgI6vv_iWmn"
      }
    },
    {
      "cell_type": "markdown",
      "source": [
        "**Q2.What is the mathematical equation of Logistic Regression.**\n",
        "\n",
        "Ans.The mathematical equation of Logistic Regression is based on the sigmoid (logistic) function, which transforms a linear equation into a probability.\n",
        "\n",
        "Logistic Regression Model\n",
        "For a given set of input features X1,X2,...,Xn , the logistic regression model calculates the probability of the dependent variable Y belonging to class 1 (e.g., Yes, True, Success):\n",
        "P(Y=1)=  1 / 1+e^−(b0+b1X1 +b2X2+...+bnXn)\n",
        "where:\n",
        "P(Y=1) is the probability that\n",
        "Y belongs to class 1.\n",
        "b0 (intercept) and b1,b2,...,bn (coefficients) are the parameters of the model.\n",
        "X1,X2,...,Xn are the independent variables (input features).\n",
        "e is the base of the natural logarithm (~2.718)."
      ],
      "metadata": {
        "id": "4xesh0F5icHj"
      }
    },
    {
      "cell_type": "markdown",
      "source": [
        "**Q3. Why do we use the Sigmoid function in Logistic Regression?**\n",
        "\n",
        "Ans.The sigmoid function (also called the logistic function) is used in Logistic Regression to map any real-valued number into a probability between 0 and 1. Since classification problems require outputs in this range, the sigmoid function is ideal for this purpose.\n",
        "Reasons for Using the Sigmoid Function\n",
        "(i) Converts Output into a Probability\n",
        "Linear functions can output any real number (−∞,∞), which isn't suitable for classification.\n",
        "The sigmoid function compresses this range into (0,1), representing a probability.\n",
        "(ii) Enables Classification\n",
        "If P(Y=1)>0.5, classify as 1 (positive class).\n",
        "If P(Y=1)≤0.5, classify as 0 (negative class).\n",
        "(iii) Provides a Smooth, Differentiable Function\n",
        "The sigmoid function is smooth and continuous, making it suitable for optimization using Gradient Descent"
      ],
      "metadata": {
        "id": "b2AguWEWikiQ"
      }
    },
    {
      "cell_type": "markdown",
      "source": [
        "**Q4.What is the cost function of Logistic Regression?**\n",
        "\n",
        "Ans.In Logistic Regression, we use a different cost function than in Linear Regression because the squared error cost function used in Linear Regression is not convex for Logistic Regression, making it difficult to optimize. Instead, we use the Log-Loss (Logistic Loss) function, also known as the Binary Cross-Entropy Loss.\n",
        "1. Cost Function Definition\n",
        "For a single training example (X,Y), the cost function is:\n",
        "J(θ)=−[Ylog(hθ(X))+(1−Y)log(1−hθ(X))]\n",
        "where:\n",
        "(X) is the predicted probability:\n",
        "hθ(X)= 1 / 1+e−θTX\n",
        "\n",
        "Y is the actual class label (0 or 1).\n",
        "θ represents the parameters of the model"
      ],
      "metadata": {
        "id": "11_WJ12SiuoK"
      }
    },
    {
      "cell_type": "markdown",
      "source": [
        "**Q5.What is Regularization in Logistic Regression? Why is it needed.**\n",
        "\n",
        "Ans.Regularization is a technique used in Logistic Regression (and other machine learning models) to prevent overfitting by adding a penalty to the model’s cost function. This helps keep the model simpler and more generalizable to new data.\n",
        "Why is Regularization Needed?\n",
        "In Logistic Regression, the model learns weights (θ) that best separate the data. However, if the model is too complex (too many features or high variance), it may:\n",
        "\n",
        "Overfit the training data (performs well on training but poorly on test data).\n",
        "Have large parameter values (θ) leading to excessive sensitivity to small variations in input data.\n",
        "Regularization controls the magnitude of these parameters to avoid overfitting and improve generalization."
      ],
      "metadata": {
        "id": "-WQkdRNfi1Hd"
      }
    },
    {
      "cell_type": "markdown",
      "source": [
        "**Q6.Explain the difference between Lasso, Ridge, and Elastic Net regression.**\n",
        "\n",
        "Ans.\n",
        "1. Lasso Regression (L1 Regularization)\n",
        "Lasso stands for Least Absolute Shrinkage and Selection Operator.\n",
        "\n",
        "Mathematical Equation:\n",
        "The cost function for Lasso adds the absolute values of the coefficients as a penalty:\n",
        "J(θ)=Loss function+λ j=1∑n∣θj∣\n",
        "Key Features:\n",
        " Feature Selection – Shrinks some coefficients to exactly zero, effectively removing irrelevant features.\n",
        " Helps in creating sparse models by selecting only the most important variables.\n",
        " Useful when dealing with high-dimensional data (many features).\n",
        "\n",
        "2. Ridge Regression (L2 Regularization)\n",
        "Ridge regression adds a squared penalty to the cost function, preventing large coefficients but keeping all features.\n",
        "\n",
        "Mathematical Equation:\n",
        "J(θ)= Loss function + λ j=1 ∑ n θj2\n",
        "Key Features:\n",
        "No feature elimination – Unlike Lasso, Ridge regression does not shrink coefficients to zero, but it makes them smaller.\n",
        "Helps when all features contribute to the prediction.\n",
        "Works well when features are correlated.\n",
        "\n",
        "3. Elastic Net Regression (Combination of L1 & L2)\n",
        "Elastic Net is a combination of both Lasso (L1) and Ridge (L2), balancing feature selection and coefficient shrinkage.\n",
        "\n",
        "Mathematical Equation:\n",
        "J(θ)=Loss function+λ1 j=1∑n∣θj∣ + λ2 j=1 ∑ n θj2\n",
        "Key Features:\n",
        "Combines benefits of Lasso & Ridge – Performs feature selection (L1) and prevents overfitting (L2).\n",
        "Works well in high-dimensional datasets with correlated features.\n",
        "More flexible as it allows tuning of both penalties."
      ],
      "metadata": {
        "id": "pv4NJDSUi9aS"
      }
    },
    {
      "cell_type": "markdown",
      "source": [
        "**Q7.When should we use Elastic Net instead of Lasso or Ridge?**\n",
        "\n",
        "Ans.Use Elastic Net When:\n",
        "1. Features are Highly Correlated (Multicollinearity)\n",
        " Lasso struggles with correlated variables and may arbitrarily drop one while keeping another.\n",
        " Ridge keeps all variables but does not perform feature selection.\n",
        " Elastic Net works best when features are correlated by balancing L1 and L2 penalties.\n",
        "2. There Are Many Features (High-Dimensional Data)\n",
        " Lasso can eliminate too many features when there are many irrelevant variables.\n",
        " Ridge retains all features, making interpretation harder.\n",
        " Elastic Net handles high-dimensional data better by selecting relevant features while keeping important correlated ones.\n",
        "3. You Need Both Feature Selection & Shrinkage\n",
        " Lasso might remove too many features, leading to underfitting.\n",
        " Ridge does not remove features but can lead to overfitting in large datasets.\n",
        " Elastic Net provides a balance by selecting relevant features while preventing overfitting."
      ],
      "metadata": {
        "id": "y2SWow8EjIvo"
      }
    },
    {
      "cell_type": "markdown",
      "source": [
        "**Q8.What is the impact of the regularization parameter (λ) in Logistic Regression?**\n",
        "\n",
        "Ans.Impact of the Regularization Parameter (λ) in Logistic Regression\n",
        "The regularization parameter (λ) controls the strength of the penalty term added to the cost function in Logistic Regression. It affects how the model learns from the data by controlling the trade-off between model complexity and overfitting.\n",
        "Effects of λ on Model Performance\n",
        "-When λ is Too Small (Near 0)\n",
        "Minimal regularization → The model behaves like standard Logistic Regression.\n",
        "Large coefficients (θ) → Model is complex, capturing noise.\n",
        "Overfitting risk → Model fits training data well but performs poorly on unseen data.\n",
        "\n",
        "-When λ is Too Large\n",
        "Strong regularization → Coefficients shrink significantly.\n",
        "Model is too simple → Can cause underfitting.\n",
        "Important features may be ignored → Reduces model performance.\n",
        "\n",
        "-Optimal λ (Balanced Regularization)\n",
        "Avoids overfitting while keeping useful features.\n",
        "Helps generalization, leading to better performance on test data."
      ],
      "metadata": {
        "id": "3HVVb-d4jQtK"
      }
    },
    {
      "cell_type": "markdown",
      "source": [
        "**Q9.What are the key assumptions of Logistic Regression?**\n",
        "\n",
        "Ans.Key Assumptions of Logistic Regression\n",
        "Logistic Regression is a widely used classification algorithm, but like any statistical model, it relies on certain assumptions for optimal performance.\n",
        "1. The Dependent Variable is Binary (for Binary Logistic Regression)\n",
        " Logistic Regression assumes that the target variable (Y) is binary (0 or 1).\n",
        " If the response variable has multiple categories, Multinomial Logistic Regression or Ordinal Logistic Regression should be used instead.\n",
        "2. No High Multicollinearity Among Independent Variables\n",
        "Logistic Regression assumes low or no multicollinearity (high correlation among independent variables).\n",
        "Why?\n",
        "High correlation between features makes it difficult to determine their individual effects on the target variable.\n",
        "Solution:\n",
        "Use Variance Inflation Factor (VIF) to detect multicollinearity.\n",
        "Apply Principal Component Analysis (PCA) or remove correlated features.\n",
        "3. The Dataset is Sufficiently Large\n",
        " Logistic Regression performs best when the dataset has a sufficient number of observations per predictor variable.\n",
        " Rule of thumb: At least 10-20 observations per feature for stable coefficient estimates.\n",
        "\n",
        " Small dataset issues:\n",
        "Model may become unstable or fail to converge.\n",
        "Consider Bayesian Logistic Regression or Penalized Regression (Ridge/Lasso)"
      ],
      "metadata": {
        "id": "n2nbz_WcjbDS"
      }
    },
    {
      "cell_type": "markdown",
      "source": [
        "**Q10.What are some alternatives to Logistic Regression for classification tasks.**\n",
        "\n",
        "Ans.Alternatives to Logistic Regression for Classification Tasks\n",
        "While Logistic Regression is a simple and interpretable classification algorithm, it may not always be the best choice—especially when dealing with non-linearity, high-dimensional data, or complex relationships. Here are some powerful alternatives:\n",
        "\n",
        "1. Decision Trees\n",
        "Best for: Interpretable models, capturing non-linear relationships.\n",
        " Splits data into branches based on feature values.\n",
        " Handles non-linearity and interactions between features.\n",
        " Works well with both numerical and categorical data.\n",
        " Can overfit if not pruned (Regularization helps).\n",
        "2. Random Forest\n",
        " Best for: High accuracy, robustness, handling missing values.\n",
        " Ensemble method – Combines multiple Decision Trees for better predictions.\n",
        " Reduces overfitting (unlike a single Decision Tree).\n",
        " Works well on large datasets and high-dimensional data.\n",
        " Handles imbalanced datasets with class weighting.\n",
        "3. Naïve Bayes\n",
        " Best for: Text classification, spam detection, sentiment analysis.\n",
        " Assumes independent features (though not always realistic).\n",
        " Fast, scalable for large datasets.\n",
        " Works well when data is categorical (e.g., words in text)"
      ],
      "metadata": {
        "id": "b-OJpKKbjlI5"
      }
    },
    {
      "cell_type": "markdown",
      "source": [
        "**11.What are Classification Evaluation Metrics.**\n",
        "\n",
        "Classification evaluation metrics are used to assess the performance of a classification model. Here are some of the most common ones:\n",
        "\n",
        "1. Accuracy\n",
        "Measures the percentage of correctly classified instances.\n",
        "Formula:\n",
        "𝐴\n",
        "𝑐\n",
        "𝑐\n",
        "𝑢\n",
        "𝑟\n",
        "𝑎\n",
        "𝑐\n",
        "𝑦\n",
        "=\n",
        "𝑇\n",
        "𝑃\n",
        "+\n",
        "𝑇\n",
        "𝑁\n",
        "𝑇\n",
        "𝑃\n",
        "+\n",
        "𝑇\n",
        "𝑁\n",
        "+\n",
        "𝐹\n",
        "𝑃\n",
        "+\n",
        "𝐹\n",
        "𝑁\n",
        "Accuracy=\n",
        "TP+TN+FP+FN\n",
        "TP+TN\n",
        "​\n",
        "\n",
        "Best when classes are balanced.\n",
        "2. Precision (Positive Predictive Value)\n",
        "Measures how many of the predicted positive instances are actually positive.\n",
        "Formula:\n",
        "𝑃\n",
        "𝑟\n",
        "𝑒\n",
        "𝑐\n",
        "𝑖\n",
        "𝑠\n",
        "𝑖\n",
        "𝑜\n",
        "𝑛\n",
        "=\n",
        "𝑇\n",
        "𝑃\n",
        "𝑇\n",
        "𝑃\n",
        "+\n",
        "𝐹\n",
        "𝑃\n",
        "Precision=\n",
        "TP+FP\n",
        "TP\n",
        "​\n",
        "\n",
        "Useful when false positives are costly.\n",
        "3. Recall (Sensitivity, True Positive Rate)\n",
        "Measures how many actual positive instances are correctly identified.\n",
        "Formula:\n",
        "𝑅\n",
        "𝑒\n",
        "𝑐\n",
        "𝑎\n",
        "𝑙\n",
        "𝑙\n",
        "=\n",
        "𝑇\n",
        "𝑃\n",
        "𝑇\n",
        "𝑃\n",
        "+\n",
        "𝐹\n",
        "𝑁\n",
        "Recall=\n",
        "TP+FN\n",
        "TP\n",
        "​\n",
        "\n",
        "Important when false negatives are costly.\n",
        "4. F1-Score\n",
        "Harmonic mean of precision and recall.\n",
        "Formula:\n",
        "𝐹\n",
        "1\n",
        "=\n",
        "2\n",
        "×\n",
        "𝑃\n",
        "𝑟\n",
        "𝑒\n",
        "𝑐\n",
        "𝑖\n",
        "𝑠\n",
        "𝑖\n",
        "𝑜\n",
        "𝑛\n",
        "×\n",
        "𝑅\n",
        "𝑒\n",
        "𝑐\n",
        "𝑎\n",
        "𝑙\n",
        "𝑙\n",
        "𝑃\n",
        "𝑟\n",
        "𝑒\n",
        "𝑐\n",
        "𝑖\n",
        "𝑠\n",
        "𝑖\n",
        "𝑜\n",
        "𝑛\n",
        "+\n",
        "𝑅\n",
        "𝑒\n",
        "𝑐\n",
        "𝑎\n",
        "𝑙\n",
        "𝑙\n",
        "F1=2×\n",
        "Precision+Recall\n",
        "Precision×Recall\n",
        "​\n",
        "\n",
        "Useful when the dataset is imbalanced.\n",
        "5. Confusion Matrix\n",
        "A table that shows the actual vs. predicted classifications. It includes:\n",
        "True Positives (TP) – Correctly predicted positive cases.\n",
        "True Negatives (TN) – Correctly predicted negative cases.\n",
        "False Positives (FP) – Incorrectly predicted positive cases.\n",
        "False Negatives (FN) – Incorrectly predicted negative cases.\n",
        "6. ROC Curve (Receiver Operating Characteristic)\n",
        "Plots the True Positive Rate (TPR) vs. False Positive Rate (FPR) at various thresholds."
      ],
      "metadata": {
        "id": "Ly-1e5FoYHxP"
      }
    },
    {
      "cell_type": "markdown",
      "source": [],
      "metadata": {
        "id": "HLQU6uHWiU7Q"
      }
    },
    {
      "cell_type": "markdown",
      "source": [
        "**12.How does class imbalance affect Logistic Regression.**\n",
        "\n",
        "Class imbalance significantly affects Logistic Regression and other classification models in several ways:\n",
        "\n",
        "1. Biased Model Towards the Majority Class\n",
        "Logistic Regression minimizes the log-loss function, which can be heavily influenced by the majority class.\n",
        "The model may predict the majority class most of the time, leading to high accuracy but poor recall for the minority class.\n",
        "2. Poor Recall for the Minority Class\n",
        "Since the model is biased towards the majority class, it often fails to correctly classify instances of the minority class.\n",
        "High false negatives can be problematic in applications like fraud detection or medical diagnosis.\n",
        "3. Skewed Decision Boundary\n",
        "The model learns a decision boundary that favors the majority class.\n",
        "This results in fewer correctly classified minority class samples.\n",
        "4. Misleading Performance Metrics\n",
        "Accuracy can be misleading in imbalanced datasets. For example, in a dataset with 95% majority and 5% minority class, predicting all samples as the majority class gives 95% accuracy but is useless for detecting the minority class.\n",
        "Metrics like Precision, Recall, F1-score, and AUC-ROC provide a better evaluation."
      ],
      "metadata": {
        "id": "L3TOAimFYedx"
      }
    },
    {
      "cell_type": "markdown",
      "source": [
        "**13.What is Hyperparameter Tuning in Logistic Regression**\n",
        "\n",
        "Key Hyperparameters in Logistic Regression\n",
        "Penalty (penalty)\n",
        "\n",
        "\n",
        "Regularization technique to prevent overfitting.\n",
        "Options:\n",
        "'l1' (Lasso - feature selection)\n",
        "'l2' (Ridge - weight shrinkage)\n",
        "'elasticnet' (Combination of L1 & L2)\n",
        "'none' (No regularization)\n",
        "Regularization Strength (C)\n",
        "\n",
        "Controls the inverse of regularization strength (smaller C means stronger regularization).\n",
        "Higher values allow more flexibility, while lower values restrict the model.\n",
        "Solver (solver)\n",
        "\n",
        "Determines the optimization algorithm.\n",
        "Options:\n",
        "'lbfgs' (default, good for small to medium datasets)\n",
        "'liblinear' (good for small datasets, supports L1 & L2)\n",
        "'saga' (efficient for large datasets, supports all penalties)\n",
        "Maximum Iterations (max_iter)\n",
        "\n",
        "Number of iterations for convergence.\n",
        "Increase if the model fails to converge.\n",
        "Class Weight (class_weight)\n",
        "\n",
        "Adjusts weight for imbalanced datasets.\n",
        "Options:\n",
        "'balanced' (automatically adjusts based on class frequencies)\n",
        "{0: weight, 1: weight} (custom weight assignment)"
      ],
      "metadata": {
        "id": "-rjwlKhoY9u2"
      }
    },
    {
      "cell_type": "markdown",
      "source": [
        "**14.What are different solvers in Logistic Regression? Which one should be used**\n",
        "\n",
        "Solvers in Logistic Regression\n",
        "Solvers are optimization algorithms used to minimize the loss function in Logistic Regression. Different solvers are optimized for different types of datasets and regularization techniques.\n",
        "\n",
        "1. lbfgs (Limited-memory BFGS)\n",
        "Type: Quasi-Newton method\n",
        "Supports: L2 regularization\n",
        "Best for: Small to medium datasets\n",
        "Pros: Fast and memory-efficient\n",
        "Cons: Does not support L1 regularization\n",
        " Recommended Default Solver (used when no solver is specified)\n",
        "\n",
        "2. liblinear (Library for Large Linear Classification)\n",
        "Type: Coordinate Descent\n",
        "Supports: L1 & L2 regularization\n",
        "Best for: Small datasets & sparse data\n",
        "Pros: Supports both L1 & L2 penalties\n",
        "Cons: Slow for large datasets\n",
        " Use when L1 regularization is needed\n",
        "\n",
        "3. saga (Stochastic Average Gradient)\n",
        "Type: Stochastic Gradient Descent (SGD) variant\n",
        "Supports: L1, L2 & Elastic-Net regularization\n",
        "Best for: Large datasets, sparse data\n",
        "Pros: Handles large datasets efficiently\n",
        "Cons: Requires more tuning (e.g., learning rate)\n",
        " Use for large-scale datasets or when using Elastic-Net\n",
        "\n",
        "4. newton-cg (Newton Conjugate Gradient)\n",
        "Type: Second-order optimization method\n",
        "Supports: L2 regularization\n",
        "Best for: Large datasets with many features\n",
        "Pros: Converges faster than lbfgs for high-dimensional data\n",
        "Cons: More computationally expensive\n",
        " Use when dealing with many features\n",
        "\n",
        "5. sag (Stochastic Average Gradient)\n",
        "Type: First-order stochastic method\n",
        "Supports: L2 regularization\n",
        "Best for: Large datasets\n",
        "Pros: Works well for large datasets with high feature counts\n",
        "Cons: Can struggle with small datasets\n",
        "Use for large datasets with L2 regularization\n",
        "\n"
      ],
      "metadata": {
        "id": "7CXJXi4nZl3M"
      }
    },
    {
      "cell_type": "markdown",
      "source": [
        "**15.How is Logistic Regression extended for multiclass classification.**\n",
        "\n",
        "1. One-vs-Rest (OvR) / One-vs-All (OvA)\n",
        "The most common method.\n",
        "The model trains one classifier per class, treating it as the \"positive\" class while all other classes are \"negative.\"\n",
        "During prediction, the class with the highest probability is chosen.\n",
        "How It Works\n",
        "For a dataset with 3 classes (A, B, C):\n",
        "Model 1: Class A vs. (B & C)\n",
        "Model 2: Class B vs. (A & C)\n",
        "Model 3: Class C vs. (A & B)\n",
        "The model picks the class with the highest predicted probability.\n",
        "\n",
        "2. One-vs-One (OvO)\n",
        "Instead of training one model per class, it trains a model for every pair of classes.\n",
        "For N classes, it trains N*(N-1)/2 binary classifiers.\n",
        "During prediction, it uses a voting system: each classifier votes for a class, and the class with the most votes wins.\n",
        "\n",
        "3. Softmax Regression (Multinomial Logistic Regression)\n",
        "Instead of breaking it into multiple binary problems, it directly predicts one of the classes.\n",
        "\n",
        "Uses the Softmax function to compute probabilities for all classes:\n",
        "\n",
        "𝑃\n",
        "(\n",
        "𝑦\n",
        "=\n",
        "𝑘\n",
        "∣\n",
        "𝑥\n",
        ")\n",
        "=\n",
        "𝑒\n",
        "𝜃\n",
        "𝑘\n",
        "𝑇\n",
        "𝑥\n",
        "∑\n",
        "𝑗\n",
        "=\n",
        "1\n",
        "𝐾\n",
        "𝑒\n",
        "𝜃\n",
        "𝑗\n",
        "𝑇\n",
        "𝑥\n",
        "P(y=k∣x)=\n",
        "∑\n",
        "j=1\n",
        "K\n",
        "​\n",
        " e\n",
        "θ\n",
        "j\n",
        "T\n",
        "​\n",
        " x\n",
        "\n",
        "e\n",
        "θ\n",
        "k\n",
        "T\n",
        "​\n",
        " x\n",
        "\n",
        "​\n",
        "\n",
        "Optimized using cross-entropy loss instead of binary log-loss."
      ],
      "metadata": {
        "id": "any9HRwVaqxJ"
      }
    },
    {
      "cell_type": "markdown",
      "source": [
        " **16.What are the advantages and disadvantages of Logistic Regression**\n",
        "\n",
        "  Advantages of Logistic Regression\n",
        "\n",
        "1. Simple and Interpretable\n",
        "Easy to implement and interpret.\n",
        "The coefficients provide insights into feature importance.\n",
        "2. Computationally Efficient\n",
        "Faster to train compared to complex models like neural networks.\n",
        "Works well with small to medium-sized datasets.\n",
        "3. Works Well with Linearly Separable Data\n",
        "Performs well when classes can be separated with a straight decision boundary.\n",
        "4. Probabilistic Interpretation\n",
        "Outputs probabilities, allowing for better decision-making.\n",
        "Useful in risk assessment (e.g., fraud detection, medical diagnosis).\n",
        "5. Handles Binary and Multiclass Classification\n",
        "Can be extended to multiclass problems using One-vs-Rest (OvR) or Softmax (Multinomial Logistic Regression).\n",
        "6. Regularization Support\n",
        "Supports L1 (Lasso) and L2 (Ridge) regularization to prevent overfitting.\n",
        "\n",
        "Disadvantages of Logistic Regression\n",
        "1. Assumes Linearity\n",
        "Cannot model complex, non-linear relationships between features and target variables.\n",
        "May perform poorly when decision boundaries are non-linear.\n",
        "2. Sensitive to Outliers\n",
        "Outliers can significantly impact the coefficients and decision boundary.\n",
        "3. Not Ideal for High-Dimensional Data\n",
        "Struggles when there are too many features (high-dimensional space).\n",
        "Can lead to overfitting if not regularized properly.\n",
        "4. Requires Feature Engineering\n",
        "Works best when important features are manually selected or transformed.\n",
        "May need polynomial features or interaction terms to improve performance.\n",
        "5. Imbalanced Data Problem\n",
        "Biased towards the majority class in highly imbalanced datasets.\n",
        "Needs techniques like class weighting, SMOTE (oversampling), or threshold tuning.\n",
        "6. Can Struggle with Large Datasets\n",
        "Though efficient, logistic regression may not scale well to massive datasets with millions of records.\n"
      ],
      "metadata": {
        "id": "7r7PUcjpbwDx"
      }
    },
    {
      "cell_type": "markdown",
      "source": [
        "**17.What are some use cases of Logistic Regression**.\n",
        "\n",
        "1. Medical Diagnosis\n",
        "Example: Predicting whether a patient has a disease (Yes/No).\n",
        "Use Case:\n",
        "Cancer detection (e.g., breast cancer classification).\n",
        "Diabetes prediction.\n",
        "Heart disease risk assessment.\n",
        "2. Fraud Detection\n",
        "Example: Detecting fraudulent transactions in banking and e-commerce.\n",
        "Use Case:\n",
        "Credit card fraud detection.\n",
        "Identifying suspicious login attempts.\n",
        "Insurance fraud detection.\n",
        "3. Customer Churn Prediction\n",
        "Example: Predicting whether a customer will stop using a service (Churn/No Churn).\n",
        "Use Case:\n",
        "Telecom companies predicting customer retention.\n",
        "Subscription-based businesses (Netflix, Spotify) reducing churn.\n",
        "E-commerce customer retention strategies.\n",
        "4. Marketing and Advertising\n",
        "Example: Predicting if a user will click on an ad (Click/No Click).\n",
        "Use Case:\n",
        "Email marketing campaigns (predicting open rates).\n",
        "Personalized advertisements (targeted offers).\n",
        "Customer segmentation (classifying high-value customers).\n",
        "5. Credit Scoring and Loan Approval\n",
        "Example: Predicting if a person will default on a loan (Default/No Default).\n",
        "Use Case:\n",
        "Loan approval processes in banks.\n",
        "Assessing creditworthiness using historical data.\n",
        "Mortgage risk assessment.\n",
        "6. Human Resources (HR Analytics)\n",
        "Example: Predicting if an employee will leave the company (Leave/Stay).\n",
        "Use Case:\n",
        "Employee attrition prediction.\n",
        "Identifying factors influencing job satisfaction.\n",
        "Predicting successful hires.\n",
        "7. Spam Detection\n",
        "Example: Classifying emails as spam or not spam.\n",
        "Use Case:\n",
        "Email filtering (Gmail, Outlook).\n",
        "SMS fraud detection.\n",
        "Chatbot moderation (detecting inappropriate messages).\n"
      ],
      "metadata": {
        "id": "DDPE8MUicrMi"
      }
    },
    {
      "cell_type": "markdown",
      "source": [
        "**18.What is the difference between Softmax Regression and Logistic Regression**\n",
        "\n",
        "Number of classes\n",
        "\n",
        "Logistic Regression is used for binary classification, meaning it predicts one of two possible outcomes (e.g., spam vs. not spam).\n",
        "Softmax Regression, also known as Multinomial Logistic Regression, is used for multiclass classification, meaning it predicts one of three or more categories (e.g., classifying images of dogs, cats, and birds).\n",
        "\n",
        "Mathematical Function Used\n",
        "\n",
        "\n",
        "Logistic Regression applies the sigmoid function, which maps values to a range between 0 and 1. This is useful when there are only two classes, as it predicts the probability of one class.\n",
        "Softmax Regression applies the softmax function, which calculates the probability of each class and ensures the probabilities sum to 1. This allows the model to predict multiple classes at once.\n",
        "\n",
        "Decision Making\n",
        "\n",
        "In Logistic Regression, if the predicted probability is greater than 0.5, the model classifies the input into class 1; otherwise, it classifies it as class 0.\n",
        "In Softmax Regression, the model assigns a probability to each possible class, and the class with the highest probability is chosen.\n",
        "Loss Function\n",
        "\n",
        "Logistic Regression uses binary cross-entropy (log loss) to measure error because it deals with two classes.\n",
        "Softmax Regression uses categorical cross-entropy, which is a generalization of log loss for multiple classes.\n"
      ],
      "metadata": {
        "id": "nAl5UuzZdWp2"
      }
    },
    {
      "cell_type": "markdown",
      "source": [
        "**19.How do we choose between One-vs-Rest (OvR) and Softmax for multiclass classification**\n",
        "\n",
        "1. One-vs-Rest (OvR) Approach\n",
        "\n",
        "How It Works\n",
        "\n",
        "Trains one binary classifier per class.\n",
        "Each classifier treats its class as positive (1) and all other classes as negative (0).\n",
        "During prediction, the class with the highest probability wins.\n",
        "\n",
        "When to Choose OvR\n",
        "\n",
        "Small to medium-sized datasets – Since it trains multiple binary models, it performs well when data is limited.\n",
        "\n",
        "Sparse or imbalanced datasets – If some classes have very few samples, OvR works better than Softmax.\n",
        "\n",
        " Faster training for many classes – Because each model only sees a fraction of the data at a time.\n",
        "\n",
        "Works with all solvers – Supports liblinear, lbfgs, saga, etc.\n",
        "\n",
        "Limitations of OvR\n",
        "\n",
        "a. Can be slower during prediction – Since it evaluates multiple classifiers.\n",
        "\n",
        "b. May be less confident in classification – Since it only considers the highest probability and not all probabilities together.\n",
        "\n",
        "2. Softmax (Multinomial Logistic Regression)\n",
        "\n",
        "How It Works\n",
        "\n",
        "Trains a single model that directly predicts probabilities for all classes.\n",
        "Uses the Softmax function to normalize predictions so that all probabilities sum to 1.\n",
        "\n",
        "When to Choose Softmax\n",
        "Large datasets – Since it learns a single model, it performs well when there’s enough data.\n",
        "\n",
        "Better probability calibration – Outputs probabilities for all classes, making it useful for risk-based decisions.\n",
        "\n",
        "More natural extension of logistic regression – Works directly as a multiclass model instead of breaking the problem into multiple binary problems.\n",
        "\n",
        "Faster prediction time – Since only one model is used, it’s faster than OvR during inference.\n",
        "\n",
        "\n",
        "Limitations of Softmax\n",
        "\n",
        " Requires solvers that support multinomial classification – Only works well with lbfgs, newton-cg, or saga.\n",
        "\n",
        " Struggles with highly imbalanced classes – If some classes are much rarer than others, it may not learn well."
      ],
      "metadata": {
        "id": "2LujflkCeW4s"
      }
    },
    {
      "cell_type": "markdown",
      "source": [
        "**20.How do we interpret coefficients in Logistic Regression**\n",
        "\n",
        "1. Understanding the Logistic Regression Equation\n",
        "The logistic regression model is defined as:\n",
        "\n",
        "\n",
        "𝑃\n",
        "(\n",
        "𝑦\n",
        "=\n",
        "1\n",
        "∣\n",
        "𝑋\n",
        ")\n",
        "=\n",
        "1\n",
        "1\n",
        "+\n",
        "𝑒\n",
        "−\n",
        "(\n",
        "𝛽\n",
        "0\n",
        "+\n",
        "𝛽\n",
        "1\n",
        "𝑋\n",
        "1\n",
        "+\n",
        "𝛽\n",
        "2\n",
        "𝑋\n",
        "2\n",
        "+\n",
        ".\n",
        ".\n",
        ".\n",
        "+\n",
        "𝛽\n",
        "𝑛\n",
        "𝑋\n",
        "𝑛\n",
        ")\n",
        "P(y=1∣X)=\n",
        "1+e\n",
        "−(β\n",
        "0\n",
        "​\n",
        " +β\n",
        "1\n",
        "​\n",
        " X\n",
        "1\n",
        "​\n",
        " +β\n",
        "2\n",
        "​\n",
        " X\n",
        "2\n",
        "​\n",
        " +...+β\n",
        "n\n",
        "​\n",
        " X\n",
        "n\n",
        "​\n",
        " )\n",
        "\n",
        "1\n",
        "​\n",
        "\n",
        "𝑃\n",
        "(\n",
        "𝑦\n",
        "=\n",
        "1\n",
        "∣\n",
        "𝑋\n",
        ")\n",
        "P(y=1∣X) is the probability of the positive class.\n",
        "𝛽\n",
        "0\n",
        "β\n",
        "0\n",
        "​\n",
        "  (Intercept) represents the baseline log-odds when all features are zero.\n",
        "𝛽\n",
        "1\n",
        ",\n",
        "𝛽\n",
        "2\n",
        ",\n",
        ".\n",
        ".\n",
        ".\n",
        ",\n",
        "𝛽\n",
        "𝑛\n",
        "β\n",
        "1\n",
        "​\n",
        " ,β\n",
        "2\n",
        "​\n",
        " ,...,β\n",
        "n\n",
        "​\n",
        "  are the coefficients for the corresponding features\n",
        "𝑋\n",
        "1\n",
        ",\n",
        "𝑋\n",
        "2\n",
        ",\n",
        ".\n",
        ".\n",
        ".\n",
        ",\n",
        "𝑋\n",
        "𝑛\n",
        "X\n",
        "1\n",
        "​\n",
        " ,X\n",
        "2\n",
        "​\n",
        " ,...,X\n",
        "n\n",
        "​\n",
        " .\n",
        "The model predicts log-odds, not direct probabilities.\n",
        "2. Interpreting Coefficients in Terms of Log-Odds\n",
        "Each coefficient\n",
        "𝛽\n",
        "𝑖\n",
        "β\n",
        "i\n",
        "​\n",
        "  represents the change in log-odds when the corresponding feature increases by one unit, keeping all other features constant:\n",
        "\n",
        "log-odds\n",
        "=\n",
        "log\n",
        "⁡\n",
        "(\n",
        "𝑃\n",
        "(\n",
        "𝑦\n",
        "=\n",
        "1\n",
        ")\n",
        "1\n",
        "−\n",
        "𝑃\n",
        "(\n",
        "𝑦\n",
        "=\n",
        "1\n",
        ")\n",
        ")\n",
        "=\n",
        "𝛽\n",
        "0\n",
        "+\n",
        "𝛽\n",
        "1\n",
        "𝑋\n",
        "1\n",
        "+\n",
        "𝛽\n",
        "2\n",
        "𝑋\n",
        "2\n",
        "+\n",
        ".\n",
        ".\n",
        ".\n",
        "+\n",
        "𝛽\n",
        "𝑛\n",
        "𝑋\n",
        "𝑛\n",
        "log-odds=log(\n",
        "1−P(y=1)\n",
        "P(y=1)\n",
        "​\n",
        " )=β\n",
        "0\n",
        "​\n",
        " +β\n",
        "1\n",
        "​\n",
        " X\n",
        "1\n",
        "​\n",
        " +β\n",
        "2\n",
        "​\n",
        " X\n",
        "2\n",
        "​\n",
        " +...+β\n",
        "n\n",
        "​\n",
        " X\n",
        "n\n",
        "​\n",
        "\n",
        "If\n",
        "𝛽\n",
        "𝑖\n",
        ">\n",
        "0\n",
        "β\n",
        "i\n",
        "​\n",
        " >0, increasing\n",
        "𝑋\n",
        "𝑖\n",
        "X\n",
        "i\n",
        "​\n",
        "  increases the probability of\n",
        "𝑦\n",
        "=\n",
        "1\n",
        "y=1.\n",
        "If\n",
        "𝛽\n",
        "𝑖\n",
        "<\n",
        "0\n",
        "β\n",
        "i\n",
        "​\n",
        " <0, increasing\n",
        "𝑋\n",
        "𝑖\n",
        "X\n",
        "i\n",
        "​\n",
        "  decreases the probability of\n",
        "𝑦\n",
        "=\n",
        "1\n",
        "y=1.\n",
        "If\n",
        "𝛽\n",
        "𝑖\n",
        "=\n",
        "0\n",
        "β\n",
        "i\n",
        "​\n",
        " =0,\n",
        "𝑋\n",
        "𝑖\n",
        "X\n",
        "i\n",
        "​\n",
        "  has no impact on the outcome.\n",
        "3. Converting Log-Odds to Odds Ratio\n",
        "To make the interpretation easier, we can exponentiate the coefficients to get the odds ratio:\n",
        "\n",
        "𝑒\n",
        "𝛽\n",
        "𝑖\n",
        "e\n",
        "β\n",
        "i\n",
        "​\n",
        "\n",
        "\n",
        "Odds ratio > 1 → Feature increases the odds of\n",
        "𝑦\n",
        "=\n",
        "1\n",
        "y=1.\n",
        "Odds ratio < 1 → Feature decreases the odds of\n",
        "𝑦\n",
        "=\n",
        "1\n",
        "y=1.\n",
        "Odds ratio = 1 → Feature has no effect.\n",
        "Example:\n",
        "If\n",
        "𝛽\n",
        "1\n",
        "=\n",
        "0.7\n",
        "β\n",
        "1\n",
        "​\n",
        " =0.7 for feature\n",
        "𝑋\n",
        "1\n",
        "X\n",
        "1\n",
        "​\n",
        " , the odds ratio is:\n",
        "\n",
        "𝑒\n",
        "0.7\n",
        "≈\n",
        "2.01\n",
        "e\n",
        "0.7\n",
        " ≈2.01\n",
        "This means increasing\n",
        "𝑋\n",
        "1\n",
        "X\n",
        "1\n",
        "​\n",
        "  by one unit makes the positive outcome twice as likely.\n",
        "\n",
        "4. Interpreting Categorical Variables\n",
        "For binary categorical variables (0 or 1), the coefficient compares the effect of 1 vs. 0.\n",
        "For multi-category variables, one category is treated as the \"baseline,\" and other categories are compared to it.\n",
        "Example: If we have education levels (High School, Bachelor's, Master's), one category (e.g., High School) is set as the reference, and coefficients for Bachelor's and Master's compare against it.\n",
        "\n"
      ],
      "metadata": {
        "id": "fn5336ABf9rk"
      }
    },
    {
      "cell_type": "markdown",
      "source": [
        "**Practical question**\n",
        "\n",
        " **1.Write a Python program that loads a dataset, splits it into training and testing sets, applies Logistic\n",
        "Regression, and prints the model accuracy**\n"
      ],
      "metadata": {
        "id": "Y6CggaJRiSq0"
      }
    },
    {
      "cell_type": "code",
      "source": [
        "import numpy as np\n",
        "import pandas as pd\n",
        "from sklearn.model_selection import train_test_split\n",
        "from sklearn.linear_model import LogisticRegression\n",
        "from sklearn.metrics import accuracy_score\n",
        "from sklearn.datasets import load_iris\n",
        "\n",
        "# Load dataset\n",
        "iris = load_iris()\n",
        "X = iris.data  # Features\n",
        "y = iris.target  # Target variable\n",
        "\n",
        "# Split data into training and testing sets (80% train, 20% test)\n",
        "X_train, X_test, y_train, y_test = train_test_split(X, y, test_size=0.2, random_state=42)\n",
        "\n",
        "# Create and train Logistic Regression model\n",
        "model = LogisticRegression(max_iter=200)\n",
        "model.fit(X_train, y_train)\n",
        "\n",
        "# Make predictions\n",
        "y_pred = model.predict(X_test)\n",
        "\n",
        "# Calculate and print accuracy\n",
        "accuracy = accuracy_score(y_test, y_pred)\n",
        "print(f\"Model Accuracy: {accuracy:.2f}\")\n"
      ],
      "metadata": {
        "colab": {
          "base_uri": "https://localhost:8080/"
        },
        "id": "UVfe9OFE0qja",
        "outputId": "5f38408e-c123-4313-99b4-f79fbfd46721"
      },
      "execution_count": 1,
      "outputs": [
        {
          "output_type": "stream",
          "name": "stdout",
          "text": [
            "Model Accuracy: 1.00\n"
          ]
        }
      ]
    },
    {
      "cell_type": "markdown",
      "source": [
        "**2.Write a Python program to apply L1 regularization (Lasso) on a dataset using LogisticRegression(penalty='l1')\n",
        "and print the model accuracy.**\n"
      ],
      "metadata": {
        "id": "-zX88jiJgagJ"
      }
    },
    {
      "cell_type": "code",
      "source": [
        "import numpy as np\n",
        "import pandas as pd\n",
        "from sklearn.model_selection import train_test_split\n",
        "from sklearn.linear_model import LogisticRegression\n",
        "from sklearn.metrics import accuracy_score\n",
        "from sklearn.datasets import load_iris\n",
        "\n",
        "# Load dataset\n",
        "iris = load_iris()\n",
        "X = iris.data  # Features\n",
        "y = iris.target  # Target variable\n",
        "\n",
        "# Split data into training and testing sets (80% train, 20% test)\n",
        "X_train, X_test, y_train, y_test = train_test_split(X, y, test_size=0.2, random_state=42)\n",
        "\n",
        "# Create and train Logistic Regression model with L1 regularization\n",
        "model = LogisticRegression(penalty='l1', solver='liblinear', max_iter=200)\n",
        "model.fit(X_train, y_train)\n",
        "\n",
        "# Make predictions\n",
        "y_pred = model.predict(X_test)\n",
        "\n",
        "# Calculate and print accuracy\n",
        "accuracy = accuracy_score(y_test, y_pred)\n",
        "print(f\"Model Accuracy with L1 Regularization: {accuracy:.2f}\")\n"
      ],
      "metadata": {
        "colab": {
          "base_uri": "https://localhost:8080/"
        },
        "id": "ipgOa-GB1m0Z",
        "outputId": "fd6deb04-9c17-447c-8b4b-c0f423450452"
      },
      "execution_count": 2,
      "outputs": [
        {
          "output_type": "stream",
          "name": "stdout",
          "text": [
            "Model Accuracy with L1 Regularization: 1.00\n"
          ]
        }
      ]
    },
    {
      "cell_type": "markdown",
      "source": [
        "**3.Write a Python program to train Logistic Regression with L2 regularization (Ridge) using\n",
        "LogisticRegression(penalty='l2'). Print model accuracy and coefficients**"
      ],
      "metadata": {
        "id": "IIxkNMUz17t1"
      }
    },
    {
      "cell_type": "code",
      "source": [
        "import numpy as np\n",
        "import pandas as pd\n",
        "from sklearn.model_selection import train_test_split\n",
        "from sklearn.linear_model import LogisticRegression\n",
        "from sklearn.metrics import accuracy_score\n",
        "from sklearn.datasets import load_iris\n",
        "\n",
        "# Load dataset\n",
        "iris = load_iris()\n",
        "X = iris.data  # Features\n",
        "y = iris.target  # Target variable\n",
        "\n",
        "# Split data into training and testing sets (80% train, 20% test)\n",
        "X_train, X_test, y_train, y_test = train_test_split(X, y, test_size=0.2, random_state=42)\n",
        "\n",
        "# Create and train Logistic Regression model with L2 regularization\n",
        "model = LogisticRegression(penalty='l2', solver='liblinear', max_iter=200)\n",
        "model.fit(X_train, y_train)\n",
        "\n",
        "# Make predictions\n",
        "y_pred = model.predict(X_test)\n",
        "\n",
        "# Calculate and print accuracy\n",
        "accuracy = accuracy_score(y_test, y_pred)\n",
        "print(f\"Model Accuracy with L2 Regularization: {accuracy:.2f}\")\n",
        "\n",
        "# Print model coefficients\n",
        "print(\"Model Coefficients:\")\n",
        "print(model.coef_)\n"
      ],
      "metadata": {
        "colab": {
          "base_uri": "https://localhost:8080/"
        },
        "id": "EuxsgZ902O2e",
        "outputId": "e03126d8-d8ec-4166-c112-d08fa10196db"
      },
      "execution_count": 3,
      "outputs": [
        {
          "output_type": "stream",
          "name": "stdout",
          "text": [
            "Model Accuracy with L2 Regularization: 1.00\n",
            "Model Coefficients:\n",
            "[[ 0.3711229   1.409712   -2.15210117 -0.95474179]\n",
            " [ 0.49400451 -1.58897112  0.43717015 -1.11187838]\n",
            " [-1.55895271 -1.58893375  2.39874554  2.15556209]]\n"
          ]
        }
      ]
    },
    {
      "cell_type": "markdown",
      "source": [
        " **4.Write a Python program to train Logistic Regression with Elastic Net Regularization (penalty='elasticnet')**"
      ],
      "metadata": {
        "id": "1KTcH9ZY2-LS"
      }
    },
    {
      "cell_type": "code",
      "source": [
        "import numpy as np\n",
        "import pandas as pd\n",
        "from sklearn.model_selection import train_test_split\n",
        "from sklearn.linear_model import LogisticRegression\n",
        "from sklearn.metrics import accuracy_score\n",
        "from sklearn.datasets import load_iris\n",
        "\n",
        "# Load dataset\n",
        "iris = load_iris()\n",
        "X = iris.data  # Features\n",
        "y = iris.target  # Target variable\n",
        "\n",
        "# Split data into training and testing sets (80% train, 20% test)\n",
        "X_train, X_test, y_train, y_test = train_test_split(X, y, test_size=0.2, random_state=42)\n",
        "\n",
        "# Create and train Logistic Regression model with Elastic Net Regularization\n",
        "model = LogisticRegression(penalty='elasticnet', solver='saga', l1_ratio=0.5, max_iter=200)\n",
        "model.fit(X_train, y_train)\n",
        "\n",
        "# Make predictions\n",
        "y_pred = model.predict(X_test)\n",
        "\n",
        "# Calculate and print accuracy\n",
        "accuracy = accuracy_score(y_test, y_pred)\n",
        "print(f\"Model Accuracy with Elastic Net Regularization: {accuracy:.2f}\")\n",
        "\n",
        "# Print model coefficients\n",
        "print(\"Model Coefficients:\")\n",
        "print(model.coef_)\n"
      ],
      "metadata": {
        "colab": {
          "base_uri": "https://localhost:8080/"
        },
        "id": "gWZAMqQb3Vjt",
        "outputId": "d01926f5-4d5b-4249-a7f7-ee0173905f09"
      },
      "execution_count": 4,
      "outputs": [
        {
          "output_type": "stream",
          "name": "stdout",
          "text": [
            "Model Accuracy with Elastic Net Regularization: 1.00\n",
            "Model Coefficients:\n",
            "[[ 0.38785843  1.77302419 -2.42118252 -0.70679822]\n",
            " [ 0.07661753  0.          0.         -0.57945667]\n",
            " [-1.25818571 -1.52721845  2.59659735  2.08050785]]\n"
          ]
        },
        {
          "output_type": "stream",
          "name": "stderr",
          "text": [
            "/usr/local/lib/python3.11/dist-packages/sklearn/linear_model/_sag.py:348: ConvergenceWarning: The max_iter was reached which means the coef_ did not converge\n",
            "  warnings.warn(\n"
          ]
        }
      ]
    },
    {
      "cell_type": "markdown",
      "source": [
        "**5.Write a Python program to train a Logistic Regression model for multiclass classification using\n",
        "multi_class='ovr**"
      ],
      "metadata": {
        "id": "ro_JpJ-237ay"
      }
    },
    {
      "cell_type": "code",
      "source": [
        "import numpy as np\n",
        "import pandas as pd\n",
        "from sklearn.model_selection import train_test_split\n",
        "from sklearn.linear_model import LogisticRegression\n",
        "from sklearn.metrics import accuracy_score\n",
        "from sklearn.datasets import load_iris\n",
        "\n",
        "# Load dataset\n",
        "iris = load_iris()\n",
        "X = iris.data  # Features\n",
        "y = iris.target  # Target variable\n",
        "\n",
        "# Split data into training and testing sets (80% train, 20% test)\n",
        "X_train, X_test, y_train, y_test = train_test_split(X, y, test_size=0.2, random_state=42)\n",
        "\n",
        "# Create and train Logistic Regression model for multiclass classification using OvR\n",
        "model = LogisticRegression(multi_class='ovr', solver='liblinear', max_iter=200)\n",
        "model.fit(X_train, y_train)\n",
        "\n",
        "# Make predictions\n",
        "y_pred = model.predict(X_test)\n",
        "\n",
        "# Calculate and print accuracy\n",
        "accuracy = accuracy_score(y_test, y_pred)\n",
        "print(f\"Model Accuracy with One-vs-Rest (OvR) Multiclass Classification: {accuracy:.2f}\")\n",
        "\n",
        "# Print model coefficients\n",
        "print(\"Model Coefficients:\")\n",
        "print(model.coef_)\n"
      ],
      "metadata": {
        "colab": {
          "base_uri": "https://localhost:8080/"
        },
        "id": "5FylVE3p4TpE",
        "outputId": "9af2437f-e49c-4c04-e7ca-b190ef588995"
      },
      "execution_count": 5,
      "outputs": [
        {
          "output_type": "stream",
          "name": "stdout",
          "text": [
            "Model Accuracy with One-vs-Rest (OvR) Multiclass Classification: 1.00\n",
            "Model Coefficients:\n",
            "[[ 0.3711229   1.409712   -2.15210117 -0.95474179]\n",
            " [ 0.49400451 -1.58897112  0.43717015 -1.11187838]\n",
            " [-1.55895271 -1.58893375  2.39874554  2.15556209]]\n"
          ]
        },
        {
          "output_type": "stream",
          "name": "stderr",
          "text": [
            "/usr/local/lib/python3.11/dist-packages/sklearn/linear_model/_logistic.py:1256: FutureWarning: 'multi_class' was deprecated in version 1.5 and will be removed in 1.7. Use OneVsRestClassifier(LogisticRegression(..)) instead. Leave it to its default value to avoid this warning.\n",
            "  warnings.warn(\n"
          ]
        }
      ]
    },
    {
      "cell_type": "markdown",
      "source": [
        "**6. Write a Python program to apply GridSearchCV to tune the hyperparameters (C and penalty) of Logistic\n",
        "Regression. Print the best parameters and accuracy**"
      ],
      "metadata": {
        "id": "81Iev8LG4pDT"
      }
    },
    {
      "cell_type": "code",
      "source": [
        "import numpy as np\n",
        "import pandas as pd\n",
        "from sklearn.model_selection import train_test_split, GridSearchCV\n",
        "from sklearn.linear_model import LogisticRegression\n",
        "from sklearn.metrics import accuracy_score\n",
        "from sklearn.datasets import load_iris\n",
        "\n",
        "# Load dataset\n",
        "iris = load_iris()\n",
        "X = iris.data  # Features\n",
        "y = iris.target  # Target variable\n",
        "\n",
        "# Split data into training and testing sets (80% train, 20% test)\n",
        "X_train, X_test, y_train, y_test = train_test_split(X, y, test_size=0.2, random_state=42)\n",
        "\n",
        "# Define Logistic Regression model\n",
        "model = LogisticRegression(solver='saga', max_iter=200)\n",
        "\n",
        "# Define hyperparameter grid\n",
        "param_grid = {\n",
        "    'C': [0.01, 0.1, 1, 10, 100],\n",
        "    'penalty': ['l1', 'l2', 'elasticnet', None],\n",
        "    'l1_ratio': [0.2, 0.5, 0.8]  # Only used for elasticnet\n",
        "}\n",
        "\n",
        "# Apply GridSearchCV\n",
        "grid_search = GridSearchCV(model, param_grid, cv=5, scoring='accuracy', n_jobs=-1, refit=True)\n",
        "grid_search.fit(X_train, y_train)\n",
        "\n",
        "# Get best parameters and best model\n",
        "best_params = grid_search.best_params_\n",
        "best_model = grid_search.best_estimator_\n",
        "\n",
        "# Make predictions using the best model\n",
        "y_pred = best_model.predict(X_test)\n",
        "\n",
        "# Calculate and print accuracy\n",
        "accuracy = accuracy_score(y_test, y_pred)\n",
        "print(f\"Best Parameters: {best_params}\")\n",
        "print(f\"Best Model Accuracy: {accuracy:.2f}\")\n"
      ],
      "metadata": {
        "colab": {
          "base_uri": "https://localhost:8080/"
        },
        "id": "Z7WI-U_R4ngK",
        "outputId": "2ddfb434-556e-4fee-8b51-a94766ef957e"
      },
      "execution_count": 6,
      "outputs": [
        {
          "output_type": "stream",
          "name": "stdout",
          "text": [
            "Best Parameters: {'C': 1, 'l1_ratio': 0.2, 'penalty': 'l1'}\n",
            "Best Model Accuracy: 1.00\n"
          ]
        },
        {
          "output_type": "stream",
          "name": "stderr",
          "text": [
            "/usr/local/lib/python3.11/dist-packages/sklearn/linear_model/_logistic.py:1196: UserWarning: l1_ratio parameter is only used when penalty is 'elasticnet'. Got (penalty=l1)\n",
            "  warnings.warn(\n",
            "/usr/local/lib/python3.11/dist-packages/sklearn/linear_model/_sag.py:348: ConvergenceWarning: The max_iter was reached which means the coef_ did not converge\n",
            "  warnings.warn(\n"
          ]
        }
      ]
    },
    {
      "cell_type": "markdown",
      "source": [
        "**7.Write a Python program to evaluate Logistic Regression using Stratified K-Fold Cross-Validation. Print the\n",
        "average accuracy.**"
      ],
      "metadata": {
        "id": "l27QFSif5qDO"
      }
    },
    {
      "cell_type": "code",
      "source": [
        "import numpy as np\n",
        "import pandas as pd\n",
        "from sklearn.model_selection import train_test_split, GridSearchCV, StratifiedKFold, cross_val_score\n",
        "from sklearn.linear_model import LogisticRegression\n",
        "from sklearn.metrics import accuracy_score\n",
        "from sklearn.datasets import load_iris\n",
        "\n",
        "# Load dataset\n",
        "iris = load_iris()\n",
        "X = iris.data  # Features\n",
        "y = iris.target  # Target variable\n",
        "\n",
        "# Split data into training and testing sets (80% train, 20% test)\n",
        "X_train, X_test, y_train, y_test = train_test_split(X, y, test_size=0.2, random_state=42)\n",
        "\n",
        "# Define Logistic Regression model\n",
        "model = LogisticRegression(solver='saga', max_iter=200)\n",
        "\n",
        "# Define Stratified K-Fold Cross-Validation\n",
        "skf = StratifiedKFold(n_splits=5, shuffle=True, random_state=42)\n",
        "\n",
        "# Perform cross-validation\n",
        "cv_scores = cross_val_score(model, X_train, y_train, cv=skf, scoring='accuracy')\n",
        "\n",
        "# Print average accuracy\n",
        "print(f\"Average Accuracy with Stratified K-Fold Cross-Validation: {np.mean(cv_scores):.2f}\")\n"
      ],
      "metadata": {
        "colab": {
          "base_uri": "https://localhost:8080/"
        },
        "id": "rom_LtqK6DjT",
        "outputId": "234acbb7-eee4-48d7-a403-53e17556724e"
      },
      "execution_count": 7,
      "outputs": [
        {
          "output_type": "stream",
          "name": "stdout",
          "text": [
            "Average Accuracy with Stratified K-Fold Cross-Validation: 0.97\n"
          ]
        },
        {
          "output_type": "stream",
          "name": "stderr",
          "text": [
            "/usr/local/lib/python3.11/dist-packages/sklearn/linear_model/_sag.py:348: ConvergenceWarning: The max_iter was reached which means the coef_ did not converge\n",
            "  warnings.warn(\n",
            "/usr/local/lib/python3.11/dist-packages/sklearn/linear_model/_sag.py:348: ConvergenceWarning: The max_iter was reached which means the coef_ did not converge\n",
            "  warnings.warn(\n",
            "/usr/local/lib/python3.11/dist-packages/sklearn/linear_model/_sag.py:348: ConvergenceWarning: The max_iter was reached which means the coef_ did not converge\n",
            "  warnings.warn(\n",
            "/usr/local/lib/python3.11/dist-packages/sklearn/linear_model/_sag.py:348: ConvergenceWarning: The max_iter was reached which means the coef_ did not converge\n",
            "  warnings.warn(\n",
            "/usr/local/lib/python3.11/dist-packages/sklearn/linear_model/_sag.py:348: ConvergenceWarning: The max_iter was reached which means the coef_ did not converge\n",
            "  warnings.warn(\n"
          ]
        }
      ]
    },
    {
      "cell_type": "markdown",
      "source": [
        "**8. Write a Python program to load a dataset from a CSV file, apply Logistic Regression, and evaluate its\n",
        "accuracy.**"
      ],
      "metadata": {
        "id": "SD6WDDzc6q9u"
      }
    },
    {
      "cell_type": "code",
      "source": [
        "import numpy as np\n",
        "import pandas as pd\n",
        "from sklearn.model_selection import train_test_split, StratifiedKFold, cross_val_score\n",
        "from sklearn.linear_model import LogisticRegression\n",
        "from sklearn.metrics import accuracy_score\n",
        "\n",
        "# Load dataset from CSV file\n",
        "def load_data(csv_file):\n",
        "    data = pd.read_csv(csv_file)\n",
        "    X = data.iloc[:, :-1].values  # Features (all columns except last)\n",
        "    y = data.iloc[:, -1].values   # Target variable (last column)\n",
        "    return X, y\n",
        "\n",
        "# Load dataset\n",
        "csv_file = \"data.csv\"  # Replace with actual CSV file path\n",
        "X, y = load_data(csv_file)\n",
        "\n",
        "# Split data into training and testing sets (80% train, 20% test)\n",
        "X_train, X_test, y_train, y_test = train_test_split(X, y, test_size=0.2, random_state=42)\n",
        "\n",
        "# Define and train Logistic Regression model\n",
        "model = LogisticRegression(solver='saga', max_iter=200)\n",
        "model.fit(X_train, y_train)\n",
        "\n",
        "# Make predictions\n",
        "y_pred = model.predict(X_test)\n",
        "\n",
        "# Calculate and print accuracy\n",
        "accuracy = accuracy_score(y_test, y_pred)\n",
        "print(f\"Model Accuracy: {accuracy:.2f}\")\n"
      ],
      "metadata": {
        "colab": {
          "base_uri": "https://localhost:8080/",
          "height": 370
        },
        "id": "LqQMLq2v6y1g",
        "outputId": "c7fca5e0-ada4-4f17-b70a-a22696848371"
      },
      "execution_count": 8,
      "outputs": [
        {
          "output_type": "error",
          "ename": "FileNotFoundError",
          "evalue": "[Errno 2] No such file or directory: 'data.csv'",
          "traceback": [
            "\u001b[0;31m---------------------------------------------------------------------------\u001b[0m",
            "\u001b[0;31mFileNotFoundError\u001b[0m                         Traceback (most recent call last)",
            "\u001b[0;32m<ipython-input-8-f4a2f51cc0e3>\u001b[0m in \u001b[0;36m<cell line: 0>\u001b[0;34m()\u001b[0m\n\u001b[1;32m     14\u001b[0m \u001b[0;31m# Load dataset\u001b[0m\u001b[0;34m\u001b[0m\u001b[0;34m\u001b[0m\u001b[0m\n\u001b[1;32m     15\u001b[0m \u001b[0mcsv_file\u001b[0m \u001b[0;34m=\u001b[0m \u001b[0;34m\"data.csv\"\u001b[0m  \u001b[0;31m# Replace with actual CSV file path\u001b[0m\u001b[0;34m\u001b[0m\u001b[0;34m\u001b[0m\u001b[0m\n\u001b[0;32m---> 16\u001b[0;31m \u001b[0mX\u001b[0m\u001b[0;34m,\u001b[0m \u001b[0my\u001b[0m \u001b[0;34m=\u001b[0m \u001b[0mload_data\u001b[0m\u001b[0;34m(\u001b[0m\u001b[0mcsv_file\u001b[0m\u001b[0;34m)\u001b[0m\u001b[0;34m\u001b[0m\u001b[0;34m\u001b[0m\u001b[0m\n\u001b[0m\u001b[1;32m     17\u001b[0m \u001b[0;34m\u001b[0m\u001b[0m\n\u001b[1;32m     18\u001b[0m \u001b[0;31m# Split data into training and testing sets (80% train, 20% test)\u001b[0m\u001b[0;34m\u001b[0m\u001b[0;34m\u001b[0m\u001b[0m\n",
            "\u001b[0;32m<ipython-input-8-f4a2f51cc0e3>\u001b[0m in \u001b[0;36mload_data\u001b[0;34m(csv_file)\u001b[0m\n\u001b[1;32m      7\u001b[0m \u001b[0;31m# Load dataset from CSV file\u001b[0m\u001b[0;34m\u001b[0m\u001b[0;34m\u001b[0m\u001b[0m\n\u001b[1;32m      8\u001b[0m \u001b[0;32mdef\u001b[0m \u001b[0mload_data\u001b[0m\u001b[0;34m(\u001b[0m\u001b[0mcsv_file\u001b[0m\u001b[0;34m)\u001b[0m\u001b[0;34m:\u001b[0m\u001b[0;34m\u001b[0m\u001b[0;34m\u001b[0m\u001b[0m\n\u001b[0;32m----> 9\u001b[0;31m     \u001b[0mdata\u001b[0m \u001b[0;34m=\u001b[0m \u001b[0mpd\u001b[0m\u001b[0;34m.\u001b[0m\u001b[0mread_csv\u001b[0m\u001b[0;34m(\u001b[0m\u001b[0mcsv_file\u001b[0m\u001b[0;34m)\u001b[0m\u001b[0;34m\u001b[0m\u001b[0;34m\u001b[0m\u001b[0m\n\u001b[0m\u001b[1;32m     10\u001b[0m     \u001b[0mX\u001b[0m \u001b[0;34m=\u001b[0m \u001b[0mdata\u001b[0m\u001b[0;34m.\u001b[0m\u001b[0miloc\u001b[0m\u001b[0;34m[\u001b[0m\u001b[0;34m:\u001b[0m\u001b[0;34m,\u001b[0m \u001b[0;34m:\u001b[0m\u001b[0;34m-\u001b[0m\u001b[0;36m1\u001b[0m\u001b[0;34m]\u001b[0m\u001b[0;34m.\u001b[0m\u001b[0mvalues\u001b[0m  \u001b[0;31m# Features (all columns except last)\u001b[0m\u001b[0;34m\u001b[0m\u001b[0;34m\u001b[0m\u001b[0m\n\u001b[1;32m     11\u001b[0m     \u001b[0my\u001b[0m \u001b[0;34m=\u001b[0m \u001b[0mdata\u001b[0m\u001b[0;34m.\u001b[0m\u001b[0miloc\u001b[0m\u001b[0;34m[\u001b[0m\u001b[0;34m:\u001b[0m\u001b[0;34m,\u001b[0m \u001b[0;34m-\u001b[0m\u001b[0;36m1\u001b[0m\u001b[0;34m]\u001b[0m\u001b[0;34m.\u001b[0m\u001b[0mvalues\u001b[0m   \u001b[0;31m# Target variable (last column)\u001b[0m\u001b[0;34m\u001b[0m\u001b[0;34m\u001b[0m\u001b[0m\n",
            "\u001b[0;32m/usr/local/lib/python3.11/dist-packages/pandas/io/parsers/readers.py\u001b[0m in \u001b[0;36mread_csv\u001b[0;34m(filepath_or_buffer, sep, delimiter, header, names, index_col, usecols, dtype, engine, converters, true_values, false_values, skipinitialspace, skiprows, skipfooter, nrows, na_values, keep_default_na, na_filter, verbose, skip_blank_lines, parse_dates, infer_datetime_format, keep_date_col, date_parser, date_format, dayfirst, cache_dates, iterator, chunksize, compression, thousands, decimal, lineterminator, quotechar, quoting, doublequote, escapechar, comment, encoding, encoding_errors, dialect, on_bad_lines, delim_whitespace, low_memory, memory_map, float_precision, storage_options, dtype_backend)\u001b[0m\n\u001b[1;32m   1024\u001b[0m     \u001b[0mkwds\u001b[0m\u001b[0;34m.\u001b[0m\u001b[0mupdate\u001b[0m\u001b[0;34m(\u001b[0m\u001b[0mkwds_defaults\u001b[0m\u001b[0;34m)\u001b[0m\u001b[0;34m\u001b[0m\u001b[0;34m\u001b[0m\u001b[0m\n\u001b[1;32m   1025\u001b[0m \u001b[0;34m\u001b[0m\u001b[0m\n\u001b[0;32m-> 1026\u001b[0;31m     \u001b[0;32mreturn\u001b[0m \u001b[0m_read\u001b[0m\u001b[0;34m(\u001b[0m\u001b[0mfilepath_or_buffer\u001b[0m\u001b[0;34m,\u001b[0m \u001b[0mkwds\u001b[0m\u001b[0;34m)\u001b[0m\u001b[0;34m\u001b[0m\u001b[0;34m\u001b[0m\u001b[0m\n\u001b[0m\u001b[1;32m   1027\u001b[0m \u001b[0;34m\u001b[0m\u001b[0m\n\u001b[1;32m   1028\u001b[0m \u001b[0;34m\u001b[0m\u001b[0m\n",
            "\u001b[0;32m/usr/local/lib/python3.11/dist-packages/pandas/io/parsers/readers.py\u001b[0m in \u001b[0;36m_read\u001b[0;34m(filepath_or_buffer, kwds)\u001b[0m\n\u001b[1;32m    618\u001b[0m \u001b[0;34m\u001b[0m\u001b[0m\n\u001b[1;32m    619\u001b[0m     \u001b[0;31m# Create the parser.\u001b[0m\u001b[0;34m\u001b[0m\u001b[0;34m\u001b[0m\u001b[0m\n\u001b[0;32m--> 620\u001b[0;31m     \u001b[0mparser\u001b[0m \u001b[0;34m=\u001b[0m \u001b[0mTextFileReader\u001b[0m\u001b[0;34m(\u001b[0m\u001b[0mfilepath_or_buffer\u001b[0m\u001b[0;34m,\u001b[0m \u001b[0;34m**\u001b[0m\u001b[0mkwds\u001b[0m\u001b[0;34m)\u001b[0m\u001b[0;34m\u001b[0m\u001b[0;34m\u001b[0m\u001b[0m\n\u001b[0m\u001b[1;32m    621\u001b[0m \u001b[0;34m\u001b[0m\u001b[0m\n\u001b[1;32m    622\u001b[0m     \u001b[0;32mif\u001b[0m \u001b[0mchunksize\u001b[0m \u001b[0;32mor\u001b[0m \u001b[0miterator\u001b[0m\u001b[0;34m:\u001b[0m\u001b[0;34m\u001b[0m\u001b[0;34m\u001b[0m\u001b[0m\n",
            "\u001b[0;32m/usr/local/lib/python3.11/dist-packages/pandas/io/parsers/readers.py\u001b[0m in \u001b[0;36m__init__\u001b[0;34m(self, f, engine, **kwds)\u001b[0m\n\u001b[1;32m   1618\u001b[0m \u001b[0;34m\u001b[0m\u001b[0m\n\u001b[1;32m   1619\u001b[0m         \u001b[0mself\u001b[0m\u001b[0;34m.\u001b[0m\u001b[0mhandles\u001b[0m\u001b[0;34m:\u001b[0m \u001b[0mIOHandles\u001b[0m \u001b[0;34m|\u001b[0m \u001b[0;32mNone\u001b[0m \u001b[0;34m=\u001b[0m \u001b[0;32mNone\u001b[0m\u001b[0;34m\u001b[0m\u001b[0;34m\u001b[0m\u001b[0m\n\u001b[0;32m-> 1620\u001b[0;31m         \u001b[0mself\u001b[0m\u001b[0;34m.\u001b[0m\u001b[0m_engine\u001b[0m \u001b[0;34m=\u001b[0m \u001b[0mself\u001b[0m\u001b[0;34m.\u001b[0m\u001b[0m_make_engine\u001b[0m\u001b[0;34m(\u001b[0m\u001b[0mf\u001b[0m\u001b[0;34m,\u001b[0m \u001b[0mself\u001b[0m\u001b[0;34m.\u001b[0m\u001b[0mengine\u001b[0m\u001b[0;34m)\u001b[0m\u001b[0;34m\u001b[0m\u001b[0;34m\u001b[0m\u001b[0m\n\u001b[0m\u001b[1;32m   1621\u001b[0m \u001b[0;34m\u001b[0m\u001b[0m\n\u001b[1;32m   1622\u001b[0m     \u001b[0;32mdef\u001b[0m \u001b[0mclose\u001b[0m\u001b[0;34m(\u001b[0m\u001b[0mself\u001b[0m\u001b[0;34m)\u001b[0m \u001b[0;34m->\u001b[0m \u001b[0;32mNone\u001b[0m\u001b[0;34m:\u001b[0m\u001b[0;34m\u001b[0m\u001b[0;34m\u001b[0m\u001b[0m\n",
            "\u001b[0;32m/usr/local/lib/python3.11/dist-packages/pandas/io/parsers/readers.py\u001b[0m in \u001b[0;36m_make_engine\u001b[0;34m(self, f, engine)\u001b[0m\n\u001b[1;32m   1878\u001b[0m                 \u001b[0;32mif\u001b[0m \u001b[0;34m\"b\"\u001b[0m \u001b[0;32mnot\u001b[0m \u001b[0;32min\u001b[0m \u001b[0mmode\u001b[0m\u001b[0;34m:\u001b[0m\u001b[0;34m\u001b[0m\u001b[0;34m\u001b[0m\u001b[0m\n\u001b[1;32m   1879\u001b[0m                     \u001b[0mmode\u001b[0m \u001b[0;34m+=\u001b[0m \u001b[0;34m\"b\"\u001b[0m\u001b[0;34m\u001b[0m\u001b[0;34m\u001b[0m\u001b[0m\n\u001b[0;32m-> 1880\u001b[0;31m             self.handles = get_handle(\n\u001b[0m\u001b[1;32m   1881\u001b[0m                 \u001b[0mf\u001b[0m\u001b[0;34m,\u001b[0m\u001b[0;34m\u001b[0m\u001b[0;34m\u001b[0m\u001b[0m\n\u001b[1;32m   1882\u001b[0m                 \u001b[0mmode\u001b[0m\u001b[0;34m,\u001b[0m\u001b[0;34m\u001b[0m\u001b[0;34m\u001b[0m\u001b[0m\n",
            "\u001b[0;32m/usr/local/lib/python3.11/dist-packages/pandas/io/common.py\u001b[0m in \u001b[0;36mget_handle\u001b[0;34m(path_or_buf, mode, encoding, compression, memory_map, is_text, errors, storage_options)\u001b[0m\n\u001b[1;32m    871\u001b[0m         \u001b[0;32mif\u001b[0m \u001b[0mioargs\u001b[0m\u001b[0;34m.\u001b[0m\u001b[0mencoding\u001b[0m \u001b[0;32mand\u001b[0m \u001b[0;34m\"b\"\u001b[0m \u001b[0;32mnot\u001b[0m \u001b[0;32min\u001b[0m \u001b[0mioargs\u001b[0m\u001b[0;34m.\u001b[0m\u001b[0mmode\u001b[0m\u001b[0;34m:\u001b[0m\u001b[0;34m\u001b[0m\u001b[0;34m\u001b[0m\u001b[0m\n\u001b[1;32m    872\u001b[0m             \u001b[0;31m# Encoding\u001b[0m\u001b[0;34m\u001b[0m\u001b[0;34m\u001b[0m\u001b[0m\n\u001b[0;32m--> 873\u001b[0;31m             handle = open(\n\u001b[0m\u001b[1;32m    874\u001b[0m                 \u001b[0mhandle\u001b[0m\u001b[0;34m,\u001b[0m\u001b[0;34m\u001b[0m\u001b[0;34m\u001b[0m\u001b[0m\n\u001b[1;32m    875\u001b[0m                 \u001b[0mioargs\u001b[0m\u001b[0;34m.\u001b[0m\u001b[0mmode\u001b[0m\u001b[0;34m,\u001b[0m\u001b[0;34m\u001b[0m\u001b[0;34m\u001b[0m\u001b[0m\n",
            "\u001b[0;31mFileNotFoundError\u001b[0m: [Errno 2] No such file or directory: 'data.csv'"
          ]
        }
      ]
    },
    {
      "cell_type": "markdown",
      "source": [
        "**9.Write a Python program to apply RandomizedSearchCV for tuning hyperparameters (C, penalty, solver) in\n",
        "Logistic Regression. Print the best parameters and accuracy**"
      ],
      "metadata": {
        "id": "0GHFgQbX7x9P"
      }
    },
    {
      "cell_type": "code",
      "source": [
        "import numpy as np\n",
        "import pandas as pd\n",
        "from sklearn.model_selection import train_test_split, RandomizedSearchCV\n",
        "from sklearn.linear_model import LogisticRegression\n",
        "from sklearn.metrics import accuracy_score\n",
        "from scipy.stats import uniform\n",
        "\n",
        "# Load dataset from CSV file\n",
        "def load_data(csv_file):\n",
        "    data = pd.read_csv(csv_file)\n",
        "    X = data.iloc[:, :-1].values  # Features (all columns except last)\n",
        "    y = data.iloc[:, -1].values   # Target variable (last column)\n",
        "    return X, y\n",
        "\n",
        "# Load dataset\n",
        "csv_file = \"data.csv\"  # Replace with actual CSV file path\n",
        "X, y = load_data(csv_file)\n",
        "\n",
        "# Split data into training and testing sets (80% train, 20% test)\n",
        "X_train, X_test, y_train, y_test = train_test_split(X, y, test_size=0.2, random_state=42)\n",
        "\n",
        "# Define Logistic Regression model\n",
        "model = LogisticRegression(max_iter=200)\n",
        "\n",
        "# Define hyperparameter grid\n",
        "param_dist = {\n",
        "    'C': uniform(0.01, 10),\n",
        "    'penalty': ['l1', 'l2', 'elasticnet', None],\n",
        "    'solver': ['liblinear', 'saga'],\n",
        "    'l1_ratio': [0.2, 0.5, 0.8]  # Only used for elasticnet\n",
        "}\n",
        "\n",
        "# Apply RandomizedSearchCV\n",
        "random_search = RandomizedSearchCV(model, param_distributions=param_dist, n_iter=20, cv=5, scoring='accuracy', n_jobs=-1, random_state=42, refit=True)\n",
        "random_search.fit(X_train, y_train)\n",
        "\n",
        "# Get best parameters and best model\n",
        "best_params = random_search.best_params_\n",
        "best_model = random_search.best_estimator_\n",
        "\n",
        "# Make predictions using the best model\n",
        "y_pred = best_model.predict(X_test)\n",
        "\n",
        "# Calculate and print accuracy\n",
        "accuracy = accuracy_score(y_test, y_pred)\n",
        "print(f\"Best Parameters: {best_params}\")\n",
        "print(f\"Best Model Accuracy: {accuracy:.2f}\")\n"
      ],
      "metadata": {
        "colab": {
          "base_uri": "https://localhost:8080/",
          "height": 370
        },
        "id": "79-ciTFO76RV",
        "outputId": "5f702e6d-a3a7-448f-e2ed-4dbf4fb6f853"
      },
      "execution_count": 9,
      "outputs": [
        {
          "output_type": "error",
          "ename": "FileNotFoundError",
          "evalue": "[Errno 2] No such file or directory: 'data.csv'",
          "traceback": [
            "\u001b[0;31m---------------------------------------------------------------------------\u001b[0m",
            "\u001b[0;31mFileNotFoundError\u001b[0m                         Traceback (most recent call last)",
            "\u001b[0;32m<ipython-input-9-c0ffc0f5c3cd>\u001b[0m in \u001b[0;36m<cell line: 0>\u001b[0;34m()\u001b[0m\n\u001b[1;32m     15\u001b[0m \u001b[0;31m# Load dataset\u001b[0m\u001b[0;34m\u001b[0m\u001b[0;34m\u001b[0m\u001b[0m\n\u001b[1;32m     16\u001b[0m \u001b[0mcsv_file\u001b[0m \u001b[0;34m=\u001b[0m \u001b[0;34m\"data.csv\"\u001b[0m  \u001b[0;31m# Replace with actual CSV file path\u001b[0m\u001b[0;34m\u001b[0m\u001b[0;34m\u001b[0m\u001b[0m\n\u001b[0;32m---> 17\u001b[0;31m \u001b[0mX\u001b[0m\u001b[0;34m,\u001b[0m \u001b[0my\u001b[0m \u001b[0;34m=\u001b[0m \u001b[0mload_data\u001b[0m\u001b[0;34m(\u001b[0m\u001b[0mcsv_file\u001b[0m\u001b[0;34m)\u001b[0m\u001b[0;34m\u001b[0m\u001b[0;34m\u001b[0m\u001b[0m\n\u001b[0m\u001b[1;32m     18\u001b[0m \u001b[0;34m\u001b[0m\u001b[0m\n\u001b[1;32m     19\u001b[0m \u001b[0;31m# Split data into training and testing sets (80% train, 20% test)\u001b[0m\u001b[0;34m\u001b[0m\u001b[0;34m\u001b[0m\u001b[0m\n",
            "\u001b[0;32m<ipython-input-9-c0ffc0f5c3cd>\u001b[0m in \u001b[0;36mload_data\u001b[0;34m(csv_file)\u001b[0m\n\u001b[1;32m      8\u001b[0m \u001b[0;31m# Load dataset from CSV file\u001b[0m\u001b[0;34m\u001b[0m\u001b[0;34m\u001b[0m\u001b[0m\n\u001b[1;32m      9\u001b[0m \u001b[0;32mdef\u001b[0m \u001b[0mload_data\u001b[0m\u001b[0;34m(\u001b[0m\u001b[0mcsv_file\u001b[0m\u001b[0;34m)\u001b[0m\u001b[0;34m:\u001b[0m\u001b[0;34m\u001b[0m\u001b[0;34m\u001b[0m\u001b[0m\n\u001b[0;32m---> 10\u001b[0;31m     \u001b[0mdata\u001b[0m \u001b[0;34m=\u001b[0m \u001b[0mpd\u001b[0m\u001b[0;34m.\u001b[0m\u001b[0mread_csv\u001b[0m\u001b[0;34m(\u001b[0m\u001b[0mcsv_file\u001b[0m\u001b[0;34m)\u001b[0m\u001b[0;34m\u001b[0m\u001b[0;34m\u001b[0m\u001b[0m\n\u001b[0m\u001b[1;32m     11\u001b[0m     \u001b[0mX\u001b[0m \u001b[0;34m=\u001b[0m \u001b[0mdata\u001b[0m\u001b[0;34m.\u001b[0m\u001b[0miloc\u001b[0m\u001b[0;34m[\u001b[0m\u001b[0;34m:\u001b[0m\u001b[0;34m,\u001b[0m \u001b[0;34m:\u001b[0m\u001b[0;34m-\u001b[0m\u001b[0;36m1\u001b[0m\u001b[0;34m]\u001b[0m\u001b[0;34m.\u001b[0m\u001b[0mvalues\u001b[0m  \u001b[0;31m# Features (all columns except last)\u001b[0m\u001b[0;34m\u001b[0m\u001b[0;34m\u001b[0m\u001b[0m\n\u001b[1;32m     12\u001b[0m     \u001b[0my\u001b[0m \u001b[0;34m=\u001b[0m \u001b[0mdata\u001b[0m\u001b[0;34m.\u001b[0m\u001b[0miloc\u001b[0m\u001b[0;34m[\u001b[0m\u001b[0;34m:\u001b[0m\u001b[0;34m,\u001b[0m \u001b[0;34m-\u001b[0m\u001b[0;36m1\u001b[0m\u001b[0;34m]\u001b[0m\u001b[0;34m.\u001b[0m\u001b[0mvalues\u001b[0m   \u001b[0;31m# Target variable (last column)\u001b[0m\u001b[0;34m\u001b[0m\u001b[0;34m\u001b[0m\u001b[0m\n",
            "\u001b[0;32m/usr/local/lib/python3.11/dist-packages/pandas/io/parsers/readers.py\u001b[0m in \u001b[0;36mread_csv\u001b[0;34m(filepath_or_buffer, sep, delimiter, header, names, index_col, usecols, dtype, engine, converters, true_values, false_values, skipinitialspace, skiprows, skipfooter, nrows, na_values, keep_default_na, na_filter, verbose, skip_blank_lines, parse_dates, infer_datetime_format, keep_date_col, date_parser, date_format, dayfirst, cache_dates, iterator, chunksize, compression, thousands, decimal, lineterminator, quotechar, quoting, doublequote, escapechar, comment, encoding, encoding_errors, dialect, on_bad_lines, delim_whitespace, low_memory, memory_map, float_precision, storage_options, dtype_backend)\u001b[0m\n\u001b[1;32m   1024\u001b[0m     \u001b[0mkwds\u001b[0m\u001b[0;34m.\u001b[0m\u001b[0mupdate\u001b[0m\u001b[0;34m(\u001b[0m\u001b[0mkwds_defaults\u001b[0m\u001b[0;34m)\u001b[0m\u001b[0;34m\u001b[0m\u001b[0;34m\u001b[0m\u001b[0m\n\u001b[1;32m   1025\u001b[0m \u001b[0;34m\u001b[0m\u001b[0m\n\u001b[0;32m-> 1026\u001b[0;31m     \u001b[0;32mreturn\u001b[0m \u001b[0m_read\u001b[0m\u001b[0;34m(\u001b[0m\u001b[0mfilepath_or_buffer\u001b[0m\u001b[0;34m,\u001b[0m \u001b[0mkwds\u001b[0m\u001b[0;34m)\u001b[0m\u001b[0;34m\u001b[0m\u001b[0;34m\u001b[0m\u001b[0m\n\u001b[0m\u001b[1;32m   1027\u001b[0m \u001b[0;34m\u001b[0m\u001b[0m\n\u001b[1;32m   1028\u001b[0m \u001b[0;34m\u001b[0m\u001b[0m\n",
            "\u001b[0;32m/usr/local/lib/python3.11/dist-packages/pandas/io/parsers/readers.py\u001b[0m in \u001b[0;36m_read\u001b[0;34m(filepath_or_buffer, kwds)\u001b[0m\n\u001b[1;32m    618\u001b[0m \u001b[0;34m\u001b[0m\u001b[0m\n\u001b[1;32m    619\u001b[0m     \u001b[0;31m# Create the parser.\u001b[0m\u001b[0;34m\u001b[0m\u001b[0;34m\u001b[0m\u001b[0m\n\u001b[0;32m--> 620\u001b[0;31m     \u001b[0mparser\u001b[0m \u001b[0;34m=\u001b[0m \u001b[0mTextFileReader\u001b[0m\u001b[0;34m(\u001b[0m\u001b[0mfilepath_or_buffer\u001b[0m\u001b[0;34m,\u001b[0m \u001b[0;34m**\u001b[0m\u001b[0mkwds\u001b[0m\u001b[0;34m)\u001b[0m\u001b[0;34m\u001b[0m\u001b[0;34m\u001b[0m\u001b[0m\n\u001b[0m\u001b[1;32m    621\u001b[0m \u001b[0;34m\u001b[0m\u001b[0m\n\u001b[1;32m    622\u001b[0m     \u001b[0;32mif\u001b[0m \u001b[0mchunksize\u001b[0m \u001b[0;32mor\u001b[0m \u001b[0miterator\u001b[0m\u001b[0;34m:\u001b[0m\u001b[0;34m\u001b[0m\u001b[0;34m\u001b[0m\u001b[0m\n",
            "\u001b[0;32m/usr/local/lib/python3.11/dist-packages/pandas/io/parsers/readers.py\u001b[0m in \u001b[0;36m__init__\u001b[0;34m(self, f, engine, **kwds)\u001b[0m\n\u001b[1;32m   1618\u001b[0m \u001b[0;34m\u001b[0m\u001b[0m\n\u001b[1;32m   1619\u001b[0m         \u001b[0mself\u001b[0m\u001b[0;34m.\u001b[0m\u001b[0mhandles\u001b[0m\u001b[0;34m:\u001b[0m \u001b[0mIOHandles\u001b[0m \u001b[0;34m|\u001b[0m \u001b[0;32mNone\u001b[0m \u001b[0;34m=\u001b[0m \u001b[0;32mNone\u001b[0m\u001b[0;34m\u001b[0m\u001b[0;34m\u001b[0m\u001b[0m\n\u001b[0;32m-> 1620\u001b[0;31m         \u001b[0mself\u001b[0m\u001b[0;34m.\u001b[0m\u001b[0m_engine\u001b[0m \u001b[0;34m=\u001b[0m \u001b[0mself\u001b[0m\u001b[0;34m.\u001b[0m\u001b[0m_make_engine\u001b[0m\u001b[0;34m(\u001b[0m\u001b[0mf\u001b[0m\u001b[0;34m,\u001b[0m \u001b[0mself\u001b[0m\u001b[0;34m.\u001b[0m\u001b[0mengine\u001b[0m\u001b[0;34m)\u001b[0m\u001b[0;34m\u001b[0m\u001b[0;34m\u001b[0m\u001b[0m\n\u001b[0m\u001b[1;32m   1621\u001b[0m \u001b[0;34m\u001b[0m\u001b[0m\n\u001b[1;32m   1622\u001b[0m     \u001b[0;32mdef\u001b[0m \u001b[0mclose\u001b[0m\u001b[0;34m(\u001b[0m\u001b[0mself\u001b[0m\u001b[0;34m)\u001b[0m \u001b[0;34m->\u001b[0m \u001b[0;32mNone\u001b[0m\u001b[0;34m:\u001b[0m\u001b[0;34m\u001b[0m\u001b[0;34m\u001b[0m\u001b[0m\n",
            "\u001b[0;32m/usr/local/lib/python3.11/dist-packages/pandas/io/parsers/readers.py\u001b[0m in \u001b[0;36m_make_engine\u001b[0;34m(self, f, engine)\u001b[0m\n\u001b[1;32m   1878\u001b[0m                 \u001b[0;32mif\u001b[0m \u001b[0;34m\"b\"\u001b[0m \u001b[0;32mnot\u001b[0m \u001b[0;32min\u001b[0m \u001b[0mmode\u001b[0m\u001b[0;34m:\u001b[0m\u001b[0;34m\u001b[0m\u001b[0;34m\u001b[0m\u001b[0m\n\u001b[1;32m   1879\u001b[0m                     \u001b[0mmode\u001b[0m \u001b[0;34m+=\u001b[0m \u001b[0;34m\"b\"\u001b[0m\u001b[0;34m\u001b[0m\u001b[0;34m\u001b[0m\u001b[0m\n\u001b[0;32m-> 1880\u001b[0;31m             self.handles = get_handle(\n\u001b[0m\u001b[1;32m   1881\u001b[0m                 \u001b[0mf\u001b[0m\u001b[0;34m,\u001b[0m\u001b[0;34m\u001b[0m\u001b[0;34m\u001b[0m\u001b[0m\n\u001b[1;32m   1882\u001b[0m                 \u001b[0mmode\u001b[0m\u001b[0;34m,\u001b[0m\u001b[0;34m\u001b[0m\u001b[0;34m\u001b[0m\u001b[0m\n",
            "\u001b[0;32m/usr/local/lib/python3.11/dist-packages/pandas/io/common.py\u001b[0m in \u001b[0;36mget_handle\u001b[0;34m(path_or_buf, mode, encoding, compression, memory_map, is_text, errors, storage_options)\u001b[0m\n\u001b[1;32m    871\u001b[0m         \u001b[0;32mif\u001b[0m \u001b[0mioargs\u001b[0m\u001b[0;34m.\u001b[0m\u001b[0mencoding\u001b[0m \u001b[0;32mand\u001b[0m \u001b[0;34m\"b\"\u001b[0m \u001b[0;32mnot\u001b[0m \u001b[0;32min\u001b[0m \u001b[0mioargs\u001b[0m\u001b[0;34m.\u001b[0m\u001b[0mmode\u001b[0m\u001b[0;34m:\u001b[0m\u001b[0;34m\u001b[0m\u001b[0;34m\u001b[0m\u001b[0m\n\u001b[1;32m    872\u001b[0m             \u001b[0;31m# Encoding\u001b[0m\u001b[0;34m\u001b[0m\u001b[0;34m\u001b[0m\u001b[0m\n\u001b[0;32m--> 873\u001b[0;31m             handle = open(\n\u001b[0m\u001b[1;32m    874\u001b[0m                 \u001b[0mhandle\u001b[0m\u001b[0;34m,\u001b[0m\u001b[0;34m\u001b[0m\u001b[0;34m\u001b[0m\u001b[0m\n\u001b[1;32m    875\u001b[0m                 \u001b[0mioargs\u001b[0m\u001b[0;34m.\u001b[0m\u001b[0mmode\u001b[0m\u001b[0;34m,\u001b[0m\u001b[0;34m\u001b[0m\u001b[0;34m\u001b[0m\u001b[0m\n",
            "\u001b[0;31mFileNotFoundError\u001b[0m: [Errno 2] No such file or directory: 'data.csv'"
          ]
        }
      ]
    },
    {
      "cell_type": "markdown",
      "source": [
        "**10.Write a Python program to implement One-vs-One (OvO) Multiclass Logistic Regression and print accuracy**"
      ],
      "metadata": {
        "id": "d72WxIc28246"
      }
    },
    {
      "cell_type": "code",
      "source": [
        "import numpy as np\n",
        "import pandas as pd\n",
        "from sklearn.model_selection import train_test_split\n",
        "from sklearn.linear_model import LogisticRegression\n",
        "from sklearn.metrics import accuracy_score\n",
        "from sklearn.datasets import load_iris\n",
        "\n",
        "# Load dataset\n",
        "iris = load_iris()\n",
        "X = iris.data  # Features\n",
        "y = iris.target  # Target variable\n",
        "\n",
        "# Split data into training and testing sets (80% train, 20% test)\n",
        "X_train, X_test, y_train, y_test = train_test_split(X, y, test_size=0.2, random_state=42)\n",
        "\n",
        "# Create and train Logistic Regression model for multiclass classification using OvO\n",
        "model = LogisticRegression(multi_class='ovo', solver='liblinear', max_iter=200)\n",
        "model.fit(X_train, y_train)\n",
        "\n",
        "# Make predictions\n",
        "y_pred = model.predict(X_test)\n",
        "\n",
        "# Calculate and print accuracy\n",
        "accuracy = accuracy_score(y_test, y_pred)\n",
        "print(f\"Model Accuracy with One-vs-One (OvO) Multiclass Classification: {accuracy:.2f}\")\n",
        "\n",
        "# Print model coefficients\n",
        "print(\"Model Coefficients:\")\n",
        "print(model.coef_)\n"
      ],
      "metadata": {
        "colab": {
          "base_uri": "https://localhost:8080/",
          "height": 370
        },
        "id": "RtDoSPvP8_zi",
        "outputId": "67717a06-f085-40c7-85a5-73ffe8feb77c"
      },
      "execution_count": 10,
      "outputs": [
        {
          "output_type": "error",
          "ename": "InvalidParameterError",
          "evalue": "The 'multi_class' parameter of LogisticRegression must be a str among {'multinomial', 'ovr', 'auto'}. Got 'ovo' instead.",
          "traceback": [
            "\u001b[0;31m---------------------------------------------------------------------------\u001b[0m",
            "\u001b[0;31mInvalidParameterError\u001b[0m                     Traceback (most recent call last)",
            "\u001b[0;32m<ipython-input-10-1151bb2473e7>\u001b[0m in \u001b[0;36m<cell line: 0>\u001b[0;34m()\u001b[0m\n\u001b[1;32m     16\u001b[0m \u001b[0;31m# Create and train Logistic Regression model for multiclass classification using OvO\u001b[0m\u001b[0;34m\u001b[0m\u001b[0;34m\u001b[0m\u001b[0m\n\u001b[1;32m     17\u001b[0m \u001b[0mmodel\u001b[0m \u001b[0;34m=\u001b[0m \u001b[0mLogisticRegression\u001b[0m\u001b[0;34m(\u001b[0m\u001b[0mmulti_class\u001b[0m\u001b[0;34m=\u001b[0m\u001b[0;34m'ovo'\u001b[0m\u001b[0;34m,\u001b[0m \u001b[0msolver\u001b[0m\u001b[0;34m=\u001b[0m\u001b[0;34m'liblinear'\u001b[0m\u001b[0;34m,\u001b[0m \u001b[0mmax_iter\u001b[0m\u001b[0;34m=\u001b[0m\u001b[0;36m200\u001b[0m\u001b[0;34m)\u001b[0m\u001b[0;34m\u001b[0m\u001b[0;34m\u001b[0m\u001b[0m\n\u001b[0;32m---> 18\u001b[0;31m \u001b[0mmodel\u001b[0m\u001b[0;34m.\u001b[0m\u001b[0mfit\u001b[0m\u001b[0;34m(\u001b[0m\u001b[0mX_train\u001b[0m\u001b[0;34m,\u001b[0m \u001b[0my_train\u001b[0m\u001b[0;34m)\u001b[0m\u001b[0;34m\u001b[0m\u001b[0;34m\u001b[0m\u001b[0m\n\u001b[0m\u001b[1;32m     19\u001b[0m \u001b[0;34m\u001b[0m\u001b[0m\n\u001b[1;32m     20\u001b[0m \u001b[0;31m# Make predictions\u001b[0m\u001b[0;34m\u001b[0m\u001b[0;34m\u001b[0m\u001b[0m\n",
            "\u001b[0;32m/usr/local/lib/python3.11/dist-packages/sklearn/base.py\u001b[0m in \u001b[0;36mwrapper\u001b[0;34m(estimator, *args, **kwargs)\u001b[0m\n\u001b[1;32m   1380\u001b[0m \u001b[0;34m\u001b[0m\u001b[0m\n\u001b[1;32m   1381\u001b[0m             \u001b[0;32mif\u001b[0m \u001b[0;32mnot\u001b[0m \u001b[0mglobal_skip_validation\u001b[0m \u001b[0;32mand\u001b[0m \u001b[0;32mnot\u001b[0m \u001b[0mpartial_fit_and_fitted\u001b[0m\u001b[0;34m:\u001b[0m\u001b[0;34m\u001b[0m\u001b[0;34m\u001b[0m\u001b[0m\n\u001b[0;32m-> 1382\u001b[0;31m                 \u001b[0mestimator\u001b[0m\u001b[0;34m.\u001b[0m\u001b[0m_validate_params\u001b[0m\u001b[0;34m(\u001b[0m\u001b[0;34m)\u001b[0m\u001b[0;34m\u001b[0m\u001b[0;34m\u001b[0m\u001b[0m\n\u001b[0m\u001b[1;32m   1383\u001b[0m \u001b[0;34m\u001b[0m\u001b[0m\n\u001b[1;32m   1384\u001b[0m             with config_context(\n",
            "\u001b[0;32m/usr/local/lib/python3.11/dist-packages/sklearn/base.py\u001b[0m in \u001b[0;36m_validate_params\u001b[0;34m(self)\u001b[0m\n\u001b[1;32m    434\u001b[0m         \u001b[0maccepted\u001b[0m \u001b[0mconstraints\u001b[0m\u001b[0;34m.\u001b[0m\u001b[0;34m\u001b[0m\u001b[0;34m\u001b[0m\u001b[0m\n\u001b[1;32m    435\u001b[0m         \"\"\"\n\u001b[0;32m--> 436\u001b[0;31m         validate_parameter_constraints(\n\u001b[0m\u001b[1;32m    437\u001b[0m             \u001b[0mself\u001b[0m\u001b[0;34m.\u001b[0m\u001b[0m_parameter_constraints\u001b[0m\u001b[0;34m,\u001b[0m\u001b[0;34m\u001b[0m\u001b[0;34m\u001b[0m\u001b[0m\n\u001b[1;32m    438\u001b[0m             \u001b[0mself\u001b[0m\u001b[0;34m.\u001b[0m\u001b[0mget_params\u001b[0m\u001b[0;34m(\u001b[0m\u001b[0mdeep\u001b[0m\u001b[0;34m=\u001b[0m\u001b[0;32mFalse\u001b[0m\u001b[0;34m)\u001b[0m\u001b[0;34m,\u001b[0m\u001b[0;34m\u001b[0m\u001b[0;34m\u001b[0m\u001b[0m\n",
            "\u001b[0;32m/usr/local/lib/python3.11/dist-packages/sklearn/utils/_param_validation.py\u001b[0m in \u001b[0;36mvalidate_parameter_constraints\u001b[0;34m(parameter_constraints, params, caller_name)\u001b[0m\n\u001b[1;32m     96\u001b[0m                 )\n\u001b[1;32m     97\u001b[0m \u001b[0;34m\u001b[0m\u001b[0m\n\u001b[0;32m---> 98\u001b[0;31m             raise InvalidParameterError(\n\u001b[0m\u001b[1;32m     99\u001b[0m                 \u001b[0;34mf\"The {param_name!r} parameter of {caller_name} must be\"\u001b[0m\u001b[0;34m\u001b[0m\u001b[0;34m\u001b[0m\u001b[0m\n\u001b[1;32m    100\u001b[0m                 \u001b[0;34mf\" {constraints_str}. Got {param_val!r} instead.\"\u001b[0m\u001b[0;34m\u001b[0m\u001b[0;34m\u001b[0m\u001b[0m\n",
            "\u001b[0;31mInvalidParameterError\u001b[0m: The 'multi_class' parameter of LogisticRegression must be a str among {'multinomial', 'ovr', 'auto'}. Got 'ovo' instead."
          ]
        }
      ]
    },
    {
      "cell_type": "markdown",
      "source": [
        "**11.Write a Python program to train a Logistic Regression model and visualize the confusion matrix for binary\n",
        "classification**"
      ],
      "metadata": {
        "id": "Owd79JhtdgWh"
      }
    },
    {
      "cell_type": "code",
      "source": [
        "import numpy as np\n",
        "\n",
        "import matplotlib.pyplot as plt\n",
        "\n",
        "from sklearn.model_selection import train_test_split\n",
        "\n",
        "from sklearn.linear_model import LogisticRegression\n",
        "\n",
        "from sklearn.metrics import confusion_matrix, ConfusionMatrixDisplay\n",
        "\n",
        "from sklearn.datasets import make_classification\n",
        "\n",
        "X, y = make_classification(n_samples=1000, n_features=5, random_state=42)\n",
        "\n",
        "X_train, X_test, y_train, y_test = train_test_split(X, y, test_size=0.2, random_state=42)\n",
        "\n",
        "model = LogisticRegression()\n",
        "\n",
        "model.fit(X_train, y_train)\n",
        "\n",
        "y_pred = model.predict(X_test)\n",
        "\n",
        "\n",
        "\n",
        "# Compute and visualize the confusion matrix\n",
        "\n",
        "cm = confusion_matrix(y_test, y_pred)\n",
        "\n",
        "disp = ConfusionMatrixDisplay(confusion_matrix=cm)\n",
        "\n",
        "disp.plot(cmap='Blues')\n",
        "\n",
        "plt.title(\"Confusion Matrix for Logistic Regression\")\n",
        "\n",
        "plt.show()"
      ],
      "metadata": {
        "colab": {
          "base_uri": "https://localhost:8080/",
          "height": 472
        },
        "id": "mobDpPuZdqVb",
        "outputId": "88ec1256-7954-407b-95e5-a61b81d5dc08"
      },
      "execution_count": 1,
      "outputs": [
        {
          "output_type": "display_data",
          "data": {
            "text/plain": [
              "<Figure size 640x480 with 2 Axes>"
            ],
            "image/png": "[encoded data removed]"
          },
          "metadata": {}
        }
      ]
    },
    {
      "cell_type": "markdown",
      "source": [
        "**12.Write a Python program to train a Logistic Regression model and evaluate its performance using Precision,\n",
        "Recall, and F1-Score.**"
      ],
      "metadata": {
        "id": "74bP69PjeFIn"
      }
    },
    {
      "cell_type": "code",
      "source": [
        "\n",
        "import numpy as np\n",
        "import matplotlib.pyplot as plt\n",
        "from sklearn.model_selection import train_test_split\n",
        "from sklearn.linear_model import LogisticRegression\n",
        "from sklearn.metrics import confusion_matrix, ConfusionMatrixDisplay, precision_score, recall_score, f1_score\n",
        "from sklearn.datasets import make_classification\n",
        "\n",
        "X, y = make_classification(n_samples=1000, n_features=5, random_state=42)\n",
        "X_train, X_test, y_train, y_test = train_test_split(X, y, test_size=0.2, random_state=42)\n",
        "model = LogisticRegression()\n",
        "model.fit(X_train, y_train)\n",
        "y_pred = model.predict(X_test)\n",
        "cm = confusion_matrix(y_test, y_pred)\n",
        "disp = ConfusionMatrixDisplay(confusion_matrix=cm)\n",
        "disp.plot(cmap='Blues')\n",
        "plt.title(\"Confusion Matrix for Logistic Regression\")\n",
        "plt.show()\n",
        "\n",
        "# Evaluate performance using Precision, Recall, and F1-Score\n",
        "precision = precision_score(y_test, y_pred)\n",
        "recall = recall_score(y_test, y_pred)\n",
        "f1 = f1_score(y_test, y_pred)\n",
        "\n",
        "print(f\"Precision: {precision:.2f}\")\n",
        "print(f\"Recall: {recall:.2f}\")\n",
        "print(f\"F1-Score: {f1:.2f}\")"
      ],
      "metadata": {
        "colab": {
          "base_uri": "https://localhost:8080/",
          "height": 526
        },
        "id": "Y-a9F9LheQ7H",
        "outputId": "f488d7b3-6106-4007-beec-1e73067975d4"
      },
      "execution_count": 2,
      "outputs": [
        {
          "output_type": "display_data",
          "data": {
            "text/plain": [
              "<Figure size 640x480 with 2 Axes>"
            ],
            "image/png": "[encoded data removed]"
          },
          "metadata": {}
        },
        {
          "output_type": "stream",
          "name": "stdout",
          "text": [
            "Precision: 0.92\n",
            "Recall: 0.84\n",
            "F1-Score: 0.88\n"
          ]
        }
      ]
    },
    {
      "cell_type": "markdown",
      "source": [
        "**13.Write a Python program to train a Logistic Regression model on imbalanced data and apply class weights to\n",
        "improve model performance**"
      ],
      "metadata": {
        "id": "HGj16pw0elAd"
      }
    },
    {
      "cell_type": "code",
      "source": [
        "\n",
        "import numpy as np\n",
        "import matplotlib.pyplot as plt\n",
        "from sklearn.model_selection import train_test_split\n",
        "from sklearn.linear_model import LogisticRegression\n",
        "from sklearn.metrics import confusion_matrix, ConfusionMatrixDisplay, precision_score, recall_score, f1_score\n",
        "from sklearn.datasets import make_classification\n",
        "\n",
        "\n",
        "X, y = make_classification(n_samples=1000, n_features=5, weights=[0.9, 0.1], random_state=42)\n",
        "X_train, X_test, y_train, y_test = train_test_split(X, y, test_size=0.2, random_state=42)\n",
        "model = LogisticRegression(class_weight='balanced')\n",
        "model.fit(X_train, y_train)\n",
        "y_pred = model.predict(X_test)\n",
        "cm = confusion_matrix(y_test, y_pred)\n",
        "disp = ConfusionMatrixDisplay(confusion_matrix=cm)\n",
        "disp.plot(cmap='Blues')\n",
        "plt.title(\"Confusion Matrix for Logistic Regression on Imbalanced Data\")\n",
        "plt.show()\n",
        "\n",
        "precision = precision_score(y_test, y_pred)\n",
        "recall = recall_score(y_test, y_pred)\n",
        "f1 = f1_score(y_test, y_pred)\n",
        "\n",
        "print(f\"Precision: {precision:.2f}\")\n",
        "print(f\"Recall: {recall:.2f}\")\n",
        "print(f\"F1-Score: {f1:.2f}\")"
      ],
      "metadata": {
        "id": "3eJGBFwDes7v"
      },
      "execution_count": null,
      "outputs": []
    },
    {
      "cell_type": "markdown",
      "source": [
        "**14.Write a Python program to train Logistic Regression on the Titanic dataset, handle missing values, and\n",
        "evaluate performance**"
      ],
      "metadata": {
        "id": "ngtAv9-We6ef"
      }
    },
    {
      "cell_type": "code",
      "source": [
        "\n",
        "import numpy as np\n",
        "import pandas as pd\n",
        "import matplotlib.pyplot as plt\n",
        "from sklearn.model_selection import train_test_split\n",
        "from sklearn.linear_model import LogisticRegression\n",
        "from sklearn.metrics import confusion_matrix, ConfusionMatrixDisplay, precision_score, recall_score, f1_score\n",
        "from sklearn.impute import SimpleImputer\n",
        "from sklearn.preprocessing import OneHotEncoder, StandardScaler\n",
        "from sklearn.compose import ColumnTransformer\n",
        "from sklearn.pipeline import Pipeline\n",
        "\n",
        "# Load Titanic dataset\n",
        "data = pd.read_csv(\"https://raw.githubusercontent.com/datasciencedojo/datasets/master/titanic.csv\")\n",
        "\n",
        "# Select relevant features and target\n",
        "features = ['Pclass', 'Sex', 'Age', 'SibSp', 'Parch', 'Fare', 'Embarked']\n",
        "target = 'Survived'\n",
        "X = data[features]\n",
        "y = data[target]\n",
        "\n",
        "# Handle missing values and categorical variables\n",
        "numeric_features = ['Age', 'SibSp', 'Parch', 'Fare']\n",
        "categorical_features = ['Pclass', 'Sex', 'Embarked']\n",
        "\n",
        "numeric_transformer = Pipeline(steps=[\n",
        "    ('imputer', SimpleImputer(strategy='median')),\n",
        "    ('scaler', StandardScaler())\n",
        "])\n",
        "\n",
        "categorical_transformer = Pipeline(steps=[\n",
        "    ('imputer', SimpleImputer(strategy='most_frequent')),\n",
        "    ('onehot', OneHotEncoder(handle_unknown='ignore'))\n",
        "])\n",
        "\n",
        "preprocessor = ColumnTransformer(\n",
        "    transformers=[\n",
        "        ('num', numeric_transformer, numeric_features),\n",
        "        ('cat', categorical_transformer, categorical_features)\n",
        "    ]\n",
        ")\n",
        "\n",
        "model = Pipeline(steps=[\n",
        "    ('preprocessor', preprocessor),\n",
        "    ('classifier', LogisticRegression(class_weight='balanced'))\n",
        "])\n",
        "\n",
        "X_train, X_test, y_train, y_test = train_test_split(X, y, test_size=0.2, random_state=42)\n",
        "\n",
        "\n",
        "model.fit(X_train, y_train)\n",
        "y_pred = model.predict(X_test)\n",
        "cm = confusion_matrix(y_test, y_pred)\n",
        "disp = ConfusionMatrixDisplay(confusion_matrix=cm)\n",
        "disp.plot(cmap='Blues')\n",
        "plt.title(\"Confusion Matrix for Logistic Regression on Titanic Dataset\")\n",
        "plt.show()\n",
        "\n",
        "# Evaluate performance using Precision, Recall, and F1-Score\n",
        "precision = precision_score(y_test, y_pred)\n",
        "recall = recall_score(y_test, y_pred)\n",
        "f1 = f1_score(y_test, y_pred)\n",
        "\n",
        "print(f\"Precision: {precision:.2f}\")\n",
        "print(f\"Recall: {recall:.2f}\")\n",
        "print(f\"F1-Score: {f1:.2f}\")"
      ],
      "metadata": {
        "colab": {
          "base_uri": "https://localhost:8080/",
          "height": 526
        },
        "id": "vjmcxS2Ee5pb",
        "outputId": "a71d8816-c560-4e0e-d97c-a18144de596a"
      },
      "execution_count": 3,
      "outputs": [
        {
          "output_type": "display_data",
          "data": {
            "text/plain": [
              "<Figure size 640x480 with 2 Axes>"
            ],
            "image/png": "[encoded data removed]"
          },
          "metadata": {}
        },
        {
          "output_type": "stream",
          "name": "stdout",
          "text": [
            "Precision: 0.74\n",
            "Recall: 0.80\n",
            "F1-Score: 0.77\n"
          ]
        }
      ]
    },
    {
      "cell_type": "markdown",
      "source": [
        "**15. Write a Python program to apply feature scaling (Standardization) before training a Logistic Regression\n",
        "model. Evaluate its accuracy and compare results with and without scaling**"
      ],
      "metadata": {
        "id": "cLh2WEdQfpXp"
      }
    },
    {
      "cell_type": "code",
      "source": [
        "\n",
        "import numpy as np\n",
        "import pandas as pd\n",
        "import matplotlib.pyplot as plt\n",
        "from sklearn.model_selection import train_test_split\n",
        "from sklearn.linear_model import LogisticRegression\n",
        "from sklearn.metrics import accuracy_score, confusion_matrix, ConfusionMatrixDisplay, precision_score, recall_score, f1_score\n",
        "from sklearn.impute import SimpleImputer\n",
        "from sklearn.preprocessing import OneHotEncoder, StandardScaler\n",
        "from sklearn.compose import ColumnTransformer\n",
        "from sklearn.pipeline import Pipeline\n",
        "from sklearn.utils import Bunch\n",
        "\n",
        "# Load Titanic dataset\n",
        "data = pd.read_csv(\"https://raw.githubusercontent.com/datasciencedojo/datasets/master/titanic.csv\")\n",
        "\n",
        "# Select relevant features and target\n",
        "features = ['Pclass', 'Sex', 'Age', 'SibSp', 'Parch', 'Fare', 'Embarked']\n",
        "target = 'Survived'\n",
        "X = data[features]\n",
        "y = data[target]\n",
        "\n",
        "# Handle missing values and categorical variables\n",
        "numeric_features = ['Age', 'SibSp', 'Parch', 'Fare']\n",
        "categorical_features = ['Pclass', 'Sex', 'Embarked']\n",
        "\n",
        "numeric_transformer = Pipeline(steps=[\n",
        "    ('imputer', SimpleImputer(strategy='median')),\n",
        "    ('scaler', StandardScaler())\n",
        "])\n",
        "\n",
        "categorical_transformer = Pipeline(steps=[\n",
        "    ('imputer', SimpleImputer(strategy='most_frequent')),\n",
        "    ('onehot', OneHotEncoder(handle_unknown='ignore'))\n",
        "])\n",
        "\n",
        "preprocessor = ColumnTransformer(\n",
        "    transformers=[\n",
        "        ('num', numeric_transformer, numeric_features),\n",
        "        ('cat', categorical_transformer, categorical_features)\n",
        "    ]\n",
        ")\n",
        "\n",
        "\n",
        "X_train, X_test, y_train, y_test = train_test_split(X, y, test_size=0.2, random_state=42)\n",
        "\n",
        "\n",
        "X_train_encoded = pd.get_dummies(X_train, columns=categorical_features)\n",
        "X_test_encoded = pd.get_dummies(X_test, columns=categorical_features)\n",
        "\n",
        "X_train_encoded, X_test_encoded = X_train_encoded.align(X_test_encoded, join='left', axis=1, fill_value=0)\n",
        "\n",
        "model_no_scaling = LogisticRegression(class_weight='balanced', max_iter=500)\n",
        "model_no_scaling.fit(X_train_encoded.fillna(X_train_encoded.median()), y_train)\n",
        "y_pred_no_scaling = model_no_scaling.predict(X_test_encoded.fillna(X_train_encoded.median()))\n",
        "accuracy_no_scaling = accuracy_score(y_test, y_pred_no_scaling)\n",
        "\n",
        "# Train Logistic Regression model with scaling\n",
        "model_with_scaling = Pipeline(steps=[\n",
        "    ('preprocessor', preprocessor),\n",
        "    ('classifier', LogisticRegression(class_weight='balanced', max_iter=500))\n",
        "])\n",
        "model_with_scaling.fit(X_train, y_train)\n",
        "y_pred_with_scaling = model_with_scaling.predict(X_test)\n",
        "accuracy_with_scaling = accuracy_score(y_test, y_pred_with_scaling)\n",
        "\n",
        "cm = confusion_matrix(y_test, y_pred_with_scaling)\n",
        "disp = ConfusionMatrixDisplay(confusion_matrix=cm)\n",
        "disp.plot(cmap='Blues')\n",
        "plt.title(\"Confusion Matrix for Logistic Regression with Scaling\")\n",
        "plt.show()\n",
        "\n",
        "# Evaluate performance using Accuracy, Precision, Recall, and F1-Score\n",
        "precision = precision_score(y_test, y_pred_with_scaling)\n",
        "recall = recall_score(y_test, y_pred_with_scaling)\n",
        "f1 = f1_score(y_test, y_pred_with_scaling)\n",
        "\n",
        "print(f\"Accuracy without scaling: {accuracy_no_scaling:.2f}\")\n",
        "print(f\"Accuracy with scaling: {accuracy_with_scaling:.2f}\")\n",
        "print(f\"Precision: {precision:.2f}\")\n",
        "print(f\"Recall: {recall:.2f}\")\n",
        "print(f\"F1-Score: {f1:.2f}\")"
      ],
      "metadata": {
        "colab": {
          "base_uri": "https://localhost:8080/",
          "height": 563
        },
        "id": "3VjjctUKf_9a",
        "outputId": "5bcc2ea9-01ca-4bee-e891-53b633aebd6b"
      },
      "execution_count": 4,
      "outputs": [
        {
          "output_type": "display_data",
          "data": {
            "text/plain": [
              "<Figure size 640x480 with 2 Axes>"
            ],
            "image/png": "[encoded data removed]"
          },
          "metadata": {}
        },
        {
          "output_type": "stream",
          "name": "stdout",
          "text": [
            "Accuracy without scaling: 0.80\n",
            "Accuracy with scaling: 0.80\n",
            "Precision: 0.74\n",
            "Recall: 0.80\n",
            "F1-Score: 0.77\n"
          ]
        }
      ]
    },
    {
      "cell_type": "markdown",
      "source": [
        "**16.Write a Python program to train Logistic Regression and evaluate its performance using ROC-AUC score**"
      ],
      "metadata": {
        "id": "D5mQml8Mgwsu"
      }
    },
    {
      "cell_type": "code",
      "source": [
        "\n",
        "import numpy as np\n",
        "import pandas as pd\n",
        "import matplotlib.pyplot as plt\n",
        "from sklearn.model_selection import train_test_split\n",
        "from sklearn.linear_model import LogisticRegression\n",
        "from sklearn.metrics import accuracy_score, confusion_matrix, ConfusionMatrixDisplay, precision_score, recall_score, f1_score\n",
        "from sklearn.impute import SimpleImputer\n",
        "from sklearn.preprocessing import OneHotEncoder, StandardScaler\n",
        "from sklearn.compose import ColumnTransformer\n",
        "from sklearn.pipeline import Pipeline\n",
        "from sklearn.utils import Bunch\n",
        "\n",
        "# Load Titanic dataset\n",
        "data = pd.read_csv(\"https://raw.githubusercontent.com/datasciencedojo/datasets/master/titanic.csv\")\n",
        "\n",
        "# Select relevant features and target\n",
        "features = ['Pclass', 'Sex', 'Age', 'SibSp', 'Parch', 'Fare', 'Embarked']\n",
        "target = 'Survived'\n",
        "X = data[features]\n",
        "y = data[target]\n",
        "\n",
        "# Handle missing values and categorical variables\n",
        "numeric_features = ['Age', 'SibSp', 'Parch', 'Fare']\n",
        "categorical_features = ['Pclass', 'Sex', 'Embarked']\n",
        "\n",
        "numeric_transformer = Pipeline(steps=[\n",
        "    ('imputer', SimpleImputer(strategy='median')),\n",
        "    ('scaler', StandardScaler())\n",
        "])\n",
        "\n",
        "categorical_transformer = Pipeline(steps=[\n",
        "    ('imputer', SimpleImputer(strategy='most_frequent')),\n",
        "    ('onehot', OneHotEncoder(handle_unknown='ignore'))\n",
        "])\n",
        "\n",
        "preprocessor = ColumnTransformer(\n",
        "    transformers=[\n",
        "        ('num', numeric_transformer, numeric_features),\n",
        "        ('cat', categorical_transformer, categorical_features)\n",
        "    ]\n",
        ")\n",
        "\n",
        "# Split the data into training and testing sets\n",
        "X_train, X_test, y_train, y_test = train_test_split(X, y, test_size=0.2, random_state=42)\n",
        "\n",
        "# Manually preprocess categorical variables for model_no_scaling\n",
        "X_train_encoded = pd.get_dummies(X_train, columns=categorical_features)\n",
        "X_test_encoded = pd.get_dummies(X_test, columns=categorical_features)\n",
        "\n",
        "# Align train and test data (ensure they have the same columns)\n",
        "X_train_encoded, X_test_encoded = X_train_encoded.align(X_test_encoded, join='left', axis=1, fill_value=0)\n",
        "\n",
        "# Train Logistic Regression model without scaling\n",
        "model_no_scaling = LogisticRegression(class_weight='balanced', max_iter=500)\n",
        "model_no_scaling.fit(X_train_encoded.fillna(X_train_encoded.median()), y_train)\n",
        "y_pred_no_scaling = model_no_scaling.predict(X_test_encoded.fillna(X_train_encoded.median()))\n",
        "accuracy_no_scaling = accuracy_score(y_test, y_pred_no_scaling)\n",
        "\n",
        "# Train Logistic Regression model with scaling\n",
        "model_with_scaling = Pipeline(steps=[\n",
        "    ('preprocessor', preprocessor),\n",
        "    ('classifier', LogisticRegression(class_weight='balanced', max_iter=500))\n",
        "])\n",
        "model_with_scaling.fit(X_train, y_train)\n",
        "y_pred_with_scaling = model_with_scaling.predict(X_test)\n",
        "accuracy_with_scaling = accuracy_score(y_test, y_pred_with_scaling)\n",
        "\n",
        "# Compute and visualize the confusion matrix for scaled model\n",
        "cm = confusion_matrix(y_test, y_pred_with_scaling)\n",
        "disp = ConfusionMatrixDisplay(confusion_matrix=cm)\n",
        "disp.plot(cmap='Blues')\n",
        "plt.title(\"Confusion Matrix for Logistic Regression with Scaling\")\n",
        "plt.show()\n",
        "\n",
        "# Evaluate performance using Accuracy, Precision, Recall, and F1-Score\n",
        "precision = precision_score(y_test, y_pred_with_scaling)\n",
        "recall = recall_score(y_test, y_pred_with_scaling)\n",
        "f1 = f1_score(y_test, y_pred_with_scaling)\n",
        "\n",
        "print(f\"Accuracy without scaling: {accuracy_no_scaling:.2f}\")\n",
        "print(f\"Accuracy with scaling: {accuracy_with_scaling:.2f}\")\n",
        "print(f\"Precision: {precision:.2f}\")\n",
        "print(f\"Recall: {recall:.2f}\")\n",
        "print(f\"F1-Score: {f1:.2f}\")"
      ],
      "metadata": {
        "colab": {
          "base_uri": "https://localhost:8080/",
          "height": 563
        },
        "id": "plWBiqngg8Ap",
        "outputId": "9667c9b4-e1bb-4595-bd9b-fcb75841f8d8"
      },
      "execution_count": 5,
      "outputs": [
        {
          "output_type": "display_data",
          "data": {
            "text/plain": [
              "<Figure size 640x480 with 2 Axes>"
            ],
            "image/png": "[encoded data removed]"
          },
          "metadata": {}
        },
        {
          "output_type": "stream",
          "name": "stdout",
          "text": [
            "Accuracy without scaling: 0.80\n",
            "Accuracy with scaling: 0.80\n",
            "Precision: 0.74\n",
            "Recall: 0.80\n",
            "F1-Score: 0.77\n"
          ]
        }
      ]
    },
    {
      "cell_type": "markdown",
      "source": [
        "**17.Write a Python program to train Logistic Regression using a custom learning rate (C=0.5) and evaluate\n",
        "accuracy**"
      ],
      "metadata": {
        "id": "jAxtW6Q7hRm8"
      }
    },
    {
      "cell_type": "code",
      "source": [
        "\n",
        "from sklearn.datasets import load_iris\n",
        "from sklearn.model_selection import train_test_split\n",
        "from sklearn.preprocessing import StandardScaler\n",
        "from sklearn.linear_model import LogisticRegression\n",
        "from sklearn.metrics import accuracy_score\n",
        "\n",
        "# Load dataset\n",
        "iris = load_iris()\n",
        "X, y = iris.data, iris.target\n",
        "\n",
        "X_train, X_test, y_train, y_test = train_test_split(X, y, test_size=0.2, random_state=42)\n",
        "scaler = StandardScaler()\n",
        "X_train = scaler.fit_transform(X_train)\n",
        "X_test = scaler.transform(X_test)\n",
        "\n",
        "model = LogisticRegression(C=0.5, max_iter=1000, random_state=42)\n",
        "model.fit(X_train, y_train)\n",
        "\n",
        "y_pred = model.predict(X_test)\n",
        "\n",
        "accuracy = accuracy_score(y_test, y_pred)\n",
        "print(f'Accuracy: {accuracy:.4f}')"
      ],
      "metadata": {
        "colab": {
          "base_uri": "https://localhost:8080/"
        },
        "id": "6EN4K-ioha2F",
        "outputId": "cc7df210-cc22-4fcd-c24e-e4f9bda0f5a1"
      },
      "execution_count": 6,
      "outputs": [
        {
          "output_type": "stream",
          "name": "stdout",
          "text": [
            "Accuracy: 1.0000\n"
          ]
        }
      ]
    },
    {
      "cell_type": "markdown",
      "source": [
        "**18.Write a Python program to train Logistic Regression and identify important features based on model\n",
        "coefficients**"
      ],
      "metadata": {
        "id": "YUgRQqzWekud"
      }
    },
    {
      "cell_type": "code",
      "source": [
        "from sklearn.datasets import load_iris\n",
        "from sklearn.model_selection import train_test_split\n",
        "from sklearn.preprocessing import StandardScaler\n",
        "from sklearn.linear_model import LogisticRegression\n",
        "from sklearn.metrics import accuracy_score\n",
        "import numpy as np\n",
        "\n",
        "# Load dataset\n",
        "iris = load_iris()\n",
        "X, y = iris.data, iris.target\n",
        "\n",
        "X_train, X_test, y_train, y_test = train_test_split(X, y, test_size=0.2, random_state=42)\n",
        "\n",
        "scaler = StandardScaler()\n",
        "X_train = scaler.fit_transform(X_train)\n",
        "X_test = scaler.transform(X_test)\n",
        "\n",
        "model = LogisticRegression(C=0.5, max_iter=1000, random_state=42)\n",
        "model.fit(X_train, y_train)\n",
        "y_pred = model.predict(X_test)\n",
        "\n",
        "accuracy = accuracy_score(y_test, y_pred)\n",
        "print(f'Accuracy: {accuracy:.4f}')\n",
        "\n",
        "feature_importance = np.abs(model.coef_).mean(axis=0)\n",
        "feature_names = iris.feature_names\n",
        "\n",
        "print(\"Feature Importance:\")\n",
        "for name, importance in sorted(zip(feature_names, feature_importance), key=lambda x: x[1], reverse=True):\n",
        "    print(f'{name}: {importance:.4f}')"
      ],
      "metadata": {
        "colab": {
          "base_uri": "https://localhost:8080/"
        },
        "id": "p-udPn-xhuYG",
        "outputId": "903df0ed-3d30-4323-e009-1bd9bde1c42d"
      },
      "execution_count": 7,
      "outputs": [
        {
          "output_type": "stream",
          "name": "stdout",
          "text": [
            "Accuracy: 1.0000\n",
            "Feature Importance:\n",
            "petal width (cm): 1.2453\n",
            "petal length (cm): 1.0630\n",
            "sepal width (cm): 0.6199\n",
            "sepal length (cm): 0.5629\n"
          ]
        }
      ]
    },
    {
      "cell_type": "markdown",
      "source": [
        "**19.Write a Python program to train Logistic Regression and evaluate its performance using Cohen’s Kappa\n",
        "Score**"
      ],
      "metadata": {
        "id": "EwY5JLjniF9X"
      }
    },
    {
      "cell_type": "code",
      "source": [
        "\n",
        "from sklearn.datasets import load_iris\n",
        "from sklearn.model_selection import train_test_split\n",
        "from sklearn.preprocessing import StandardScaler\n",
        "from sklearn.linear_model import LogisticRegression\n",
        "from sklearn.metrics import accuracy_score, cohen_kappa_score\n",
        "import numpy as np\n",
        "\n",
        "# Load dataset\n",
        "iris = load_iris()\n",
        "X, y = iris.data, iris.target\n",
        "\n",
        "# Split dataset into training and testing sets\n",
        "X_train, X_test, y_train, y_test = train_test_split(X, y, test_size=0.2, random_state=42)\n",
        "\n",
        "# Standardize features\n",
        "scaler = StandardScaler()\n",
        "X_train = scaler.fit_transform(X_train)\n",
        "X_test = scaler.transform(X_test)\n",
        "\n",
        "# Train Logistic Regression model with custom learning rate (C=0.5)\n",
        "model = LogisticRegression(C=0.5, max_iter=1000, random_state=42)\n",
        "model.fit(X_train, y_train)\n",
        "\n",
        "# Make predictions\n",
        "y_pred = model.predict(X_test)\n",
        "\n",
        "# Evaluate accuracy\n",
        "accuracy = accuracy_score(y_test, y_pred)\n",
        "kappa_score = cohen_kappa_score(y_test, y_pred)\n",
        "print(f'Accuracy: {accuracy:.4f}')\n",
        "print(f'Cohen\\'s Kappa Score: {kappa_score:.4f}')\n",
        "\n",
        "# Identify important features\n",
        "feature_importance = np.abs(model.coef_).mean(axis=0)\n",
        "feature_names = iris.feature_names\n",
        "\n",
        "# Print feature importance\n",
        "print(\"Feature Importance:\")\n",
        "for name, importance in sorted(zip(feature_names, feature_importance), key=lambda x: x[1], reverse=True):\n",
        "    print(f'{name}: {importance:.4f}')"
      ],
      "metadata": {
        "colab": {
          "base_uri": "https://localhost:8080/"
        },
        "id": "M06txrHhiN4U",
        "outputId": "f61fff9f-0976-4355-92f1-4b4b805eaa8f"
      },
      "execution_count": 8,
      "outputs": [
        {
          "output_type": "stream",
          "name": "stdout",
          "text": [
            "Accuracy: 1.0000\n",
            "Cohen's Kappa Score: 1.0000\n",
            "Feature Importance:\n",
            "petal width (cm): 1.2453\n",
            "petal length (cm): 1.0630\n",
            "sepal width (cm): 0.6199\n",
            "sepal length (cm): 0.5629\n"
          ]
        }
      ]
    },
    {
      "cell_type": "markdown",
      "source": [
        "**20.Write a Python program to train Logistic Regression and visualize the Precision-Recall Curve for binary\n",
        "classification:**"
      ],
      "metadata": {
        "id": "hzA3IX6HicCD"
      }
    },
    {
      "cell_type": "code",
      "source": [
        "\n",
        "from sklearn.datasets import load_iris\n",
        "from sklearn.model_selection import train_test_split\n",
        "from sklearn.preprocessing import StandardScaler\n",
        "from sklearn.linear_model import LogisticRegression\n",
        "from sklearn.metrics import accuracy_score, cohen_kappa_score, precision_recall_curve, auc\n",
        "import numpy as np\n",
        "import matplotlib.pyplot as plt\n",
        "\n",
        "# Load dataset\n",
        "iris = load_iris()\n",
        "X, y = iris.data, iris.target\n",
        "\n",
        "# Convert to binary classification (class 0 vs others)\n",
        "y = (y == 0).astype(int)\n",
        "\n",
        "# Split dataset into training and testing sets\n",
        "X_train, X_test, y_train, y_test = train_test_split(X, y, test_size=0.2, random_state=42)\n",
        "\n",
        "# Standardize features\n",
        "scaler = StandardScaler()\n",
        "X_train = scaler.fit_transform(X_train)\n",
        "X_test = scaler.transform(X_test)\n",
        "\n",
        "# Train Logistic Regression model with custom learning rate (C=0.5)\n",
        "model = LogisticRegression(C=0.5, max_iter=1000, random_state=42)\n",
        "model.fit(X_train, y_train)\n",
        "\n",
        "# Make predictions\n",
        "y_pred = model.predict(X_test)\n",
        "y_scores = model.decision_function(X_test)\n",
        "\n",
        "# Evaluate accuracy\n",
        "accuracy = accuracy_score(y_test, y_pred)\n",
        "kappa_score = cohen_kappa_score(y_test, y_pred)\n",
        "print(f'Accuracy: {accuracy:.4f}')\n",
        "print(f'Cohen\\'s Kappa Score: {kappa_score:.4f}')\n",
        "\n",
        "# Identify important features\n",
        "feature_importance = np.abs(model.coef_).mean(axis=0)\n",
        "feature_names = iris.feature_names\n",
        "\n",
        "# Print feature importance\n",
        "print(\"Feature Importance:\")\n",
        "for name, importance in sorted(zip(feature_names, feature_importance), key=lambda x: x[1], reverse=True):\n",
        "    print(f'{name}: {importance:.4f}')\n",
        "\n",
        "# Compute Precision-Recall Curve\n",
        "precision, recall, _ = precision_recall_curve(y_test, y_scores)\n",
        "pr_auc = auc(recall, precision)\n",
        "\n",
        "# Plot Precision-Recall Curve\n",
        "plt.figure()\n",
        "plt.plot(recall, precision, marker='.', label=f'PR AUC = {pr_auc:.4f}')\n",
        "plt.xlabel('Recall')\n",
        "plt.ylabel('Precision')\n",
        "plt.title('Precision-Recall Curve')\n",
        "plt.legend()\n",
        "plt.grid()\n",
        "plt.show()"
      ],
      "metadata": {
        "colab": {
          "base_uri": "https://localhost:8080/",
          "height": 599
        },
        "id": "CHiCQqosinT7",
        "outputId": "8d53e059-0043-4a72-ee98-e38e012ae1a2"
      },
      "execution_count": 9,
      "outputs": [
        {
          "output_type": "stream",
          "name": "stdout",
          "text": [
            "Accuracy: 1.0000\n",
            "Cohen's Kappa Score: 1.0000\n",
            "Feature Importance:\n",
            "petal length (cm): 1.4023\n",
            "petal width (cm): 1.2982\n",
            "sepal width (cm): 1.0198\n",
            "sepal length (cm): 0.8659\n"
          ]
        },
        {
          "output_type": "display_data",
          "data": {
            "text/plain": [
              "<Figure size 640x480 with 1 Axes>"
            ],
            "image/png": "[encoded data removed]"
          },
          "metadata": {}
        }
      ]
    },
    {
      "cell_type": "markdown",
      "source": [
        "**21.Write a Python program to train Logistic Regression with different solvers (liblinear, saga, lbfgs) and compare\n",
        "their accuracy**"
      ],
      "metadata": {
        "id": "MvAb_1DXi37m"
      }
    },
    {
      "cell_type": "code",
      "source": [
        "\n",
        "from sklearn.datasets import load_iris\n",
        "from sklearn.model_selection import train_test_split\n",
        "from sklearn.preprocessing import StandardScaler\n",
        "from sklearn.linear_model import LogisticRegression\n",
        "from sklearn.metrics import accuracy_score, cohen_kappa_score, precision_recall_curve, auc\n",
        "import numpy as np\n",
        "import matplotlib.pyplot as plt\n",
        "\n",
        "# Load dataset\n",
        "iris = load_iris()\n",
        "X, y = iris.data, iris.target\n",
        "\n",
        "# Convert to binary classification (class 0 vs others)\n",
        "y = (y == 0).astype(int)\n",
        "\n",
        "# Split dataset into training and testing sets\n",
        "X_train, X_test, y_train, y_test = train_test_split(X, y, test_size=0.2, random_state=42)\n",
        "\n",
        "# Standardize features\n",
        "scaler = StandardScaler()\n",
        "X_train = scaler.fit_transform(X_train)\n",
        "X_test = scaler.transform(X_test)\n",
        "\n",
        "# Train Logistic Regression model with different solvers and compare accuracy\n",
        "solvers = ['liblinear', 'saga', 'lbfgs']\n",
        "results = {}\n",
        "\n",
        "for solver in solvers:\n",
        "    model = LogisticRegression(C=0.5, max_iter=1000, random_state=42, solver=solver)\n",
        "    model.fit(X_train, y_train)\n",
        "    y_pred = model.predict(X_test)\n",
        "    accuracy = accuracy_score(y_test, y_pred)\n",
        "    results[solver] = accuracy\n",
        "    print(f'Solver: {solver}, Accuracy: {accuracy:.4f}')\n",
        "\n",
        "# Identify important features for the last trained model\n",
        "feature_importance = np.abs(model.coef_).mean(axis=0)\n",
        "feature_names = iris.feature_names\n",
        "\n",
        "# Print feature importance\n",
        "print(\"Feature Importance:\")\n",
        "for name, importance in sorted(zip(feature_names, feature_importance), key=lambda x: x[1], reverse=True):\n",
        "    print(f'{name}: {importance:.4f}')\n",
        "\n",
        "# Compute Precision-Recall Curve for the last trained model\n",
        "y_scores = model.decision_function(X_test)\n",
        "precision, recall, _ = precision_recall_curve(y_test, y_scores)\n",
        "pr_auc = auc(recall, precision)\n",
        "\n",
        "# Plot Precision-Recall Curve\n",
        "plt.figure()\n",
        "plt.plot(recall, precision, marker='.', label=f'PR AUC = {pr_auc:.4f}')\n",
        "plt.xlabel('Recall')\n",
        "plt.ylabel('Precision')\n",
        "plt.title('Precision-Recall Curve')\n",
        "plt.legend()\n",
        "plt.grid()\n",
        "plt.show()"
      ],
      "metadata": {
        "colab": {
          "base_uri": "https://localhost:8080/",
          "height": 617
        },
        "id": "3kMgux9KjBmg",
        "outputId": "2b927797-f649-4130-8393-7f2f024490c5"
      },
      "execution_count": 10,
      "outputs": [
        {
          "output_type": "stream",
          "name": "stdout",
          "text": [
            "Solver: liblinear, Accuracy: 1.0000\n",
            "Solver: saga, Accuracy: 1.0000\n",
            "Solver: lbfgs, Accuracy: 1.0000\n",
            "Feature Importance:\n",
            "petal length (cm): 1.4023\n",
            "petal width (cm): 1.2982\n",
            "sepal width (cm): 1.0198\n",
            "sepal length (cm): 0.8659\n"
          ]
        },
        {
          "output_type": "display_data",
          "data": {
            "text/plain": [
              "<Figure size 640x480 with 1 Axes>"
            ],
            "image/png": "[encoded data removed]"
          },
          "metadata": {}
        }
      ]
    },
    {
      "cell_type": "markdown",
      "source": [
        "**22.Write a Python program to train Logistic Regression and evaluate its performance using Matthews\n",
        "Correlation Coefficient (MCC)**"
      ],
      "metadata": {
        "id": "8HJSF3wNjrbQ"
      }
    },
    {
      "cell_type": "code",
      "source": [
        "\n",
        "from sklearn.datasets import load_iris\n",
        "from sklearn.model_selection import train_test_split\n",
        "from sklearn.preprocessing import StandardScaler\n",
        "from sklearn.linear_model import LogisticRegression\n",
        "from sklearn.metrics import accuracy_score, cohen_kappa_score, matthews_corrcoef, precision_recall_curve, auc\n",
        "import numpy as np\n",
        "import matplotlib.pyplot as plt\n",
        "\n",
        "# Load dataset\n",
        "iris = load_iris()\n",
        "X, y = iris.data, iris.target\n",
        "\n",
        "# Convert to binary classification (class 0 vs others)\n",
        "y = (y == 0).astype(int)\n",
        "\n",
        "# Split dataset into training and testing sets\n",
        "X_train, X_test, y_train, y_test = train_test_split(X, y, test_size=0.2, random_state=42)\n",
        "\n",
        "# Standardize features\n",
        "scaler = StandardScaler()\n",
        "X_train = scaler.fit_transform(X_train)\n",
        "X_test = scaler.transform(X_test)\n",
        "\n",
        "# Train Logistic Regression model with different solvers and compare accuracy\n",
        "solvers = ['liblinear', 'saga', 'lbfgs']\n",
        "results = {}\n",
        "\n",
        "for solver in solvers:\n",
        "    model = LogisticRegression(C=0.5, max_iter=1000, random_state=42, solver=solver)\n",
        "    model.fit(X_train, y_train)\n",
        "    y_pred = model.predict(X_test)\n",
        "    accuracy = accuracy_score(y_test, y_pred)\n",
        "    mcc = matthews_corrcoef(y_test, y_pred)\n",
        "    results[solver] = (accuracy, mcc)\n",
        "    print(f'Solver: {solver}, Accuracy: {accuracy:.4f}, MCC: {mcc:.4f}')\n",
        "\n",
        "# Identify important features for the last trained model\n",
        "feature_importance = np.abs(model.coef_).mean(axis=0)\n",
        "feature_names = iris.feature_names\n",
        "\n",
        "# Print feature importance\n",
        "print(\"Feature Importance:\")\n",
        "for name, importance in sorted(zip(feature_names, feature_importance), key=lambda x: x[1], reverse=True):\n",
        "    print(f'{name}: {importance:.4f}')\n",
        "\n",
        "# Compute Precision-Recall Curve for the last trained model\n",
        "y_scores = model.decision_function(X_test)\n",
        "precision, recall, _ = precision_recall_curve(y_test, y_scores)\n",
        "pr_auc = auc(recall, precision)\n",
        "\n",
        "# Plot Precision-Recall Curve\n",
        "plt.figure()\n",
        "plt.plot(recall, precision, marker='.', label=f'PR AUC = {pr_auc:.4f}')\n",
        "plt.xlabel('Recall')\n",
        "plt.ylabel('Precision')\n",
        "plt.title('Precision-Recall Curve')\n",
        "plt.legend()\n",
        "plt.grid()\n",
        "plt.show()"
      ],
      "metadata": {
        "colab": {
          "base_uri": "https://localhost:8080/",
          "height": 617
        },
        "id": "7t08ZnGIkIoR",
        "outputId": "87ef698c-689e-43de-fef0-bb4232bb02a5"
      },
      "execution_count": 11,
      "outputs": [
        {
          "output_type": "stream",
          "name": "stdout",
          "text": [
            "Solver: liblinear, Accuracy: 1.0000, MCC: 1.0000\n",
            "Solver: saga, Accuracy: 1.0000, MCC: 1.0000\n",
            "Solver: lbfgs, Accuracy: 1.0000, MCC: 1.0000\n",
            "Feature Importance:\n",
            "petal length (cm): 1.4023\n",
            "petal width (cm): 1.2982\n",
            "sepal width (cm): 1.0198\n",
            "sepal length (cm): 0.8659\n"
          ]
        },
        {
          "output_type": "display_data",
          "data": {
            "text/plain": [
              "<Figure size 640x480 with 1 Axes>"
            ],
            "image/png": "[encoded data removed]"
          },
          "metadata": {}
        }
      ]
    },
    {
      "cell_type": "markdown",
      "source": [
        "**23.Write a Python program to train Logistic Regression on both raw and standardized data. Compare their\n",
        "accuracy to see the impact of feature scaling**"
      ],
      "metadata": {
        "id": "W3NuKHenkSxw"
      }
    },
    {
      "cell_type": "code",
      "source": [
        "\n",
        "from sklearn.datasets import load_iris\n",
        "from sklearn.model_selection import train_test_split\n",
        "from sklearn.preprocessing import StandardScaler\n",
        "from sklearn.linear_model import LogisticRegression\n",
        "from sklearn.metrics import accuracy_score, cohen_kappa_score, matthews_corrcoef, precision_recall_curve, auc\n",
        "import numpy as np\n",
        "import matplotlib.pyplot as plt\n",
        "\n",
        "# Load dataset\n",
        "iris = load_iris()\n",
        "X, y = iris.data, iris.target\n",
        "\n",
        "# Convert to binary classification (class 0 vs others)\n",
        "y = (y == 0).astype(int)\n",
        "\n",
        "# Split dataset into training and testing sets\n",
        "X_train, X_test, y_train, y_test = train_test_split(X, y, test_size=0.2, random_state=42)\n",
        "\n",
        "# Train Logistic Regression on raw data\n",
        "model_raw = LogisticRegression(C=0.5, max_iter=1000, random_state=42, solver='liblinear')\n",
        "model_raw.fit(X_train, y_train)\n",
        "y_pred_raw = model_raw.predict(X_test)\n",
        "accuracy_raw = accuracy_score(y_test, y_pred_raw)\n",
        "print(f'Raw Data Accuracy: {accuracy_raw:.4f}')\n",
        "\n",
        "# Standardize features\n",
        "scaler = StandardScaler()\n",
        "X_train_scaled = scaler.fit_transform(X_train)\n",
        "X_test_scaled = scaler.transform(X_test)\n",
        "\n",
        "# Train Logistic Regression on standardized data\n",
        "model_scaled = LogisticRegression(C=0.5, max_iter=1000, random_state=42, solver='liblinear')\n",
        "model_scaled.fit(X_train_scaled, y_train)\n",
        "y_pred_scaled = model_scaled.predict(X_test_scaled)\n",
        "accuracy_scaled = accuracy_score(y_test, y_pred_scaled)\n",
        "print(f'Standardized Data Accuracy: {accuracy_scaled:.4f}')\n",
        "\n",
        "# Compare accuracy\n",
        "print(f'Accuracy Improvement with Standardization: {accuracy_scaled - accuracy_raw:.4f}')\n",
        "\n",
        "# Identify important features for the standardized model\n",
        "feature_importance = np.abs(model_scaled.coef_).mean(axis=0)\n",
        "feature_names = iris.feature_names\n",
        "\n",
        "# Print feature importance\n",
        "print(\"Feature Importance:\")\n",
        "for name, importance in sorted(zip(feature_names, feature_importance), key=lambda x: x[1], reverse=True):\n",
        "    print(f'{name}: {importance:.4f}')\n",
        "\n",
        "# Compute Precision-Recall Curve for the standardized model\n",
        "y_scores = model_scaled.decision_function(X_test_scaled)\n",
        "precision, recall, _ = precision_recall_curve(y_test, y_scores)\n",
        "pr_auc = auc(recall, precision)\n",
        "\n",
        "# Plot Precision-Recall Curve\n",
        "plt.figure()\n",
        "plt.plot(recall, precision, marker='.', label=f'PR AUC = {pr_auc:.4f}')\n",
        "plt.xlabel('Recall')\n",
        "plt.ylabel('Precision')\n",
        "plt.title('Precision-Recall Curve')\n",
        "plt.legend()\n",
        "plt.grid()\n",
        "plt.show()"
      ],
      "metadata": {
        "colab": {
          "base_uri": "https://localhost:8080/",
          "height": 617
        },
        "id": "W-x3tN6wkfTI",
        "outputId": "aae3d7f2-fc3c-45eb-9752-d776124c5798"
      },
      "execution_count": 13,
      "outputs": [
        {
          "output_type": "stream",
          "name": "stdout",
          "text": [
            "Raw Data Accuracy: 1.0000\n",
            "Standardized Data Accuracy: 1.0000\n",
            "Accuracy Improvement with Standardization: 0.0000\n",
            "Feature Importance:\n",
            "petal length (cm): 1.3323\n",
            "petal width (cm): 1.2038\n",
            "sepal width (cm): 1.1590\n",
            "sepal length (cm): 0.6893\n"
          ]
        },
        {
          "output_type": "display_data",
          "data": {
            "text/plain": [
              "<Figure size 640x480 with 1 Axes>"
            ],
            "image/png": "[encoded data removed]"
          },
          "metadata": {}
        }
      ]
    },
    {
      "cell_type": "markdown",
      "source": [
        "**24.Write a Python program to train Logistic Regression and find the optimal C (regularization strength) using\n",
        "cross-validation**"
      ],
      "metadata": {
        "id": "hOYaYojmlDhW"
      }
    },
    {
      "cell_type": "code",
      "source": [
        "\n",
        "from sklearn.datasets import load_iris\n",
        "from sklearn.model_selection import train_test_split, cross_val_score\n",
        "from sklearn.preprocessing import StandardScaler\n",
        "from sklearn.linear_model import LogisticRegression\n",
        "from sklearn.metrics import accuracy_score, cohen_kappa_score, matthews_corrcoef, precision_recall_curve, auc\n",
        "import numpy as np\n",
        "import matplotlib.pyplot as plt\n",
        "\n",
        "# Load dataset\n",
        "iris = load_iris()\n",
        "X, y = iris.data, iris.target\n",
        "\n",
        "# Convert to binary classification (class 0 vs others)\n",
        "y = (y == 0).astype(int)\n",
        "\n",
        "# Split dataset into training and testing sets\n",
        "X_train, X_test, y_train, y_test = train_test_split(X, y, test_size=0.2, random_state=42)\n",
        "\n",
        "# Standardize features\n",
        "scaler = StandardScaler()\n",
        "X_train_scaled = scaler.fit_transform(X_train)\n",
        "X_test_scaled = scaler.transform(X_test)\n",
        "\n",
        "# Find optimal C using cross-validation\n",
        "C_values = [0.01, 0.1, 0.5, 1, 5, 10]\n",
        "best_C = None\n",
        "best_score = 0\n",
        "\n",
        "for C in C_values:\n",
        "    model = LogisticRegression(C=C, max_iter=1000, random_state=42, solver='liblinear')\n",
        "    scores = cross_val_score(model, X_train_scaled, y_train, cv=5, scoring='accuracy')\n",
        "    mean_score = scores.mean()\n",
        "    print(f'C={C}, Cross-Validation Accuracy: {mean_score:.4f}')\n",
        "    if mean_score > best_score:\n",
        "        best_score = mean_score\n",
        "        best_C = C\n",
        "\n",
        "print(f'Optimal C: {best_C}, Best Cross-Validation Accuracy: {best_score:.4f}')\n",
        "\n",
        "# Train Logistic Regression with the optimal C\n",
        "model_optimal = LogisticRegression(C=best_C, max_iter=1000, random_state=42, solver='liblinear')\n",
        "model_optimal.fit(X_train_scaled, y_train)\n",
        "y_pred_scaled = model_optimal.predict(X_test_scaled)\n",
        "accuracy_scaled = accuracy_score(y_test, y_pred_scaled)\n",
        "print(f'Test Accuracy with Optimal C: {accuracy_scaled:.4f}')\n",
        "\n",
        "# Identify important features for the standardized model\n",
        "feature_importance = np.abs(model_optimal.coef_).mean(axis=0)\n",
        "feature_names = iris.feature_names\n",
        "\n",
        "# Print feature importance\n",
        "print(\"Feature Importance:\")\n",
        "for name, importance in sorted(zip(feature_names, feature_importance), key=lambda x: x[1], reverse=True):\n",
        "    print(f'{name}: {importance:.4f}')\n",
        "\n",
        "# Compute Precision-Recall Curve for the standardized model\n",
        "y_scores = model_optimal.decision_function(X_test_scaled)\n",
        "precision, recall, _ = precision_recall_curve(y_test, y_scores)\n",
        "pr_auc = auc(recall, precision)\n",
        "\n",
        "# Plot Precision-Recall Curve\n",
        "plt.figure()\n",
        "plt.plot(recall, precision, marker='.', label=f'PR AUC = {pr_auc:.4f}')\n",
        "plt.xlabel('Recall')\n",
        "plt.ylabel('Precision')\n",
        "plt.title('Precision-Recall Curve')\n",
        "plt.legend()\n",
        "plt.grid()\n",
        "plt.show()"
      ],
      "metadata": {
        "colab": {
          "base_uri": "https://localhost:8080/",
          "height": 708
        },
        "id": "7BPonLbAlKd0",
        "outputId": "437cdd76-3d07-49c3-d098-b5c40e685148"
      },
      "execution_count": 14,
      "outputs": [
        {
          "output_type": "stream",
          "name": "stdout",
          "text": [
            "C=0.01, Cross-Validation Accuracy: 1.0000\n",
            "C=0.1, Cross-Validation Accuracy: 1.0000\n",
            "C=0.5, Cross-Validation Accuracy: 1.0000\n",
            "C=1, Cross-Validation Accuracy: 1.0000\n",
            "C=5, Cross-Validation Accuracy: 1.0000\n",
            "C=10, Cross-Validation Accuracy: 1.0000\n",
            "Optimal C: 0.01, Best Cross-Validation Accuracy: 1.0000\n",
            "Test Accuracy with Optimal C: 1.0000\n",
            "Feature Importance:\n",
            "petal length (cm): 0.2920\n",
            "petal width (cm): 0.2783\n",
            "sepal width (cm): 0.2189\n",
            "sepal length (cm): 0.2063\n"
          ]
        },
        {
          "output_type": "display_data",
          "data": {
            "text/plain": [
              "<Figure size 640x480 with 1 Axes>"
            ],
            "image/png": "[encoded data removed]"
          },
          "metadata": {}
        }
      ]
    },
    {
      "cell_type": "markdown",
      "source": [
        "**25.Write a Python program to train Logistic Regression, save the trained model using joblib, and load it again to\n",
        "make predictions.**"
      ],
      "metadata": {
        "id": "pjeuUAYylTjS"
      }
    },
    {
      "cell_type": "code",
      "source": [
        "\n",
        "from sklearn.datasets import load_iris\n",
        "from sklearn.model_selection import train_test_split, cross_val_score\n",
        "from sklearn.preprocessing import StandardScaler\n",
        "from sklearn.linear_model import LogisticRegression\n",
        "from sklearn.metrics import accuracy_score, cohen_kappa_score, matthews_corrcoef, precision_recall_curve, auc\n",
        "import numpy as np\n",
        "import matplotlib.pyplot as plt\n",
        "import joblib\n",
        "\n",
        "# Load dataset\n",
        "iris = load_iris()\n",
        "X, y = iris.data, iris.target\n",
        "\n",
        "# Convert to binary classification (class 0 vs others)\n",
        "y = (y == 0).astype(int)\n",
        "\n",
        "# Split dataset into training and testing sets\n",
        "X_train, X_test, y_train, y_test = train_test_split(X, y, test_size=0.2, random_state=42)\n",
        "\n",
        "# Standardize features\n",
        "scaler = StandardScaler()\n",
        "X_train_scaled = scaler.fit_transform(X_train)\n",
        "X_test_scaled = scaler.transform(X_test)\n",
        "\n",
        "# Find optimal C using cross-validation\n",
        "C_values = [0.01, 0.1, 0.5, 1, 5, 10]\n",
        "best_C = None\n",
        "best_score = 0\n",
        "\n",
        "for C in C_values:\n",
        "    model = LogisticRegression(C=C, max_iter=1000, random_state=42, solver='liblinear')\n",
        "    scores = cross_val_score(model, X_train_scaled, y_train, cv=5, scoring='accuracy')\n",
        "    mean_score = scores.mean()\n",
        "    print(f'C={C}, Cross-Validation Accuracy: {mean_score:.4f}')\n",
        "    if mean_score > best_score:\n",
        "        best_score = mean_score\n",
        "        best_C = C\n",
        "\n",
        "print(f'Optimal C: {best_C}, Best Cross-Validation Accuracy: {best_score:.4f}')\n",
        "\n",
        "# Train Logistic Regression with the optimal C\n",
        "model_optimal = LogisticRegression(C=best_C, max_iter=1000, random_state=42, solver='liblinear')\n",
        "model_optimal.fit(X_train_scaled, y_train)\n",
        "\n",
        "# Save the trained model\n",
        "joblib.dump(model_optimal, 'logistic_regression_model.pkl')\n",
        "joblib.dump(scaler, 'scaler.pkl')\n",
        "print(\"Model and scaler saved successfully.\")\n",
        "\n",
        "# Load the model and scaler\n",
        "loaded_model = joblib.load('logistic_regression_model.pkl')\n",
        "loaded_scaler = joblib.load('scaler.pkl')\n",
        "print(\"Model and scaler loaded successfully.\")\n",
        "\n",
        "# Make predictions using the loaded model\n",
        "X_test_scaled_loaded = loaded_scaler.transform(X_test)\n",
        "y_pred_loaded = loaded_model.predict(X_test_scaled_loaded)\n",
        "accuracy_loaded = accuracy_score(y_test, y_pred_loaded)\n",
        "print(f'Test Accuracy with Loaded Model: {accuracy_loaded:.4f}')\n",
        "\n",
        "# Identify important features for the standardized model\n",
        "feature_importance = np.abs(loaded_model.coef_).mean(axis=0)\n",
        "feature_names = iris.feature_names\n",
        "\n",
        "# Print feature importance\n",
        "print(\"Feature Importance:\")\n",
        "for name, importance in sorted(zip(feature_names, feature_importance), key=lambda x: x[1], reverse=True):\n",
        "    print(f'{name}: {importance:.4f}')\n",
        "\n",
        "# Compute Precision-Recall Curve for the standardized model\n",
        "y_scores = loaded_model.decision_function(X_test_scaled_loaded)\n",
        "precision, recall, _ = precision_recall_curve(y_test, y_scores)\n",
        "pr_auc = auc(recall, precision)\n",
        "\n",
        "# Plot Precision-Recall Curve\n",
        "plt.figure()\n",
        "plt.plot(recall, precision, marker='.', label=f'PR AUC = {pr_auc:.4f}')\n",
        "plt.xlabel('Recall')\n",
        "plt.ylabel('Precision')\n",
        "plt.title('Precision-Recall Curve')\n",
        "plt.legend()\n",
        "plt.grid()\n",
        "plt.show()"
      ],
      "metadata": {
        "colab": {
          "base_uri": "https://localhost:8080/",
          "height": 744
        },
        "id": "krquTBDPlenP",
        "outputId": "fda594f2-3631-4158-ed95-e936a0431f3f"
      },
      "execution_count": 15,
      "outputs": [
        {
          "output_type": "stream",
          "name": "stdout",
          "text": [
            "C=0.01, Cross-Validation Accuracy: 1.0000\n",
            "C=0.1, Cross-Validation Accuracy: 1.0000\n",
            "C=0.5, Cross-Validation Accuracy: 1.0000\n",
            "C=1, Cross-Validation Accuracy: 1.0000\n",
            "C=5, Cross-Validation Accuracy: 1.0000\n",
            "C=10, Cross-Validation Accuracy: 1.0000\n",
            "Optimal C: 0.01, Best Cross-Validation Accuracy: 1.0000\n",
            "Model and scaler saved successfully.\n",
            "Model and scaler loaded successfully.\n",
            "Test Accuracy with Loaded Model: 1.0000\n",
            "Feature Importance:\n",
            "petal length (cm): 0.2920\n",
            "petal width (cm): 0.2783\n",
            "sepal width (cm): 0.2189\n",
            "sepal length (cm): 0.2063\n"
          ]
        },
        {
          "output_type": "display_data",
          "data": {
            "text/plain": [
              "<Figure size 640x480 with 1 Axes>"
            ],
            "image/png": "[encoded data removed]"
          },
          "metadata": {}
        }
      ]
    }
  ]
}