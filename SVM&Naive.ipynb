{
  "nbformat": 4,
  "nbformat_minor": 0,
  "metadata": {
    "colab": {
      "provenance": []
    },
    "kernelspec": {
      "name": "python3",
      "display_name": "Python 3"
    },
    "language_info": {
      "name": "python"
    }
  },
  "cells": [
    {
      "cell_type": "markdown",
      "source": [
        "**1. Q1.What is a Support Vector Machine (SVM)?**\n",
        "\n",
        "Ans.A Support Vector Machine (SVM) is a supervised machine learning algorithm used for classification and regression tasks. It is particularly effective for binary classification problems.\n",
        "SVM works by finding the optimal hyperplane that best separates the data points of different classes in an N-dimensional space (where N is the number of features). The goal is to maximize the margin between the closest data points (support vectors) and the decision boundary."
      ],
      "metadata": {
        "id": "Lpg6E5xcdlMG"
      }
    },
    {
      "cell_type": "markdown",
      "source": [
        "**Q2.What is the difference between Hard Margin and Soft Margin SVM?**\n",
        "\n",
        "Ans.The difference between Hard Margin SVM and Soft Margin SVM lies in how strictly they enforce the separation between classes.\n",
        "\n",
        "1. Hard Margin SVM\n",
        "Used when the data is perfectly linearly separable (i.e., there exists a hyperplane that can separate the classes with no errors).\n",
        "The SVM finds a hyperplane that maximizes the margin while ensuring no misclassification.\n",
        "Strict constraint: No data points can be on the wrong side of the margin.\n",
        "Limitation: Not useful for real-world noisy data, as it cannot handle outliers.\n",
        "\n",
        "2. Soft Margin SVM\n",
        "Used when the data is not perfectly separable.\n",
        "Allows some misclassification by introducing a slack variable (ξ) that permits certain data points to be within the margin or even on the wrong side of the hyperplane.\n",
        "A regularization parameter C controls the trade-off between maximizing the margin and minimizing classification errors:\n",
        "-Large C → Less tolerance for misclassification (tries to fit data more strictly).\n",
        "-Small C → More tolerance for misclassification (better for noisy data).\n",
        "More flexible and suitable for real-world datasets with overlapping classes."
      ],
      "metadata": {
        "id": "Cs7CSmy96w1K"
      }
    },
    {
      "cell_type": "markdown",
      "source": [
        "**Q3.What is the mathematical intuition behind SVM?**\n",
        "\n",
        "Ans.The mathematical intuition behind Support Vector Machines (SVM) revolves around maximizing the margin between two classes while minimizing classification errors.\n",
        "1. Defining the Hyperplane\n",
        "A hyperplane is the decision boundary that separates different classes in an N-dimensional space. It is defined by the equation:\n",
        "w⋅x+b=0\n",
        "where:\n",
        "w = Weight vector (determines orientation of the hyperplane)\n",
        "x = Input feature vector\n",
        "b = Bias term (determines the position of the hyperplane)\n",
        "\n",
        "2. Margin and Support Vectors\n",
        "The margin is the distance between the closest data points (support vectors) and the hyperplane. The goal of SVM is to maximize this margin, which is defined as:\n",
        "Margin= ∣∣w∣∣ / 2\n",
        "Maximizing the margin leads to better generalization and robustness.\n",
        "\n",
        "3. Final Decision Function\n",
        "Once we solve for w and b, we classify new points using:\n",
        "f(x)=sign(w⋅x+b)\n",
        "If f(x)>0, classify as +1; otherwise, classify as -1."
      ],
      "metadata": {
        "id": "hqJ04duj7BhO"
      }
    },
    {
      "cell_type": "markdown",
      "source": [
        "**Q4.What is the role of Lagrange Multipliers in SVM?**\n",
        "\n",
        "Ans.Role of Lagrange Multipliers in SVM\n",
        "Lagrange multipliers play a crucial role in Support Vector Machines (SVMs) by transforming the constrained optimization problem into a form that can be efficiently solved. This approach is known as the dual formulation of SVM.\n",
        "The SVM optimization problem involves finding a hyperplane that maximizes the margin while satisfying constraints. This is a constrained optimization problem, which is difficult to solve directly.\n",
        "\n",
        "Lagrange multipliers allow us to:\n",
        "Convert a constrained problem into an unconstrained one.\n",
        "Solve for the optimal hyperplane efficiently.\n",
        "Introduce kernel functions to handle non-linearly separable data."
      ],
      "metadata": {
        "id": "sct3zIzO7G80"
      }
    },
    {
      "cell_type": "markdown",
      "source": [
        "**Q5.What are Support Vectors in SVM?**\n",
        "\n",
        "Ans.Support Vectors are the most important data points in Support Vector Machines (SVMs). They are the data points that are closest to the decision boundary (hyperplane) and determine its position and orientation.\n",
        "1. Role of Support Vectors\n",
        "Define the Margin: The margin is the distance between the hyperplane and the closest data points. The support vectors lie exactly on the margin (for a hard-margin SVM).\n",
        "Influence the Decision Boundary: If a support vector is moved, the hyperplane will shift.\n",
        "Sparse Representation: Only a few data points (the support vectors) influence the final model, making SVM efficient.\n",
        "\n",
        "2. Identifying Support Vectors\n",
        "From the dual form of SVM, support vectors are the points where the Lagrange multipliers\n",
        "αi are nonzero:\n",
        "w= i∑αiyixi\n",
        "​If αi>0, the point is a support vector.\n",
        "If αi=0, the point is not a support vector (it lies far from the margin)."
      ],
      "metadata": {
        "id": "bV-g3Lfk7PZl"
      }
    },
    {
      "cell_type": "markdown",
      "source": [
        "**Q6.What is a Support Vector Classifier (SVC)?**\n",
        "\n",
        "Ans.A Support Vector Classifier (SVC) is a classification algorithm based on Support Vector Machines (SVMs). It finds an optimal hyperplane that separates data points into different classes with maximum margin.\n",
        "-How Does SVC Work?\n",
        "Given a dataset with two classes (e.g., +1 and -1), SVC aims to find a decision boundary that maximizes the margin between the two classes.\n",
        "The closest points to the hyperplane are called Support Vectors, and they determine the classification boundary.\n",
        "If the data is linearly separable, a straight-line (or plane in higher dimensions) can classify the points.\n",
        "If the data is not linearly separable, SVC can use the kernel trick to project data into a higher-dimensional space where separation is possible."
      ],
      "metadata": {
        "id": "Y5Qy1Pmv7csL"
      }
    },
    {
      "cell_type": "markdown",
      "source": [
        "**Q7.What is a Support Vector Regressor (SVR)?**\n",
        "\n",
        "Ans.A Support Vector Regressor (SVR) is a regression algorithm based on Support Vector Machines (SVMs). Unlike Support Vector Classification (SVC), which finds a hyperplane to separate data into classes, SVR finds a function that best fits the data within a certain margin (epsilon-tube).\n",
        "How Does SVR Work?\n",
        "SVR aims to find a function\n",
        "f(x) that predicts the target values with minimal error while ignoring small deviations (controlled by epsilon ε).\n",
        "\n",
        "Instead of maximizing the margin, SVR tries to fit the best function while allowing for some flexibility (tolerance for errors).\n",
        "Only support vectors (points outside the epsilon-tube) affect the final model.\n",
        "The goal is to minimize complexity while keeping prediction error within the given ε-tube."
      ],
      "metadata": {
        "id": "Sx31lwFe7rZY"
      }
    },
    {
      "cell_type": "markdown",
      "source": [
        "**Q8.What is the Kernel Trick in SVM?**\n",
        "\n",
        "Ans.The Kernel Trick is a mathematical technique used in Support Vector Machines (SVMs) to transform non-linearly separable data into a higher-dimensional space where it becomes linearly separable. This allows SVM to work efficiently without explicitly computing the transformation.\n",
        "SVMs work best when data is linearly separable. However, many real-world datasets are not linearly separable in their original feature space.\n",
        "\n",
        "Example:\n",
        "Consider a dataset where two classes are arranged in concentric circles. A straight line (linear boundary) cannot separate them. The Kernel Trick helps by transforming the data into a higher dimension where it becomes linearly separable."
      ],
      "metadata": {
        "id": "S_3bxp5w7vXP"
      }
    },
    {
      "cell_type": "markdown",
      "source": [
        "**Q9.Compare Linear Kernel, Polynomial Kernel, and RBF Kernel.**\n",
        "\n",
        "Ans.\n",
        "1. Linear Kernel\n",
        "Mathematical Formula:\n",
        "K(xi,xj)=xi⋅xj\n",
        "The linear kernel computes the dot product between two feature vectors.\n",
        "It does not transform data into a higher dimension.\n",
        "Advantages:\n",
        " Fast computation (since no transformation is applied).\n",
        " Works well when data is already linearly separable.\n",
        " Fewer hyperparameters to tune (only C, the regularization parameter).\n",
        "\n",
        "Disadvantages:\n",
        " Cannot handle non-linearly separable data.\n",
        " Performance is limited if the dataset has complex decision boundaries.\n",
        "\n",
        " 2. Polynomial Kernel\n",
        "Mathematical Formula:\n",
        "K(xi,xj)=(xi⋅xj+c)d\n",
        "\n",
        "where:\n",
        "d = degree of the polynomial (higher values increase complexity).\n",
        "c = constant (controls model flexibility).\n",
        "Advantages:\n",
        " Captures interactions between features (useful for non-linear relationships).\n",
        " Better than a linear kernel for moderately complex data.\n",
        " Provides more flexibility with degree d and constant c.\n",
        "\n",
        "Disadvantages:\n",
        " Slower computation for large datasets (higher degree polynomials increase complexity).\n",
        " Overfitting risk if the degree d is too high.\n",
        "\n",
        "3. Radial Basis Function (RBF) Kernel\n",
        "Mathematical Formula:\n",
        "K(xi,xj)=exp(−γ∣∣xi−xj∣∣2)\n",
        "where:\n",
        "γ (gamma) controls the influence of a single training sample.\n",
        "A higher γ value means points close to each other have more influence, leading to a more flexible decision boundary.\n",
        "Advantages:\n",
        " Handles highly non-linear data efficiently.\n",
        " More flexible than both linear and polynomial kernels.\n",
        " Works well in most real-world applications.\n",
        "\n",
        "Disadvantages:\n",
        " Harder to interpret than linear models.\n",
        " Requires careful tuning of γ and C to prevent overfitting or underfitting.\n",
        " Computationally expensive for large datasets."
      ],
      "metadata": {
        "id": "SyDO-6y573Jz"
      }
    },
    {
      "cell_type": "markdown",
      "source": [
        "**Q10. What is the effect of the C parameter in SVM?**\n",
        "\n",
        "Ans.The C parameter in Support Vector Machines (SVM) controls the trade-off between maximizing the margin and minimizing classification errors. It acts as a regularization parameter, influencing how strict the model is in avoiding misclassification.\n",
        " Effects of Different C Values\n",
        "(a) Large C (High Regularization) → Hard Margin SVM\n",
        "Strictly penalizes misclassified points (small slack variables ξi).\n",
        "Leads to a small-margin, complex model that tries to fit all training points.\n",
        "Higher risk of overfitting because the model focuses too much on training data.\n",
        "Use when you want high accuracy on training data and low tolerance for misclassification.\n",
        "(b) Small C (Low Regularization) → Soft Margin SVM\n",
        "Allows more misclassified points (larger slack variables ξi).\n",
        "Leads to a larger-margin, simpler model that generalizes better.\n",
        "Higher tolerance for noise and outliers but may misclassify some training points."
      ],
      "metadata": {
        "id": "Lh-k_9UX8JpZ"
      }
    },
    {
      "cell_type": "markdown",
      "source": [
        "**Q11. What is the role of the Gamma parameter in RBF Kernel SVM?**\n",
        "\n",
        "Ans.In an RBF (Radial Basis Function) Kernel SVM, the gamma (γ) parameter plays a crucial role in determining how much influence a single training example has.\n",
        "Role of Gamma (γ) in RBF Kernel SVM:\n",
        "Controls the Decision Boundary:\n",
        "A higher gamma (large γ) value makes the model focus more on individual training points, leading to a complex decision boundary that may overfit the data.\n",
        "A lower gamma (small γ) value makes the model consider points farther apart, leading to a smoother decision boundary that may underfit the data.\n",
        "\n",
        "Defines the Influence of a Single Training Point:\n",
        "Large γ: Each training point has a small influence radius, meaning only very close points are considered similar.\n",
        "Small γ: Training points have a larger influence radius, meaning distant points also contribute to classification."
      ],
      "metadata": {
        "id": "HmIULU9d8TqM"
      }
    },
    {
      "cell_type": "markdown",
      "source": [
        "**Q12.What is the Naïve Bayes classifier, and why is it called \"Naïve\"?**\n",
        "\n",
        "Ans.The Naïve Bayes classifier is a probabilistic machine learning algorithm based on Bayes' Theorem. It is primarily used for classification tasks such as spam filtering, sentiment analysis, and medical diagnosis.\n",
        "\n",
        "It works by calculating the probability of each class given the input features and selecting the class with the highest probability. The formula is:\n",
        "P(C∣X)= P(X∣C)P(C) / P(X)\n",
        "\n",
        "The term \"Naïve\" comes from the assumption that all features are independent of each other given the class label. This is rarely true in real-world data, making the assumption \"naïve\" or simplistic.\n",
        "For example, if we classify emails as spam or not spam, the words \"free\" and \"offer\" might be highly correlated, but Naïve Bayes assumes they are independent.\n",
        "Despite this unrealistic assumption, Naïve Bayes performs surprisingly well in many applications because it works well with high-dimensional data and requires less training data."
      ],
      "metadata": {
        "id": "7u7oBKoG8emf"
      }
    },
    {
      "cell_type": "markdown",
      "source": [
        "**Q13.What is Bayes’ Theorem?**\n",
        "\n",
        "Ans.Bayes' Theorem is a fundamental concept in probability theory and statistics that describes how to update the probability of a hypothesis based on new evidence.\n",
        "\n",
        "Mathematical Formula:\n",
        "P(A∣B)= P(B∣A)P(A) / P(B)\n",
        "Where:\n",
        "P(A∣B) = Probability of event A occurring given that event B has occurred (Posterior Probability).\n",
        "P(B∣A) = Probability of event B occurring given that event A has occurred (Likelihood).\n",
        "P(A) = Probability of event A occurring (Prior Probability).\n",
        "P(B) = Probability of event B occurring (Evidence or Normalization Factor)."
      ],
      "metadata": {
        "id": "wgwuyVxO8qXm"
      }
    },
    {
      "cell_type": "markdown",
      "source": [
        "**Q14.Explain the differences between Gaussian Naïve Bayes, Multinomial Naïve Bayes, and Bernoulli Naïve Bayes.**\n",
        "\n",
        "Ans.\n",
        "1. Gaussian Naïve Bayes\n",
        "Used for continuous (real-valued) features.\n",
        "Assumes that the features follow a Gaussian (normal) distribution.\n",
        "For each feature, it estimates the mean and variance from the training data and uses these values to compute probabilities.\n",
        "Commonly used in scenarios where features are numerical, such as age, height, weight, or sensor data.\n",
        "Example use case: Classifying iris flower species based on petal length and width.\n",
        "2. Multinomial Naïve Bayes\n",
        "Suitable for discrete (count-based) features.\n",
        "Used mainly in text classification, where features represent word counts or term frequencies (e.g., Bag of Words model).\n",
        "Assumes that features follow a multinomial distribution, meaning they represent the frequency of occurrences in different categories.\n",
        "Works well for problems like spam detection or document categorization.\n",
        "Example use case: Classifying emails as spam or non-spam based on word occurrences.\n",
        "3. Bernoulli Naïve Bayes\n",
        "Designed for binary (0 or 1) features.\n",
        "Assumes that each feature follows a Bernoulli distribution, meaning the feature is either present (1) or absent (0).\n",
        "Often used for binary text classification, such as when words are represented as present or absent in a document.\n",
        "Example use case: Detecting whether a document belongs to a particular category based on the presence/absence of specific words."
      ],
      "metadata": {
        "id": "l5_pkEJh8uTV"
      }
    },
    {
      "cell_type": "markdown",
      "source": [
        "**Q15. When should you use Gaussian Naïve Bayes over other variants?**\n",
        "\n",
        "Ans.1. When Features Are Continuous\n",
        "GNB is designed for datasets with real-valued features such as age, height, weight, or sensor readings.\n",
        "Unlike Multinomial or Bernoulli Naïve Bayes, which are suited for categorical or binary features, GNB works well with floating-point numbers.\n",
        "2. When the Data Is Normally Distributed\n",
        "GNB assumes that each feature follows a Gaussian (bell-shaped) distribution within each class.\n",
        "If your data approximately follows a normal distribution, GNB will likely perform well.\n",
        "If the data is highly skewed or follows a non-Gaussian distribution, other classifiers might be more appropriate.\n",
        "3. When You Need a Fast and Simple Classifier\n",
        "GNB is computationally efficient and works well with large datasets.\n",
        "It has low training time compared to other models like Support Vector Machines (SVMs) or Neural Networks.\n",
        "4. When You Have Small Datasets\n",
        "GNB works well even with small datasets because it estimates parameters (mean and variance) using limited data.\n",
        "It does not require a large amount of training data, unlike deep learning models."
      ],
      "metadata": {
        "id": "ySfcksQW84GY"
      }
    },
    {
      "cell_type": "markdown",
      "source": [
        "**Q16.What are the key assumptions made by Naïve Bayes?**\n",
        "Ans.\n",
        "1. Conditional Independence Assumption\n",
        "The model assumes that features are independent given the class label.\n",
        "This means that each feature contributes to the probability of a class independently of the others.\n",
        "Example: In email spam detection, the presence of the words \"offer\" and \"win\" is assumed to be independent when determining if an email is spam.\n",
        "2. Feature Contribution Assumption\n",
        "Each feature contributes equally and independently to the final classification.\n",
        "The model does not consider interactions or dependencies between features.\n",
        "3. Class Prior Assumption\n",
        "The model assumes that class probabilities are based on prior distributions.\n",
        "It estimates the probability of each class in the training data and uses it in predictions.\n",
        "Example: If 70% of emails in the dataset are non-spam and 30% are spam, the model assumes the same proportion in predictions.\n",
        "4. Distribution Assumption (Varies by Variant)\n",
        "Gaussian Naïve Bayes assumes normal distribution of continuous features.\n",
        "Multinomial Naïve Bayes assumes that features represent word counts or frequencies in text data.\n",
        "Bernoulli Naïve Bayes assumes that features are binary (0 or 1), indicating presence or absence."
      ],
      "metadata": {
        "id": "bu5jatr89Ix3"
      }
    },
    {
      "cell_type": "markdown",
      "source": [
        "**Q17.What are the advantages and disadvantages of Naïve Bayes?**\n",
        "\n",
        "Ans.Advantages of Naïve Bayes\n",
        "1. Fast and Efficient\n",
        "Naïve Bayes is computationally very fast compared to other classification algorithms.\n",
        "It works well even with large datasets because it requires only a few probability calculations.\n",
        "2. Works Well with Small Data\n",
        "Unlike deep learning or other complex models, Naïve Bayes performs well even with limited training data.\n",
        "3. Handles High-Dimensional Data\n",
        "It works well in problems with many features, such as text classification (where each word is a feature).\n",
        "Used in spam detection, sentiment analysis, and document categorization.\n",
        "\n",
        "Disadvantages of Naïve Bayes\n",
        "1. Assumption of Feature Independence\n",
        "The biggest limitation is that it assumes all features are independent, which is rarely true in real-world scenarios.\n",
        "Example: In text classification, words often have dependencies (e.g., \"New York\" is a phrase, but Naïve Bayes treats \"New\" and \"York\" independently).\n",
        "2. Poor Performance on Correlated Features\n",
        "If two features are highly correlated, Naïve Bayes overcounts their impact, leading to incorrect predictions.\n",
        "3. Zero-Frequency Problem\n",
        "If a feature value never appears in training data, the model assigns a zero probability, which can break classification.\n",
        "Solution: Laplace Smoothing is used to handle this issue."
      ],
      "metadata": {
        "id": "yuf9yYeH9Ljs"
      }
    },
    {
      "cell_type": "markdown",
      "source": [
        "**Q18.Why is Naïve Bayes a good choice for text classification?**\n",
        "\n",
        "Ans.1. Works Well with High-Dimensional Data\n",
        "Text data has thousands of features (words), but Naïve Bayes handles this efficiently.\n",
        "Unlike decision trees or SVMs, it does not struggle with a large number of features.\n",
        "2. Fast and Scalable\n",
        "Training and predicting with Naïve Bayes is much faster than many other models.\n",
        "Even with large datasets (millions of documents), it can classify text quickly.\n",
        "3. Handles Sparse Data Well\n",
        "In text classification, most words are absent in a given document, leading to sparse data.\n",
        "Naïve Bayes still performs well, unlike algorithms that struggle with missing features.\n",
        "4. Works Well Even with Small Data\n",
        "Unlike deep learning models that need massive datasets, Naïve Bayes performs well even with limited training data.\n",
        "5. Probabilistic Output for Confidence Scores\n",
        "It provides probabilities for each class, which can be useful for ranking results (e.g., sorting emails as \"definitely spam\" or \"probably spam\")."
      ],
      "metadata": {
        "id": "CykymZ6b9ZQQ"
      }
    },
    {
      "cell_type": "markdown",
      "source": [
        "\n",
        "**Q19.Compare SVM and Naïve Bayes for classification tasks?**\n",
        "\n",
        "Ans.\n",
        "1. Concept & Working Principle\n",
        "SVM: Finds a decision boundary (hyperplane) that maximizes the margin between different classes. It is a discriminative model that learns the optimal boundary between classes.\n",
        "Naïve Bayes: Uses Bayes’ theorem and assumes independence between features to calculate the probability of each class. It is a generative model.\n",
        "2. Assumptions\n",
        "SVM: Does not assume independence between features. Works well even when features are correlated.\n",
        "Naïve Bayes: Assumes all features are independent, which may not always be true in real-world data.\n",
        "3. Performance on Small & Large Datasets\n",
        "SVM: Works well on small datasets with complex relationships. However, for very large datasets, training time can be slow.\n",
        "Naïve Bayes: Performs well even with small datasets and scales efficiently for large datasets."
      ],
      "metadata": {
        "id": "rDD0mO4z9g2q"
      }
    },
    {
      "cell_type": "markdown",
      "source": [
        "**Q20.How does Laplace Smoothing help in Naïve Bayes?**\n",
        "\n",
        "Ans.Laplace Smoothing (also called additive smoothing) helps Naïve Bayes by solving the zero-frequency problem when a word or feature never appears in the training data. Without smoothing, if a feature has a zero probability, it can completely invalidate the probability calculation.\n",
        "1. The Zero-Frequency Problem\n",
        "In Naïve Bayes, probabilities are calculated using:\n",
        "P(wi∣C)= count(wi in class C) / total words in class C\n",
        "If a word never appeared in training for a class, its probability becomes zero, making the entire product of probabilities zero.\n",
        "\n",
        "2. How Laplace Smoothing Fixes This\n",
        "Laplace Smoothing adds a small constant value (typically 1) to every word count to avoid zero probabilities.\n",
        "The modified formula is:\n",
        "P(wi∣C)= count(wi in class C)+1 / total words in class C+V"
      ],
      "metadata": {
        "id": "SLe1ocY69nvb"
      }
    },
    {
      "cell_type": "markdown",
      "source": [
        "**21.Write a Python program to train an SVM Classifier on the Iris dataset and evaluate accuracy:**"
      ],
      "metadata": {
        "id": "9y-6DiitVcFy"
      }
    },
    {
      "cell_type": "code",
      "source": [
        "from sklearn import datasets\n",
        "from sklearn.model_selection import train_test_split\n",
        "from sklearn.preprocessing import StandardScaler\n",
        "from sklearn.svm import SVC\n",
        "from sklearn.metrics import accuracy_score\n",
        "\n",
        "def main():\n",
        "    # Load the Iris dataset\n",
        "    iris = datasets.load_iris()\n",
        "    X, y = iris.data, iris.target\n",
        "\n",
        "    # Split into training and testing sets\n",
        "    X_train, X_test, y_train, y_test = train_test_split(X, y, test_size=0.2, random_state=42)\n",
        "\n",
        "    # Standardize the features\n",
        "    scaler = StandardScaler()\n",
        "    X_train = scaler.fit_transform(X_train)\n",
        "    X_test = scaler.transform(X_test)\n",
        "\n",
        "    # Train an SVM classifier\n",
        "    svm_classifier = SVC(kernel='linear', C=1.0, random_state=42)\n",
        "    svm_classifier.fit(X_train, y_train)\n",
        "\n",
        "    # Make predictions\n",
        "    y_pred = svm_classifier.predict(X_test)\n",
        "\n",
        "    # Evaluate accuracy\n",
        "    accuracy = accuracy_score(y_test, y_pred)\n",
        "    print(f'Accuracy: {accuracy:.2f}')\n",
        "\n",
        "if __name__ == \"__main__\":\n",
        "    main()\n"
      ],
      "metadata": {
        "colab": {
          "base_uri": "https://localhost:8080/"
        },
        "id": "S0MP8Hu0Vlz-",
        "outputId": "eb0b0de7-d86e-425a-ea81-50fcd6031308"
      },
      "execution_count": null,
      "outputs": [
        {
          "output_type": "stream",
          "name": "stdout",
          "text": [
            "Accuracy: 0.97\n"
          ]
        }
      ]
    },
    {
      "cell_type": "markdown",
      "source": [
        "**22.Write a Python program to train two SVM classifiers with Linear and RBF kernels on the Wine dataset, then\n",
        "compare their accuracies**"
      ],
      "metadata": {
        "id": "hXLeIIEoWAEY"
      }
    },
    {
      "cell_type": "code",
      "source": [
        "from sklearn import datasets\n",
        "from sklearn.model_selection import train_test_split\n",
        "from sklearn.preprocessing import StandardScaler\n",
        "from sklearn.svm import SVC\n",
        "from sklearn.metrics import accuracy_score\n",
        "\n",
        "def main():\n",
        "    # Load the Wine dataset\n",
        "    wine = datasets.load_wine()\n",
        "    X, y = wine.data, wine.target\n",
        "\n",
        "    # Split into training and testing sets\n",
        "    X_train, X_test, y_train, y_test = train_test_split(X, y, test_size=0.2, random_state=42)\n",
        "\n",
        "    # Standardize the features\n",
        "    scaler = StandardScaler()\n",
        "    X_train = scaler.fit_transform(X_train)\n",
        "    X_test = scaler.transform(X_test)\n",
        "\n",
        "    # Train SVM classifiers with Linear and RBF kernels\n",
        "    svm_linear = SVC(kernel='linear', C=1.0, random_state=42)\n",
        "    svm_rbf = SVC(kernel='rbf', C=1.0, gamma='scale', random_state=42)\n",
        "\n",
        "    svm_linear.fit(X_train, y_train)\n",
        "    svm_rbf.fit(X_train, y_train)\n",
        "\n",
        "    # Make predictions\n",
        "    y_pred_linear = svm_linear.predict(X_test)\n",
        "    y_pred_rbf = svm_rbf.predict(X_test)\n",
        "\n",
        "    # Evaluate accuracies\n",
        "    accuracy_linear = accuracy_score(y_test, y_pred_linear)\n",
        "    accuracy_rbf = accuracy_score(y_test, y_pred_rbf)\n",
        "\n",
        "    print(f'Linear Kernel Accuracy: {accuracy_linear:.2f}')\n",
        "    print(f'RBF Kernel Accuracy: {accuracy_rbf:.2f}')\n",
        "\n",
        "if __name__ == \"__main__\":\n",
        "    main()\n"
      ],
      "metadata": {
        "colab": {
          "base_uri": "https://localhost:8080/"
        },
        "id": "-ANLoHzCWL4I",
        "outputId": "806f7fa6-9d07-4deb-f608-4d355e9a5c81"
      },
      "execution_count": null,
      "outputs": [
        {
          "output_type": "stream",
          "name": "stdout",
          "text": [
            "Linear Kernel Accuracy: 0.97\n",
            "RBF Kernel Accuracy: 1.00\n"
          ]
        }
      ]
    },
    {
      "cell_type": "markdown",
      "source": [
        "**23.Write a Python program to train an SVM Regressor (SVR) on a housing dataset and evaluate it using Mean\n",
        "Squared Error (MSE):**"
      ],
      "metadata": {
        "id": "DlOJ0TrYWYHh"
      }
    },
    {
      "cell_type": "code",
      "source": [
        "from sklearn import datasets\n",
        "from sklearn.model_selection import train_test_split\n",
        "from sklearn.preprocessing import StandardScaler\n",
        "from sklearn.svm import SVR\n",
        "from sklearn.metrics import mean_squared_error\n",
        "\n",
        "def main():\n",
        "    # Load the California housing dataset\n",
        "    housing = datasets.fetch_california_housing()\n",
        "    X, y = housing.data, housing.target\n",
        "\n",
        "    # Split into training and testing sets\n",
        "    X_train, X_test, y_train, y_test = train_test_split(X, y, test_size=0.2, random_state=42)\n",
        "\n",
        "    # Standardize the features\n",
        "    scaler = StandardScaler()\n",
        "    X_train = scaler.fit_transform(X_train)\n",
        "    X_test = scaler.transform(X_test)\n",
        "\n",
        "    # Train an SVM Regressor\n",
        "    svr = SVR(kernel='rbf', C=1.0, gamma='scale')\n",
        "    svr.fit(X_train, y_train)\n",
        "\n",
        "    # Make predictions\n",
        "    y_pred = svr.predict(X_test)\n",
        "\n",
        "    # Evaluate using Mean Squared Error (MSE)\n",
        "    mse = mean_squared_error(y_test, y_pred)\n",
        "    print(f'Mean Squared Error: {mse:.2f}')\n",
        "\n",
        "if __name__ == \"__main__\":\n",
        "    main()\n"
      ],
      "metadata": {
        "colab": {
          "base_uri": "https://localhost:8080/"
        },
        "id": "96RbvFICWdyu",
        "outputId": "784135ed-7d06-44ae-caca-61ca24b2eb33"
      },
      "execution_count": null,
      "outputs": [
        {
          "output_type": "stream",
          "name": "stdout",
          "text": [
            "Mean Squared Error: 0.36\n"
          ]
        }
      ]
    },
    {
      "cell_type": "markdown",
      "source": [
        "**24.Write a Python program to train an SVM Classifier with a Polynomial Kernel and visualize the decision\n",
        "boundary:**"
      ],
      "metadata": {
        "id": "s4Khs8LRWtF_"
      }
    },
    {
      "cell_type": "code",
      "source": [
        "import numpy as np\n",
        "import matplotlib.pyplot as plt\n",
        "from sklearn import datasets\n",
        "from sklearn.model_selection import train_test_split\n",
        "from sklearn.preprocessing import StandardScaler\n",
        "from sklearn.svm import SVC\n",
        "\n",
        "def plot_decision_boundary(model, X, y):\n",
        "    h = .02  # Step size in the mesh\n",
        "    x_min, x_max = X[:, 0].min() - 1, X[:, 0].max() + 1\n",
        "    y_min, y_max = X[:, 1].min() - 1, X[:, 1].max() + 1\n",
        "    xx, yy = np.meshgrid(np.arange(x_min, x_max, h),\n",
        "                         np.arange(y_min, y_max, h))\n",
        "\n",
        "    Z = model.predict(np.c_[xx.ravel(), yy.ravel()])\n",
        "    Z = Z.reshape(xx.shape)\n",
        "\n",
        "    plt.contourf(xx, yy, Z, alpha=0.3)\n",
        "    plt.scatter(X[:, 0], X[:, 1], c=y, edgecolors='k')\n",
        "    plt.xlabel('Feature 1')\n",
        "    plt.ylabel('Feature 2')\n",
        "    plt.title('SVM with Polynomial Kernel')\n",
        "    plt.show()\n",
        "\n",
        "def main():\n",
        "    # Load a dataset (Using only two features for visualization)\n",
        "    iris = datasets.load_iris()\n",
        "    X = iris.data[:, :2]  # Taking only the first two features\n",
        "    y = iris.target\n",
        "\n",
        "    # Split into training and testing sets\n",
        "    X_train, X_test, y_train, y_test = train_test_split(X, y, test_size=0.2, random_state=42)\n",
        "\n",
        "    # Standardize the features\n",
        "    scaler = StandardScaler()\n",
        "    X_train = scaler.fit_transform(X_train)\n",
        "    X_test = scaler.transform(X_test)\n",
        "\n",
        "    # Train an SVM classifier with a polynomial kernel\n",
        "    svm_classifier = SVC(kernel='poly', degree=3, C=1.0, random_state=42)\n",
        "    svm_classifier.fit(X_train, y_train)\n",
        "\n",
        "    # Visualize the decision boundary\n",
        "    plot_decision_boundary(svm_classifier, X_train, y_train)\n",
        "\n",
        "if __name__ == \"__main__\":\n",
        "    main()\n"
      ],
      "metadata": {
        "colab": {
          "base_uri": "https://localhost:8080/",
          "height": 472
        },
        "id": "yDQ9FJC9Wv2E",
        "outputId": "1c5259ab-53fa-44ac-a691-148380ed4794"
      },
      "execution_count": null,
      "outputs": [
        {
          "output_type": "display_data",
          "data": {
            "text/plain": [
              "<Figure size 640x480 with 1 Axes>"
            ],
            "image/png": "[encoded data removed]"
          },
          "metadata": {}
        }
      ]
    },
    {
      "cell_type": "markdown",
      "source": [
        "**25.Write a Python program to train a Gaussian Naïve Bayes classifier on the Breast Cancer dataset and\n",
        "evaluate accuracy:**"
      ],
      "metadata": {
        "id": "Lq8xLRgXW6Ox"
      }
    },
    {
      "cell_type": "code",
      "source": [
        "from sklearn import datasets\n",
        "from sklearn.model_selection import train_test_split\n",
        "from sklearn.preprocessing import StandardScaler\n",
        "from sklearn.naive_bayes import GaussianNB\n",
        "from sklearn.metrics import accuracy_score\n",
        "\n",
        "def main():\n",
        "    # Load the Breast Cancer dataset\n",
        "    cancer = datasets.load_breast_cancer()\n",
        "    X, y = cancer.data, cancer.target\n",
        "\n",
        "    # Split into training and testing sets\n",
        "    X_train, X_test, y_train, y_test = train_test_split(X, y, test_size=0.2, random_state=42)\n",
        "\n",
        "    # Standardize the features\n",
        "    scaler = StandardScaler()\n",
        "    X_train = scaler.fit_transform(X_train)\n",
        "    X_test = scaler.transform(X_test)\n",
        "\n",
        "    # Train a Gaussian Naïve Bayes classifier\n",
        "    gnb = GaussianNB()\n",
        "    gnb.fit(X_train, y_train)\n",
        "\n",
        "    # Make predictions\n",
        "    y_pred = gnb.predict(X_test)\n",
        "\n",
        "    # Evaluate accuracy\n",
        "    accuracy = accuracy_score(y_test, y_pred)\n",
        "    print(f'Accuracy: {accuracy:.2f}')\n",
        "\n",
        "if __name__ == \"__main__\":\n",
        "    main()\n"
      ],
      "metadata": {
        "colab": {
          "base_uri": "https://localhost:8080/"
        },
        "id": "6o4ntACqXAyL",
        "outputId": "bb6158a2-f28a-4af5-dd24-be9ee85f9a79"
      },
      "execution_count": null,
      "outputs": [
        {
          "output_type": "stream",
          "name": "stdout",
          "text": [
            "Accuracy: 0.96\n"
          ]
        }
      ]
    },
    {
      "cell_type": "markdown",
      "source": [
        "**26.Write a Python program to train a Multinomial Naïve Bayes classifier for text classification using the 20\n",
        "Newsgroups dataset.**"
      ],
      "metadata": {
        "id": "0JwRfR8OXRxR"
      }
    },
    {
      "cell_type": "code",
      "source": [
        "from sklearn.datasets import fetch_20newsgroups\n",
        "from sklearn.feature_extraction.text import TfidfVectorizer\n",
        "from sklearn.model_selection import train_test_split\n",
        "from sklearn.naive_bayes import MultinomialNB\n",
        "from sklearn.metrics import accuracy_score\n",
        "\n",
        "def main():\n",
        "    # Load the 20 Newsgroups dataset\n",
        "    newsgroups = fetch_20newsgroups(subset='all', categories=['rec.sport.baseball', 'sci.space', 'comp.graphics', 'talk.politics.mideast'])\n",
        "    X, y = newsgroups.data, newsgroups.target\n",
        "\n",
        "    # Convert text data to TF-IDF features\n",
        "    vectorizer = TfidfVectorizer(stop_words='english', max_features=5000)\n",
        "    X_tfidf = vectorizer.fit_transform(X)\n",
        "\n",
        "    # Split into training and testing sets\n",
        "    X_train, X_test, y_train, y_test = train_test_split(X_tfidf, y, test_size=0.2, random_state=42)\n",
        "\n",
        "    # Train a Multinomial Naïve Bayes classifier\n",
        "    mnb = MultinomialNB()\n",
        "    mnb.fit(X_train, y_train)\n",
        "\n",
        "    # Make predictions\n",
        "    y_pred = mnb.predict(X_test)\n",
        "\n",
        "    # Evaluate accuracy\n",
        "    accuracy = accuracy_score(y_test, y_pred)\n",
        "    print(f'Accuracy: {accuracy:.2f}')\n",
        "\n",
        "if __name__ == \"__main__\":\n",
        "    main()\n"
      ],
      "metadata": {
        "colab": {
          "base_uri": "https://localhost:8080/"
        },
        "id": "fXPdobBBXb5q",
        "outputId": "de6f7fd3-ea30-4e35-8b26-eea2c7add879"
      },
      "execution_count": null,
      "outputs": [
        {
          "output_type": "stream",
          "name": "stdout",
          "text": [
            "Accuracy: 0.98\n"
          ]
        }
      ]
    },
    {
      "cell_type": "markdown",
      "source": [
        "**27.= Write a Python program to train an SVM Classifier with different C values and compare the decision\n",
        "boundaries visually.**"
      ],
      "metadata": {
        "id": "1QccocmlXqUC"
      }
    },
    {
      "cell_type": "code",
      "source": [
        "import numpy as np\n",
        "import matplotlib.pyplot as plt\n",
        "from sklearn import datasets\n",
        "from sklearn.model_selection import train_test_split\n",
        "from sklearn.preprocessing import StandardScaler\n",
        "from sklearn.svm import SVC\n",
        "\n",
        "def plot_decision_boundary(model, X, y, title):\n",
        "    h = .02  # Step size in the mesh\n",
        "    x_min, x_max = X[:, 0].min() - 1, X[:, 0].max() + 1\n",
        "    y_min, y_max = X[:, 1].min() - 1, X[:, 1].max() + 1\n",
        "    xx, yy = np.meshgrid(np.arange(x_min, x_max, h),\n",
        "                         np.arange(y_min, y_max, h))\n",
        "\n",
        "    Z = model.predict(np.c_[xx.ravel(), yy.ravel()])\n",
        "    Z = Z.reshape(xx.shape)\n",
        "\n",
        "    plt.contourf(xx, yy, Z, alpha=0.3)\n",
        "    plt.scatter(X[:, 0], X[:, 1], c=y, edgecolors='k')\n",
        "    plt.xlabel('Feature 1')\n",
        "    plt.ylabel('Feature 2')\n",
        "    plt.title(title)\n",
        "\n",
        "def main():\n",
        "    # Load a dataset (Using only two features for visualization)\n",
        "    iris = datasets.load_iris()\n",
        "    X = iris.data[:, :2]  # Taking only the first two features\n",
        "    y = iris.target\n",
        "\n",
        "    # Split into training and testing sets\n",
        "    X_train, X_test, y_train, y_test = train_test_split(X, y, test_size=0.2, random_state=42)\n",
        "\n",
        "    # Standardize the features\n",
        "    scaler = StandardScaler()\n",
        "    X_train = scaler.fit_transform(X_train)\n",
        "    X_test = scaler.transform(X_test)\n",
        "\n",
        "    # Train SVM classifiers with different C values\n",
        "    C_values = [0.1, 1, 10, 100]\n",
        "    plt.figure(figsize=(10, 8))\n",
        "\n",
        "    for i, C in enumerate(C_values, 1):\n",
        "        svm_classifier = SVC(kernel='linear', C=C, random_state=42)\n",
        "        svm_classifier.fit(X_train, y_train)\n",
        "\n",
        "        plt.subplot(2, 2, i)\n",
        "        plot_decision_boundary(svm_classifier, X_train, y_train, f'SVM with C={C}')\n",
        "\n",
        "    plt.tight_layout()\n",
        "    plt.show()\n",
        "\n",
        "if __name__ == \"__main__\":\n",
        "    main()\n"
      ],
      "metadata": {
        "colab": {
          "base_uri": "https://localhost:8080/",
          "height": 807
        },
        "id": "sKfhniPSXxun",
        "outputId": "5b1c451c-0ad6-49ab-eead-30beecceec51"
      },
      "execution_count": null,
      "outputs": [
        {
          "output_type": "display_data",
          "data": {
            "text/plain": [
              "<Figure size 1000x800 with 4 Axes>"
            ],
            "image/png": "[encoded data removed]"
          },
          "metadata": {}
        }
      ]
    },
    {
      "cell_type": "markdown",
      "source": [
        "**28.Write a Python program to train a Bernoulli Naïve Bayes classifier for binary classification on a dataset with\n",
        "binary features**"
      ],
      "metadata": {
        "id": "8_dVxRjcYEcK"
      }
    },
    {
      "cell_type": "code",
      "source": [
        "from sklearn.model_selection import train_test_split\n",
        "from sklearn.naive_bayes import BernoulliNB\n",
        "from sklearn.metrics import accuracy_score\n",
        "import numpy as np\n",
        "\n",
        "def generate_binary_dataset(n_samples=1000, n_features=10):\n",
        "    np.random.seed(42)\n",
        "    X = np.random.randint(2, size=(n_samples, n_features))  # Binary features (0 or 1)\n",
        "    y = np.random.randint(2, size=n_samples)  # Binary target (0 or 1)\n",
        "    return X, y\n",
        "\n",
        "def main():\n",
        "    # Generate a synthetic binary dataset\n",
        "    X, y = generate_binary_dataset()\n",
        "\n",
        "    # Split into training and testing sets\n",
        "    X_train, X_test, y_train, y_test = train_test_split(X, y, test_size=0.2, random_state=42)\n",
        "\n",
        "    # Train a Bernoulli Naïve Bayes classifier\n",
        "    bnb = BernoulliNB()\n",
        "    bnb.fit(X_train, y_train)\n",
        "\n",
        "    # Make predictions\n",
        "    y_pred = bnb.predict(X_test)\n",
        "\n",
        "    # Evaluate accuracy\n",
        "    accuracy = accuracy_score(y_test, y_pred)\n",
        "    print(f'Accuracy: {accuracy:.2f}')\n",
        "\n",
        "if __name__ == \"__main__\":\n",
        "    main()\n"
      ],
      "metadata": {
        "colab": {
          "base_uri": "https://localhost:8080/"
        },
        "id": "YBbl5MB2YM9F",
        "outputId": "6aa856dc-f9f5-4aab-ecca-5c26c5fc4aaa"
      },
      "execution_count": null,
      "outputs": [
        {
          "output_type": "stream",
          "name": "stdout",
          "text": [
            "Accuracy: 0.60\n"
          ]
        }
      ]
    },
    {
      "cell_type": "markdown",
      "source": [
        "**29.Write a Python program to apply feature scaling before training an SVM model and compare results with\n",
        "unscaled data**"
      ],
      "metadata": {
        "id": "fxSF6mTgIbUR"
      }
    },
    {
      "cell_type": "code",
      "source": [
        "from sklearn import datasets\n",
        "from sklearn.model_selection import train_test_split\n",
        "from sklearn.preprocessing import StandardScaler\n",
        "from sklearn.svm import SVC\n",
        "from sklearn.metrics import accuracy_score\n",
        "\n",
        "def train_and_evaluate(X_train, X_test, y_train, y_test, scaled=True):\n",
        "    # Train an SVM classifier\n",
        "    svm_classifier = SVC(kernel='rbf', C=1.0, gamma='scale', random_state=42)\n",
        "    svm_classifier.fit(X_train, y_train)\n",
        "\n",
        "    # Make predictions\n",
        "    y_pred = svm_classifier.predict(X_test)\n",
        "\n",
        "    # Evaluate accuracy\n",
        "    accuracy = accuracy_score(y_test, y_pred)\n",
        "    scaling_status = \"with feature scaling\" if scaled else \"without feature scaling\"\n",
        "    print(f'Accuracy {scaling_status}: {accuracy:.2f}')\n",
        "\n",
        "def main():\n",
        "    # Load the dataset\n",
        "    wine = datasets.load_wine()\n",
        "    X, y = wine.data, wine.target\n",
        "\n",
        "    # Split into training and testing sets\n",
        "    X_train, X_test, y_train, y_test = train_test_split(X, y, test_size=0.2, random_state=42)\n",
        "\n",
        "    # Train and evaluate without feature scaling\n",
        "    train_and_evaluate(X_train, X_test, y_train, y_test, scaled=False)\n",
        "\n",
        "    # Apply feature scaling\n",
        "    scaler = StandardScaler()\n",
        "    X_train_scaled = scaler.fit_transform(X_train)\n",
        "    X_test_scaled = scaler.transform(X_test)\n",
        "\n",
        "    # Train and evaluate with feature scaling\n",
        "    train_and_evaluate(X_train_scaled, X_test_scaled, y_train, y_test, scaled=True)\n",
        "\n",
        "if __name__ == \"__main__\":\n",
        "    main()\n"
      ],
      "metadata": {
        "colab": {
          "base_uri": "https://localhost:8080/"
        },
        "id": "sMkkNn0CIqoi",
        "outputId": "70db8b32-913d-4309-f9d7-8de7fdd09602"
      },
      "execution_count": null,
      "outputs": [
        {
          "output_type": "stream",
          "name": "stdout",
          "text": [
            "Accuracy without feature scaling: 0.81\n",
            "Accuracy with feature scaling: 1.00\n"
          ]
        }
      ]
    },
    {
      "cell_type": "markdown",
      "source": [
        "**30.Write a Python program to train a Gaussian Naïve Bayes model and compare the predictions before and\n",
        "after Laplace Smoothing**"
      ],
      "metadata": {
        "id": "hqZzkxDNI_9P"
      }
    },
    {
      "cell_type": "code",
      "source": [
        "from sklearn import datasets\n",
        "from sklearn.model_selection import train_test_split\n",
        "from sklearn.naive_bayes import GaussianNB\n",
        "from sklearn.metrics import accuracy_score\n",
        "import numpy as np\n",
        "\n",
        "def train_and_evaluate(X_train, X_test, y_train, y_test, var_smoothing):\n",
        "    # Train a Gaussian Naïve Bayes classifier\n",
        "    gnb = GaussianNB(var_smoothing=var_smoothing)\n",
        "    gnb.fit(X_train, y_train)\n",
        "\n",
        "    # Make predictions\n",
        "    y_pred = gnb.predict(X_test)\n",
        "\n",
        "    # Evaluate accuracy\n",
        "    accuracy = accuracy_score(y_test, y_pred)\n",
        "    print(f'Accuracy with var_smoothing={var_smoothing}: {accuracy:.2f}')\n",
        "    return y_pred\n",
        "\n",
        "def main():\n",
        "    # Load the dataset\n",
        "    cancer = datasets.load_breast_cancer()\n",
        "    X, y = cancer.data, cancer.target\n",
        "\n",
        "    # Split into training and testing sets\n",
        "    X_train, X_test, y_train, y_test = train_test_split(X, y, test_size=0.2, random_state=42)\n",
        "\n",
        "    # Train and evaluate without Laplace Smoothing (default var_smoothing=1e-9)\n",
        "    y_pred_default = train_and_evaluate(X_train, X_test, y_train, y_test, var_smoothing=1e-9)\n",
        "\n",
        "    # Train and evaluate with stronger Laplace Smoothing (var_smoothing=1e-2)\n",
        "    y_pred_smoothed = train_and_evaluate(X_train, X_test, y_train, y_test, var_smoothing=1e-2)\n",
        "\n",
        "    # Compare predictions\n",
        "    differences = np.sum(y_pred_default != y_pred_smoothed)\n",
        "    print(f'Number of differing predictions: {differences}')\n",
        "\n",
        "if __name__ == \"__main__\":\n",
        "    main()\n"
      ],
      "metadata": {
        "colab": {
          "base_uri": "https://localhost:8080/"
        },
        "id": "frUitSDvJGCK",
        "outputId": "c993339a-9c15-4cd7-c82f-e16d2b6846ea"
      },
      "execution_count": null,
      "outputs": [
        {
          "output_type": "stream",
          "name": "stdout",
          "text": [
            "Accuracy with var_smoothing=1e-09: 0.97\n",
            "Accuracy with var_smoothing=0.01: 0.95\n",
            "Number of differing predictions: 3\n"
          ]
        }
      ]
    },
    {
      "cell_type": "markdown",
      "source": [
        "**31.Write a Python program to train an SVM Classifier and use GridSearchCV to tune the hyperparameters (C,\n",
        "gamma, kernel)**"
      ],
      "metadata": {
        "id": "kKzP8TGSJYy0"
      }
    },
    {
      "cell_type": "code",
      "source": [
        "from sklearn import datasets\n",
        "from sklearn.model_selection import train_test_split, GridSearchCV\n",
        "from sklearn.preprocessing import StandardScaler\n",
        "from sklearn.svm import SVC\n",
        "from sklearn.metrics import accuracy_score\n",
        "\n",
        "def main():\n",
        "    # Load the dataset\n",
        "    iris = datasets.load_iris()\n",
        "    X, y = iris.data, iris.target\n",
        "\n",
        "    # Split into training and testing sets\n",
        "    X_train, X_test, y_train, y_test = train_test_split(X, y, test_size=0.2, random_state=42)\n",
        "\n",
        "    # Standardize the features\n",
        "    scaler = StandardScaler()\n",
        "    X_train = scaler.fit_transform(X_train)\n",
        "    X_test = scaler.transform(X_test)\n",
        "\n",
        "    # Define the SVM model\n",
        "    svm = SVC()\n",
        "\n",
        "    # Define the parameter grid\n",
        "    param_grid = {\n",
        "        'C': [0.1, 1, 10, 100],\n",
        "        'gamma': ['scale', 'auto', 0.01, 0.1, 1],\n",
        "        'kernel': ['linear', 'rbf', 'poly']\n",
        "    }\n",
        "\n",
        "    # Perform GridSearchCV\n",
        "    grid_search = GridSearchCV(svm, param_grid, cv=5, scoring='accuracy', n_jobs=-1)\n",
        "    grid_search.fit(X_train, y_train)\n",
        "\n",
        "    # Print best parameters\n",
        "    print(f'Best Parameters: {grid_search.best_params_}')\n",
        "\n",
        "    # Train best model on training data\n",
        "    best_model = grid_search.best_estimator_\n",
        "    y_pred = best_model.predict(X_test)\n",
        "\n",
        "    # Evaluate accuracy\n",
        "    accuracy = accuracy_score(y_test, y_pred)\n",
        "    print(f'Accuracy with best hyperparameters: {accuracy:.2f}')\n",
        "\n",
        "if __name__ == \"__main__\":\n",
        "    main()\n"
      ],
      "metadata": {
        "colab": {
          "base_uri": "https://localhost:8080/"
        },
        "id": "qbnBdbmDJcsD",
        "outputId": "4f6e4a84-6437-497b-8005-9a131affdea4"
      },
      "execution_count": null,
      "outputs": [
        {
          "output_type": "stream",
          "name": "stdout",
          "text": [
            "Best Parameters: {'C': 100, 'gamma': 0.01, 'kernel': 'rbf'}\n",
            "Accuracy with best hyperparameters: 0.97\n"
          ]
        }
      ]
    },
    {
      "cell_type": "markdown",
      "source": [
        "**32.Write a Python program to train an SVM Classifier on an imbalanced dataset and apply class weighting and\n",
        "check it improve accuracy**"
      ],
      "metadata": {
        "id": "0yVwORdXJ9iL"
      }
    },
    {
      "cell_type": "code",
      "source": [
        "from sklearn.datasets import make_classification\n",
        "from sklearn.model_selection import train_test_split\n",
        "from sklearn.preprocessing import StandardScaler\n",
        "from sklearn.svm import SVC\n",
        "from sklearn.metrics import accuracy_score, classification_report\n",
        "import numpy as np\n",
        "\n",
        "def main():\n",
        "    # Create an imbalanced dataset\n",
        "    X, y = make_classification(n_samples=1000, n_features=20, n_classes=2,\n",
        "                               weights=[0.9, 0.1], random_state=42)\n",
        "\n",
        "    # Split into training and testing sets\n",
        "    X_train, X_test, y_train, y_test = train_test_split(X, y, test_size=0.2, random_state=42)\n",
        "\n",
        "    # Standardize the features\n",
        "    scaler = StandardScaler()\n",
        "    X_train = scaler.fit_transform(X_train)\n",
        "    X_test = scaler.transform(X_test)\n",
        "\n",
        "    # Train an SVM classifier without class weighting\n",
        "    svm_default = SVC(kernel='rbf', C=1.0, gamma='scale', random_state=42)\n",
        "    svm_default.fit(X_train, y_train)\n",
        "    y_pred_default = svm_default.predict(X_test)\n",
        "    accuracy_default = accuracy_score(y_test, y_pred_default)\n",
        "    print(\"Without class weighting:\")\n",
        "    print(f'Accuracy: {accuracy_default:.2f}')\n",
        "    print(classification_report(y_test, y_pred_default))\n",
        "\n",
        "    # Train an SVM classifier with class weighting\n",
        "    svm_weighted = SVC(kernel='rbf', C=1.0, gamma='scale', class_weight='balanced', random_state=42)\n",
        "    svm_weighted.fit(X_train, y_train)\n",
        "    y_pred_weighted = svm_weighted.predict(X_test)\n",
        "    accuracy_weighted = accuracy_score(y_test, y_pred_weighted)\n",
        "    print(\"\\nWith class weighting:\")\n",
        "    print(f'Accuracy: {accuracy_weighted:.2f}')\n",
        "    print(classification_report(y_test, y_pred_weighted))\n",
        "\n",
        "if __name__ == \"__main__\":\n",
        "    main()\n"
      ],
      "metadata": {
        "colab": {
          "base_uri": "https://localhost:8080/"
        },
        "id": "rbDOFN0sKZg6",
        "outputId": "8118c900-33cf-4f61-ebc3-c6905197c9a0"
      },
      "execution_count": null,
      "outputs": [
        {
          "output_type": "stream",
          "name": "stdout",
          "text": [
            "Without class weighting:\n",
            "Accuracy: 0.90\n",
            "              precision    recall  f1-score   support\n",
            "\n",
            "           0       0.92      0.97      0.94       180\n",
            "           1       0.44      0.20      0.28        20\n",
            "\n",
            "    accuracy                           0.90       200\n",
            "   macro avg       0.68      0.59      0.61       200\n",
            "weighted avg       0.87      0.90      0.88       200\n",
            "\n",
            "\n",
            "With class weighting:\n",
            "Accuracy: 0.90\n",
            "              precision    recall  f1-score   support\n",
            "\n",
            "           0       0.94      0.94      0.94       180\n",
            "           1       0.47      0.45      0.46        20\n",
            "\n",
            "    accuracy                           0.90       200\n",
            "   macro avg       0.71      0.70      0.70       200\n",
            "weighted avg       0.89      0.90      0.89       200\n",
            "\n"
          ]
        }
      ]
    },
    {
      "cell_type": "markdown",
      "source": [
        "**33.Write a Python program to implement a Naïve Bayes classifier for spam detection using email data**"
      ],
      "metadata": {
        "id": "TfkvWRwIKx_F"
      }
    },
    {
      "cell_type": "code",
      "source": [
        "from sklearn.datasets import make_classification\n",
        "from sklearn.model_selection import train_test_split\n",
        "from sklearn.preprocessing import StandardScaler\n",
        "from sklearn.svm import SVC\n",
        "from sklearn.metrics import accuracy_score, classification_report\n",
        "import numpy as np\n",
        "\n",
        "def main():\n",
        "    # Create an imbalanced dataset\n",
        "    X, y = make_classification(n_samples=1000, n_features=20, n_classes=2,\n",
        "                               weights=[0.9, 0.1], random_state=42)\n",
        "\n",
        "    # Split into training and testing sets\n",
        "    X_train, X_test, y_train, y_test = train_test_split(X, y, test_size=0.2, random_state=42)\n",
        "\n",
        "    # Standardize the features\n",
        "    scaler = StandardScaler()\n",
        "    X_train = scaler.fit_transform(X_train)\n",
        "    X_test = scaler.transform(X_test)\n",
        "\n",
        "    # Train an SVM classifier without class weighting\n",
        "    svm_default = SVC(kernel='rbf', C=1.0, gamma='scale', random_state=42)\n",
        "    svm_default.fit(X_train, y_train)\n",
        "    y_pred_default = svm_default.predict(X_test)\n",
        "    accuracy_default = accuracy_score(y_test, y_pred_default)\n",
        "    print(\"Without class weighting:\")\n",
        "    print(f'Accuracy: {accuracy_default:.2f}')\n",
        "    print(classification_report(y_test, y_pred_default))\n",
        "\n",
        "    # Train an SVM classifier with class weighting\n",
        "    svm_weighted = SVC(kernel='rbf', C=1.0, gamma='scale', class_weight='balanced', random_state=42)\n",
        "    svm_weighted.fit(X_train, y_train)\n",
        "    y_pred_weighted = svm_weighted.predict(X_test)\n",
        "    accuracy_weighted = accuracy_score(y_test, y_pred_weighted)\n",
        "    print(\"\\nWith class weighting:\")\n",
        "    print(f'Accuracy: {accuracy_weighted:.2f}')\n",
        "    print(classification_report(y_test, y_pred_weighted))\n",
        "\n",
        "if __name__ == \"__main__\":\n",
        "    main()\n"
      ],
      "metadata": {
        "colab": {
          "base_uri": "https://localhost:8080/",
          "height": 333
        },
        "id": "_LJ4NldYK7uc",
        "outputId": "4af2f344-c6d2-41e6-fe40-c8c7da73e7ed"
      },
      "execution_count": null,
      "outputs": [
        {
          "output_type": "error",
          "ename": "FileNotFoundError",
          "evalue": "[Errno 2] No such file or directory: 'spam.csv'",
          "traceback": [
            "\u001b[0;31m---------------------------------------------------------------------------\u001b[0m",
            "\u001b[0;31mFileNotFoundError\u001b[0m                         Traceback (most recent call last)",
            "\u001b[0;32m<ipython-input-5-c37102adad1a>\u001b[0m in \u001b[0;36m<cell line: 0>\u001b[0;34m()\u001b[0m\n\u001b[1;32m     39\u001b[0m \u001b[0;34m\u001b[0m\u001b[0m\n\u001b[1;32m     40\u001b[0m \u001b[0;32mif\u001b[0m \u001b[0m__name__\u001b[0m \u001b[0;34m==\u001b[0m \u001b[0;34m\"__main__\"\u001b[0m\u001b[0;34m:\u001b[0m\u001b[0;34m\u001b[0m\u001b[0;34m\u001b[0m\u001b[0m\n\u001b[0;32m---> 41\u001b[0;31m     \u001b[0mmain\u001b[0m\u001b[0;34m(\u001b[0m\u001b[0;34m)\u001b[0m\u001b[0;34m\u001b[0m\u001b[0;34m\u001b[0m\u001b[0m\n\u001b[0m",
            "\u001b[0;32m<ipython-input-5-c37102adad1a>\u001b[0m in \u001b[0;36mmain\u001b[0;34m()\u001b[0m\n\u001b[1;32m     16\u001b[0m \u001b[0;32mdef\u001b[0m \u001b[0mmain\u001b[0m\u001b[0;34m(\u001b[0m\u001b[0;34m)\u001b[0m\u001b[0;34m:\u001b[0m\u001b[0;34m\u001b[0m\u001b[0;34m\u001b[0m\u001b[0m\n\u001b[1;32m     17\u001b[0m     \u001b[0;31m# Load dataset\u001b[0m\u001b[0;34m\u001b[0m\u001b[0;34m\u001b[0m\u001b[0m\n\u001b[0;32m---> 18\u001b[0;31m     \u001b[0mX\u001b[0m\u001b[0;34m,\u001b[0m \u001b[0my\u001b[0m \u001b[0;34m=\u001b[0m \u001b[0mload_data\u001b[0m\u001b[0;34m(\u001b[0m\u001b[0;34m)\u001b[0m\u001b[0;34m\u001b[0m\u001b[0;34m\u001b[0m\u001b[0m\n\u001b[0m\u001b[1;32m     19\u001b[0m \u001b[0;34m\u001b[0m\u001b[0m\n\u001b[1;32m     20\u001b[0m     \u001b[0;31m# Split into training and testing sets\u001b[0m\u001b[0;34m\u001b[0m\u001b[0;34m\u001b[0m\u001b[0m\n",
            "\u001b[0;32m<ipython-input-5-c37102adad1a>\u001b[0m in \u001b[0;36mload_data\u001b[0;34m()\u001b[0m\n\u001b[1;32m      7\u001b[0m \u001b[0;32mdef\u001b[0m \u001b[0mload_data\u001b[0m\u001b[0;34m(\u001b[0m\u001b[0;34m)\u001b[0m\u001b[0;34m:\u001b[0m\u001b[0;34m\u001b[0m\u001b[0;34m\u001b[0m\u001b[0m\n\u001b[1;32m      8\u001b[0m     \u001b[0;31m# Load dataset (Assuming a CSV file with 'text' and 'label' columns)\u001b[0m\u001b[0;34m\u001b[0m\u001b[0;34m\u001b[0m\u001b[0m\n\u001b[0;32m----> 9\u001b[0;31m     \u001b[0mdf\u001b[0m \u001b[0;34m=\u001b[0m \u001b[0mpd\u001b[0m\u001b[0;34m.\u001b[0m\u001b[0mread_csv\u001b[0m\u001b[0;34m(\u001b[0m\u001b[0;34m\"spam.csv\"\u001b[0m\u001b[0;34m,\u001b[0m \u001b[0mencoding\u001b[0m\u001b[0;34m=\u001b[0m\u001b[0;34m'latin-1'\u001b[0m\u001b[0;34m)\u001b[0m\u001b[0;34m[\u001b[0m\u001b[0;34m[\u001b[0m\u001b[0;34m'v1'\u001b[0m\u001b[0;34m,\u001b[0m \u001b[0;34m'v2'\u001b[0m\u001b[0;34m]\u001b[0m\u001b[0;34m]\u001b[0m\u001b[0;34m\u001b[0m\u001b[0;34m\u001b[0m\u001b[0m\n\u001b[0m\u001b[1;32m     10\u001b[0m     \u001b[0mdf\u001b[0m\u001b[0;34m.\u001b[0m\u001b[0mcolumns\u001b[0m \u001b[0;34m=\u001b[0m \u001b[0;34m[\u001b[0m\u001b[0;34m'label'\u001b[0m\u001b[0;34m,\u001b[0m \u001b[0;34m'text'\u001b[0m\u001b[0;34m]\u001b[0m\u001b[0;34m\u001b[0m\u001b[0;34m\u001b[0m\u001b[0m\n\u001b[1;32m     11\u001b[0m \u001b[0;34m\u001b[0m\u001b[0m\n",
            "\u001b[0;32m/usr/local/lib/python3.11/dist-packages/pandas/io/parsers/readers.py\u001b[0m in \u001b[0;36mread_csv\u001b[0;34m(filepath_or_buffer, sep, delimiter, header, names, index_col, usecols, dtype, engine, converters, true_values, false_values, skipinitialspace, skiprows, skipfooter, nrows, na_values, keep_default_na, na_filter, verbose, skip_blank_lines, parse_dates, infer_datetime_format, keep_date_col, date_parser, date_format, dayfirst, cache_dates, iterator, chunksize, compression, thousands, decimal, lineterminator, quotechar, quoting, doublequote, escapechar, comment, encoding, encoding_errors, dialect, on_bad_lines, delim_whitespace, low_memory, memory_map, float_precision, storage_options, dtype_backend)\u001b[0m\n\u001b[1;32m   1024\u001b[0m     \u001b[0mkwds\u001b[0m\u001b[0;34m.\u001b[0m\u001b[0mupdate\u001b[0m\u001b[0;34m(\u001b[0m\u001b[0mkwds_defaults\u001b[0m\u001b[0;34m)\u001b[0m\u001b[0;34m\u001b[0m\u001b[0;34m\u001b[0m\u001b[0m\n\u001b[1;32m   1025\u001b[0m \u001b[0;34m\u001b[0m\u001b[0m\n\u001b[0;32m-> 1026\u001b[0;31m     \u001b[0;32mreturn\u001b[0m \u001b[0m_read\u001b[0m\u001b[0;34m(\u001b[0m\u001b[0mfilepath_or_buffer\u001b[0m\u001b[0;34m,\u001b[0m \u001b[0mkwds\u001b[0m\u001b[0;34m)\u001b[0m\u001b[0;34m\u001b[0m\u001b[0;34m\u001b[0m\u001b[0m\n\u001b[0m\u001b[1;32m   1027\u001b[0m \u001b[0;34m\u001b[0m\u001b[0m\n\u001b[1;32m   1028\u001b[0m \u001b[0;34m\u001b[0m\u001b[0m\n",
            "\u001b[0;32m/usr/local/lib/python3.11/dist-packages/pandas/io/parsers/readers.py\u001b[0m in \u001b[0;36m_read\u001b[0;34m(filepath_or_buffer, kwds)\u001b[0m\n\u001b[1;32m    618\u001b[0m \u001b[0;34m\u001b[0m\u001b[0m\n\u001b[1;32m    619\u001b[0m     \u001b[0;31m# Create the parser.\u001b[0m\u001b[0;34m\u001b[0m\u001b[0;34m\u001b[0m\u001b[0m\n\u001b[0;32m--> 620\u001b[0;31m     \u001b[0mparser\u001b[0m \u001b[0;34m=\u001b[0m \u001b[0mTextFileReader\u001b[0m\u001b[0;34m(\u001b[0m\u001b[0mfilepath_or_buffer\u001b[0m\u001b[0;34m,\u001b[0m \u001b[0;34m**\u001b[0m\u001b[0mkwds\u001b[0m\u001b[0;34m)\u001b[0m\u001b[0;34m\u001b[0m\u001b[0;34m\u001b[0m\u001b[0m\n\u001b[0m\u001b[1;32m    621\u001b[0m \u001b[0;34m\u001b[0m\u001b[0m\n\u001b[1;32m    622\u001b[0m     \u001b[0;32mif\u001b[0m \u001b[0mchunksize\u001b[0m \u001b[0;32mor\u001b[0m \u001b[0miterator\u001b[0m\u001b[0;34m:\u001b[0m\u001b[0;34m\u001b[0m\u001b[0;34m\u001b[0m\u001b[0m\n",
            "\u001b[0;32m/usr/local/lib/python3.11/dist-packages/pandas/io/parsers/readers.py\u001b[0m in \u001b[0;36m__init__\u001b[0;34m(self, f, engine, **kwds)\u001b[0m\n\u001b[1;32m   1618\u001b[0m \u001b[0;34m\u001b[0m\u001b[0m\n\u001b[1;32m   1619\u001b[0m         \u001b[0mself\u001b[0m\u001b[0;34m.\u001b[0m\u001b[0mhandles\u001b[0m\u001b[0;34m:\u001b[0m \u001b[0mIOHandles\u001b[0m \u001b[0;34m|\u001b[0m \u001b[0;32mNone\u001b[0m \u001b[0;34m=\u001b[0m \u001b[0;32mNone\u001b[0m\u001b[0;34m\u001b[0m\u001b[0;34m\u001b[0m\u001b[0m\n\u001b[0;32m-> 1620\u001b[0;31m         \u001b[0mself\u001b[0m\u001b[0;34m.\u001b[0m\u001b[0m_engine\u001b[0m \u001b[0;34m=\u001b[0m \u001b[0mself\u001b[0m\u001b[0;34m.\u001b[0m\u001b[0m_make_engine\u001b[0m\u001b[0;34m(\u001b[0m\u001b[0mf\u001b[0m\u001b[0;34m,\u001b[0m \u001b[0mself\u001b[0m\u001b[0;34m.\u001b[0m\u001b[0mengine\u001b[0m\u001b[0;34m)\u001b[0m\u001b[0;34m\u001b[0m\u001b[0;34m\u001b[0m\u001b[0m\n\u001b[0m\u001b[1;32m   1621\u001b[0m \u001b[0;34m\u001b[0m\u001b[0m\n\u001b[1;32m   1622\u001b[0m     \u001b[0;32mdef\u001b[0m \u001b[0mclose\u001b[0m\u001b[0;34m(\u001b[0m\u001b[0mself\u001b[0m\u001b[0;34m)\u001b[0m \u001b[0;34m->\u001b[0m \u001b[0;32mNone\u001b[0m\u001b[0;34m:\u001b[0m\u001b[0;34m\u001b[0m\u001b[0;34m\u001b[0m\u001b[0m\n",
            "\u001b[0;32m/usr/local/lib/python3.11/dist-packages/pandas/io/parsers/readers.py\u001b[0m in \u001b[0;36m_make_engine\u001b[0;34m(self, f, engine)\u001b[0m\n\u001b[1;32m   1878\u001b[0m                 \u001b[0;32mif\u001b[0m \u001b[0;34m\"b\"\u001b[0m \u001b[0;32mnot\u001b[0m \u001b[0;32min\u001b[0m \u001b[0mmode\u001b[0m\u001b[0;34m:\u001b[0m\u001b[0;34m\u001b[0m\u001b[0;34m\u001b[0m\u001b[0m\n\u001b[1;32m   1879\u001b[0m                     \u001b[0mmode\u001b[0m \u001b[0;34m+=\u001b[0m \u001b[0;34m\"b\"\u001b[0m\u001b[0;34m\u001b[0m\u001b[0;34m\u001b[0m\u001b[0m\n\u001b[0;32m-> 1880\u001b[0;31m             self.handles = get_handle(\n\u001b[0m\u001b[1;32m   1881\u001b[0m                 \u001b[0mf\u001b[0m\u001b[0;34m,\u001b[0m\u001b[0;34m\u001b[0m\u001b[0;34m\u001b[0m\u001b[0m\n\u001b[1;32m   1882\u001b[0m                 \u001b[0mmode\u001b[0m\u001b[0;34m,\u001b[0m\u001b[0;34m\u001b[0m\u001b[0;34m\u001b[0m\u001b[0m\n",
            "\u001b[0;32m/usr/local/lib/python3.11/dist-packages/pandas/io/common.py\u001b[0m in \u001b[0;36mget_handle\u001b[0;34m(path_or_buf, mode, encoding, compression, memory_map, is_text, errors, storage_options)\u001b[0m\n\u001b[1;32m    871\u001b[0m         \u001b[0;32mif\u001b[0m \u001b[0mioargs\u001b[0m\u001b[0;34m.\u001b[0m\u001b[0mencoding\u001b[0m \u001b[0;32mand\u001b[0m \u001b[0;34m\"b\"\u001b[0m \u001b[0;32mnot\u001b[0m \u001b[0;32min\u001b[0m \u001b[0mioargs\u001b[0m\u001b[0;34m.\u001b[0m\u001b[0mmode\u001b[0m\u001b[0;34m:\u001b[0m\u001b[0;34m\u001b[0m\u001b[0;34m\u001b[0m\u001b[0m\n\u001b[1;32m    872\u001b[0m             \u001b[0;31m# Encoding\u001b[0m\u001b[0;34m\u001b[0m\u001b[0;34m\u001b[0m\u001b[0m\n\u001b[0;32m--> 873\u001b[0;31m             handle = open(\n\u001b[0m\u001b[1;32m    874\u001b[0m                 \u001b[0mhandle\u001b[0m\u001b[0;34m,\u001b[0m\u001b[0;34m\u001b[0m\u001b[0;34m\u001b[0m\u001b[0m\n\u001b[1;32m    875\u001b[0m                 \u001b[0mioargs\u001b[0m\u001b[0;34m.\u001b[0m\u001b[0mmode\u001b[0m\u001b[0;34m,\u001b[0m\u001b[0;34m\u001b[0m\u001b[0;34m\u001b[0m\u001b[0m\n",
            "\u001b[0;31mFileNotFoundError\u001b[0m: [Errno 2] No such file or directory: 'spam.csv'"
          ]
        }
      ]
    },
    {
      "cell_type": "markdown",
      "source": [
        "**34.Write a Python program to train an SVM Classifier and a Naïve Bayes Classifier on the same dataset and\n",
        "compare their accuracy**"
      ],
      "metadata": {
        "id": "DrILAxnVLJsk"
      }
    },
    {
      "cell_type": "code",
      "source": [
        "from sklearn.model_selection import train_test_split\n",
        "from sklearn.preprocessing import StandardScaler\n",
        "from sklearn.svm import SVC\n",
        "from sklearn.naive_bayes import GaussianNB\n",
        "from sklearn.metrics import accuracy_score\n",
        "from sklearn import datasets\n",
        "\n",
        "def main():\n",
        "    # Load dataset\n",
        "    data = datasets.load_wine()\n",
        "    X, y = data.data, data.target\n",
        "\n",
        "    # Split into training and testing sets\n",
        "    X_train, X_test, y_train, y_test = train_test_split(X, y, test_size=0.2, random_state=42)\n",
        "\n",
        "    # Standardize the features for SVM\n",
        "    scaler = StandardScaler()\n",
        "    X_train_scaled = scaler.fit_transform(X_train)\n",
        "    X_test_scaled = scaler.transform(X_test)\n",
        "\n",
        "    # Train SVM Classifier\n",
        "    svm_classifier = SVC(kernel='rbf', C=1.0, gamma='scale', random_state=42)\n",
        "    svm_classifier.fit(X_train_scaled, y_train)\n",
        "    y_pred_svm = svm_classifier.predict(X_test_scaled)\n",
        "    accuracy_svm = accuracy_score(y_test, y_pred_svm)\n",
        "    print(f'SVM Accuracy: {accuracy_svm:.2f}')\n",
        "\n",
        "    # Train Naïve Bayes Classifier\n",
        "    nb_classifier = GaussianNB()\n",
        "    nb_classifier.fit(X_train, y_train)\n",
        "    y_pred_nb = nb_classifier.predict(X_test)\n",
        "    accuracy_nb = accuracy_score(y_test, y_pred_nb)\n",
        "    print(f'Naïve Bayes Accuracy: {accuracy_nb:.2f}')\n",
        "\n",
        "    # Compare results\n",
        "    if accuracy_svm > accuracy_nb:\n",
        "        print(\"SVM performed better.\")\n",
        "    elif accuracy_nb > accuracy_svm:\n",
        "        print(\"Naïve Bayes performed better.\")\n",
        "    else:\n",
        "        print(\"Both classifiers performed equally well.\")\n",
        "\n",
        "if __name__ == \"__main__\":\n",
        "    main()\n"
      ],
      "metadata": {
        "colab": {
          "base_uri": "https://localhost:8080/"
        },
        "id": "3cMkTjq5LfA6",
        "outputId": "686f554b-9996-49c0-fdc5-ce3460b79610"
      },
      "execution_count": null,
      "outputs": [
        {
          "output_type": "stream",
          "name": "stdout",
          "text": [
            "SVM Accuracy: 1.00\n",
            "Naïve Bayes Accuracy: 1.00\n",
            "Both classifiers performed equally well.\n"
          ]
        }
      ]
    },
    {
      "cell_type": "markdown",
      "source": [
        "**35.Write a Python program to perform feature selection before training a Naïve Bayes classifier and compare\n",
        "results**"
      ],
      "metadata": {
        "id": "tsSZAmCoLubQ"
      }
    },
    {
      "cell_type": "code",
      "source": [
        "from sklearn.model_selection import train_test_split\n",
        "from sklearn.feature_selection import SelectKBest, chi2\n",
        "from sklearn.naive_bayes import GaussianNB\n",
        "from sklearn.metrics import accuracy_score\n",
        "from sklearn import datasets\n",
        "\n",
        "def train_and_evaluate(X_train, X_test, y_train, y_test, feature_selection=False):\n",
        "    if feature_selection:\n",
        "        selector = SelectKBest(score_func=chi2, k=10)\n",
        "        X_train = selector.fit_transform(X_train, y_train)\n",
        "        X_test = selector.transform(X_test)\n",
        "\n",
        "    # Train Naïve Bayes classifier\n",
        "    nb_classifier = GaussianNB()\n",
        "    nb_classifier.fit(X_train, y_train)\n",
        "    y_pred = nb_classifier.predict(X_test)\n",
        "\n",
        "    # Evaluate accuracy\n",
        "    accuracy = accuracy_score(y_test, y_pred)\n",
        "    status = \"with feature selection\" if feature_selection else \"without feature selection\"\n",
        "    print(f'Accuracy {status}: {accuracy:.2f}')\n",
        "\n",
        "def main():\n",
        "    # Load dataset\n",
        "    data = datasets.load_wine()\n",
        "    X, y = data.data, data.target\n",
        "\n",
        "    # Split into training and testing sets\n",
        "    X_train, X_test, y_train, y_test = train_test_split(X, y, test_size=0.2, random_state=42)\n",
        "\n",
        "    # Train and evaluate without feature selection\n",
        "    train_and_evaluate(X_train, X_test, y_train, y_test, feature_selection=False)\n",
        "\n",
        "    # Train and evaluate with feature selection\n",
        "    train_and_evaluate(X_train, X_test, y_train, y_test, feature_selection=True)\n",
        "\n",
        "if __name__ == \"__main__\":\n",
        "    main()\n"
      ],
      "metadata": {
        "colab": {
          "base_uri": "https://localhost:8080/"
        },
        "id": "0pgjznqSL1cD",
        "outputId": "aa21df52-7a56-46a2-e0d0-b8625b34fc1f"
      },
      "execution_count": null,
      "outputs": [
        {
          "output_type": "stream",
          "name": "stdout",
          "text": [
            "Accuracy without feature selection: 1.00\n",
            "Accuracy with feature selection: 0.97\n"
          ]
        }
      ]
    },
    {
      "cell_type": "markdown",
      "source": [
        "**36.Write a Python program to train an SVM Classifier using One-vs-Rest (OvR) and One-vs-One (OvO)\n",
        "strategies on the Wine dataset and compare their accuracy**"
      ],
      "metadata": {
        "id": "2KZirBD_MBjy"
      }
    },
    {
      "cell_type": "code",
      "source": [
        "from sklearn import datasets\n",
        "from sklearn.model_selection import train_test_split\n",
        "from sklearn.preprocessing import StandardScaler\n",
        "from sklearn.svm import SVC\n",
        "from sklearn.multiclass import OneVsRestClassifier, OneVsOneClassifier\n",
        "from sklearn.metrics import accuracy_score\n",
        "\n",
        "def main():\n",
        "    # Load dataset\n",
        "    wine = datasets.load_wine()\n",
        "    X, y = wine.data, wine.target\n",
        "\n",
        "    # Split into training and testing sets\n",
        "    X_train, X_test, y_train, y_test = train_test_split(X, y, test_size=0.2, random_state=42)\n",
        "\n",
        "    # Standardize the features\n",
        "    scaler = StandardScaler()\n",
        "    X_train = scaler.fit_transform(X_train)\n",
        "    X_test = scaler.transform(X_test)\n",
        "\n",
        "    # Train SVM with One-vs-Rest (OvR)\n",
        "    ovr_classifier = OneVsRestClassifier(SVC(kernel='rbf', C=1.0, gamma='scale', random_state=42))\n",
        "    ovr_classifier.fit(X_train, y_train)\n",
        "    y_pred_ovr = ovr_classifier.predict(X_test)\n",
        "    accuracy_ovr = accuracy_score(y_test, y_pred_ovr)\n",
        "    print(f'Accuracy with One-vs-Rest (OvR): {accuracy_ovr:.2f}')\n",
        "\n",
        "    # Train SVM with One-vs-One (OvO)\n",
        "    ovo_classifier = OneVsOneClassifier(SVC(kernel='rbf', C=1.0, gamma='scale', random_state=42))\n",
        "    ovo_classifier.fit(X_train, y_train)\n",
        "    y_pred_ovo = ovo_classifier.predict(X_test)\n",
        "    accuracy_ovo = accuracy_score(y_test, y_pred_ovo)\n",
        "    print(f'Accuracy with One-vs-One (OvO): {accuracy_ovo:.2f}')\n",
        "\n",
        "    # Compare results\n",
        "    if accuracy_ovr > accuracy_ovo:\n",
        "        print(\"One-vs-Rest (OvR) performed better.\")\n",
        "    elif accuracy_ovo > accuracy_ovr:\n",
        "        print(\"One-vs-One (OvO) performed better.\")\n",
        "    else:\n",
        "        print(\"Both strategies performed equally well.\")\n",
        "\n",
        "if __name__ == \"__main__\":\n",
        "    main()\n"
      ],
      "metadata": {
        "colab": {
          "base_uri": "https://localhost:8080/"
        },
        "id": "HMLQEfvrMNMn",
        "outputId": "021bfebd-bb60-46a8-f994-9e5ee161dfdd"
      },
      "execution_count": null,
      "outputs": [
        {
          "output_type": "stream",
          "name": "stdout",
          "text": [
            "Accuracy with One-vs-Rest (OvR): 1.00\n",
            "Accuracy with One-vs-One (OvO): 1.00\n",
            "Both strategies performed equally well.\n"
          ]
        }
      ]
    },
    {
      "cell_type": "markdown",
      "source": [
        "**37.Write a Python program to train an SVM Classifier using Linear, Polynomial, and RBF kernels on the Breast\n",
        "Cancer dataset and compare their accuracy**"
      ],
      "metadata": {
        "id": "5hdcD6pgMiDL"
      }
    },
    {
      "cell_type": "code",
      "source": [
        "from sklearn import datasets\n",
        "from sklearn.model_selection import train_test_split\n",
        "from sklearn.preprocessing import StandardScaler\n",
        "from sklearn.svm import SVC\n",
        "from sklearn.metrics import accuracy_score\n",
        "\n",
        "def train_and_evaluate(kernel_type, X_train, X_test, y_train, y_test):\n",
        "    # Train SVM Classifier with specified kernel\n",
        "    svm_classifier = SVC(kernel=kernel_type, C=1.0, gamma='scale', random_state=42)\n",
        "    svm_classifier.fit(X_train, y_train)\n",
        "    y_pred = svm_classifier.predict(X_test)\n",
        "\n",
        "    # Evaluate accuracy\n",
        "    accuracy = accuracy_score(y_test, y_pred)\n",
        "    print(f'Accuracy with {kernel_type} kernel: {accuracy:.2f}')\n",
        "    return accuracy\n",
        "\n",
        "def main():\n",
        "    # Load dataset\n",
        "    cancer = datasets.load_breast_cancer()\n",
        "    X, y = cancer.data, cancer.target\n",
        "\n",
        "    # Split into training and testing sets\n",
        "    X_train, X_test, y_train, y_test = train_test_split(X, y, test_size=0.2, random_state=42)\n",
        "\n",
        "    # Standardize the features\n",
        "    scaler = StandardScaler()\n",
        "    X_train = scaler.fit_transform(X_train)\n",
        "    X_test = scaler.transform(X_test)\n",
        "\n",
        "    # Train and evaluate models with different kernels\n",
        "    accuracy_linear = train_and_evaluate('linear', X_train, X_test, y_train, y_test)\n",
        "    accuracy_poly = train_and_evaluate('poly', X_train, X_test, y_train, y_test)\n",
        "    accuracy_rbf = train_and_evaluate('rbf', X_train, X_test, y_train, y_test)\n",
        "\n",
        "    # Compare results\n",
        "    best_kernel = max([('linear', accuracy_linear), ('poly', accuracy_poly), ('rbf', accuracy_rbf)], key=lambda x: x[1])\n",
        "    print(f'Best performing kernel: {best_kernel[0]} with accuracy {best_kernel[1]:.2f}')\n",
        "\n",
        "if __name__ == \"__main__\":\n",
        "    main()\n"
      ],
      "metadata": {
        "colab": {
          "base_uri": "https://localhost:8080/"
        },
        "id": "xDIco4NVMrrv",
        "outputId": "224551ae-f7bd-4694-dc89-9f2c36576f37"
      },
      "execution_count": null,
      "outputs": [
        {
          "output_type": "stream",
          "name": "stdout",
          "text": [
            "Accuracy with linear kernel: 0.96\n",
            "Accuracy with poly kernel: 0.87\n",
            "Accuracy with rbf kernel: 0.98\n",
            "Best performing kernel: rbf with accuracy 0.98\n"
          ]
        }
      ]
    },
    {
      "cell_type": "markdown",
      "source": [
        "**38.Write a Python program to train an SVM Classifier using Stratified K-Fold Cross-Validation and compute the\n",
        "average accuracy**"
      ],
      "metadata": {
        "id": "rZT9s4NbM6vT"
      }
    },
    {
      "cell_type": "code",
      "source": [
        "from sklearn import datasets\n",
        "from sklearn.model_selection import StratifiedKFold, cross_val_score\n",
        "from sklearn.preprocessing import StandardScaler\n",
        "from sklearn.svm import SVC\n",
        "import numpy as np\n",
        "\n",
        "def main():\n",
        "    # Load dataset\n",
        "    cancer = datasets.load_breast_cancer()\n",
        "    X, y = cancer.data, cancer.target\n",
        "\n",
        "    # Standardize the features\n",
        "    scaler = StandardScaler()\n",
        "    X = scaler.fit_transform(X)\n",
        "\n",
        "    # Define SVM classifier\n",
        "    svm_classifier = SVC(kernel='rbf', C=1.0, gamma='scale', random_state=42)\n",
        "\n",
        "    # Perform Stratified K-Fold Cross-Validation\n",
        "    skf = StratifiedKFold(n_splits=5, shuffle=True, random_state=42)\n",
        "    scores = cross_val_score(svm_classifier, X, y, cv=skf, scoring='accuracy')\n",
        "\n",
        "    # Compute and print average accuracy\n",
        "    print(f'Cross-validation accuracies: {scores}')\n",
        "    print(f'Average accuracy: {np.mean(scores):.2f}')\n",
        "\n",
        "if __name__ == \"__main__\":\n",
        "    main()\n"
      ],
      "metadata": {
        "colab": {
          "base_uri": "https://localhost:8080/"
        },
        "id": "XkfLkBcuNGkH",
        "outputId": "883acf2a-ae07-44c7-8bb6-25ce14a3c94b"
      },
      "execution_count": null,
      "outputs": [
        {
          "output_type": "stream",
          "name": "stdout",
          "text": [
            "Cross-validation accuracies: [0.99122807 0.93859649 0.97368421 0.99122807 0.98230088]\n",
            "Average accuracy: 0.98\n"
          ]
        }
      ]
    },
    {
      "cell_type": "markdown",
      "source": [
        "**39.Write a Python program to train a Naïve Bayes classifier using different prior probabilities and compare\n",
        "performance**"
      ],
      "metadata": {
        "id": "SjbXf0BBNS7t"
      }
    },
    {
      "cell_type": "code",
      "source": [
        "from sklearn import datasets\n",
        "from sklearn.model_selection import train_test_split\n",
        "from sklearn.naive_bayes import GaussianNB\n",
        "from sklearn.metrics import accuracy_score\n",
        "\n",
        "def train_and_evaluate(priors, X_train, X_test, y_train, y_test):\n",
        "    # Train Naïve Bayes classifier with specified priors\n",
        "    nb_classifier = GaussianNB(priors=priors)\n",
        "    nb_classifier.fit(X_train, y_train)\n",
        "    y_pred = nb_classifier.predict(X_test)\n",
        "\n",
        "    # Evaluate accuracy\n",
        "    accuracy = accuracy_score(y_test, y_pred)\n",
        "    print(f'Accuracy with priors {priors}: {accuracy:.2f}')\n",
        "    return accuracy\n",
        "\n",
        "def main():\n",
        "    # Load dataset\n",
        "    wine = datasets.load_wine()\n",
        "    X, y = wine.data, wine.target\n",
        "\n",
        "    # Split into training and testing sets\n",
        "    X_train, X_test, y_train, y_test = train_test_split(X, y, test_size=0.2, random_state=42)\n",
        "\n",
        "    # Train and evaluate models with different priors\n",
        "    accuracy_default = train_and_evaluate(None, X_train, X_test, y_train, y_test)\n",
        "    accuracy_custom = train_and_evaluate([0.1, 0.3, 0.6], X_train, X_test, y_train, y_test)\n",
        "\n",
        "    # Compare results\n",
        "    best_prior = 'default' if accuracy_default > accuracy_custom else 'custom [0.1, 0.3, 0.6]'\n",
        "    print(f'Best performing prior: {best_prior}')\n",
        "\n",
        "if __name__ == \"__main__\":\n",
        "    main()"
      ],
      "metadata": {
        "colab": {
          "base_uri": "https://localhost:8080/"
        },
        "id": "_TajcB17NYgW",
        "outputId": "09b630ab-66ce-4fca-d939-12001b3c7e57"
      },
      "execution_count": null,
      "outputs": [
        {
          "output_type": "stream",
          "name": "stdout",
          "text": [
            "Accuracy with priors None: 1.00\n",
            "Accuracy with priors [0.1, 0.3, 0.6]: 1.00\n",
            "Best performing prior: custom [0.1, 0.3, 0.6]\n"
          ]
        }
      ]
    },
    {
      "cell_type": "markdown",
      "source": [
        "**40.Write a Python program to perform Recursive Feature Elimination (RFE) before training an SVM Classifier and\n",
        "compare accuracy**"
      ],
      "metadata": {
        "id": "THd2jwqANozW"
      }
    },
    {
      "cell_type": "code",
      "source": [
        "from sklearn import datasets\n",
        "from sklearn.model_selection import train_test_split\n",
        "from sklearn.preprocessing import StandardScaler\n",
        "from sklearn.svm import SVC\n",
        "from sklearn.feature_selection import RFE\n",
        "from sklearn.metrics import accuracy_score\n",
        "\n",
        "def train_and_evaluate(X_train, X_test, y_train, y_test, feature_selection=False):\n",
        "    if feature_selection:\n",
        "        # Perform Recursive Feature Elimination (RFE)\n",
        "        estimator = SVC(kernel='linear', C=1.0)\n",
        "        selector = RFE(estimator, n_features_to_select=10)\n",
        "        X_train = selector.fit_transform(X_train, y_train)\n",
        "        X_test = selector.transform(X_test)\n",
        "\n",
        "    # Train SVM Classifier\n",
        "    svm_classifier = SVC(kernel='rbf', C=1.0, gamma='scale', random_state=42)\n",
        "    svm_classifier.fit(X_train, y_train)\n",
        "    y_pred = svm_classifier.predict(X_test)\n",
        "\n",
        "    # Evaluate accuracy\n",
        "    accuracy = accuracy_score(y_test, y_pred)\n",
        "    status = \"with RFE\" if feature_selection else \"without RFE\"\n",
        "    print(f'Accuracy {status}: {accuracy:.2f}')\n",
        "    return accuracy\n",
        "\n",
        "def main():\n",
        "    # Load dataset\n",
        "    cancer = datasets.load_breast_cancer()\n",
        "    X, y = cancer.data, cancer.target\n",
        "\n",
        "    # Split into training and testing sets\n",
        "    X_train, X_test, y_train, y_test = train_test_split(X, y, test_size=0.2, random_state=42)\n",
        "\n",
        "    # Standardize the features\n",
        "    scaler = StandardScaler()\n",
        "    X_train = scaler.fit_transform(X_train)\n",
        "    X_test = scaler.transform(X_test)\n",
        "\n",
        "    # Train and evaluate without RFE\n",
        "    accuracy_without_rfe = train_and_evaluate(X_train, X_test, y_train, y_test, feature_selection=False)\n",
        "\n",
        "    # Train and evaluate with RFE\n",
        "    accuracy_with_rfe = train_and_evaluate(X_train, X_test, y_train, y_test, feature_selection=True)\n",
        "\n",
        "    # Compare results\n",
        "    best_method = \"RFE\" if accuracy_with_rfe > accuracy_without_rfe else \"No RFE\"\n",
        "    print(f'Best performing method: {best_method}')\n",
        "\n",
        "if __name__ == \"__main__\":\n",
        "    main()"
      ],
      "metadata": {
        "colab": {
          "base_uri": "https://localhost:8080/"
        },
        "id": "FE6pXqfnNvoE",
        "outputId": "0733df6a-634f-4759-89c7-a0e5cbf9bcc6"
      },
      "execution_count": null,
      "outputs": [
        {
          "output_type": "stream",
          "name": "stdout",
          "text": [
            "Accuracy without RFE: 0.98\n",
            "Accuracy with RFE: 0.96\n",
            "Best performing method: No RFE\n"
          ]
        }
      ]
    },
    {
      "cell_type": "markdown",
      "source": [
        "**41.Write a Python program to train an SVM Classifier and evaluate its performance using Precision, Recall, and\n",
        "F1-Score instead of accuracy**"
      ],
      "metadata": {
        "id": "iim384KLPz6j"
      }
    },
    {
      "cell_type": "code",
      "source": [
        "from sklearn import datasets\n",
        "from sklearn.model_selection import train_test_split\n",
        "from sklearn.preprocessing import StandardScaler\n",
        "from sklearn.svm import SVC\n",
        "from sklearn.metrics import precision_score, recall_score, f1_score\n",
        "\n",
        "def main():\n",
        "    # Load dataset\n",
        "    cancer = datasets.load_breast_cancer()\n",
        "    X, y = cancer.data, cancer.target\n",
        "\n",
        "    # Split into training and testing sets\n",
        "    X_train, X_test, y_train, y_test = train_test_split(X, y, test_size=0.2, random_state=42)\n",
        "\n",
        "    # Standardize the features\n",
        "    scaler = StandardScaler()\n",
        "    X_train = scaler.fit_transform(X_train)\n",
        "    X_test = scaler.transform(X_test)\n",
        "\n",
        "    # Train SVM Classifier\n",
        "    svm_classifier = SVC(kernel='rbf', C=1.0, gamma='scale', random_state=42)\n",
        "    svm_classifier.fit(X_train, y_train)\n",
        "    y_pred = svm_classifier.predict(X_test)\n",
        "\n",
        "    # Evaluate performance using Precision, Recall, and F1-Score\n",
        "    precision = precision_score(y_test, y_pred)\n",
        "    recall = recall_score(y_test, y_pred)\n",
        "    f1 = f1_score(y_test, y_pred)\n",
        "\n",
        "    print(f'Precision: {precision:.2f}')\n",
        "    print(f'Recall: {recall:.2f}')\n",
        "    print(f'F1-Score: {f1:.2f}')\n",
        "\n",
        "if __name__ == \"__main__\":\n",
        "    main()\n"
      ],
      "metadata": {
        "colab": {
          "base_uri": "https://localhost:8080/"
        },
        "id": "ASZ-MuplP6VJ",
        "outputId": "39f1b7ee-67d7-4df5-95d8-9fc2b8965657"
      },
      "execution_count": null,
      "outputs": [
        {
          "output_type": "stream",
          "name": "stdout",
          "text": [
            "Precision: 0.97\n",
            "Recall: 1.00\n",
            "F1-Score: 0.99\n"
          ]
        }
      ]
    },
    {
      "cell_type": "markdown",
      "source": [
        "**42.Write a Python program to train a Naïve Bayes Classifier and evaluate its performance using Log Loss\n",
        "(Cross-Entropy Loss)**"
      ],
      "metadata": {
        "id": "-RikSitFQL_H"
      }
    },
    {
      "cell_type": "code",
      "source": [
        "from sklearn import datasets\n",
        "from sklearn.model_selection import train_test_split\n",
        "from sklearn.preprocessing import StandardScaler\n",
        "from sklearn.naive_bayes import GaussianNB\n",
        "from sklearn.metrics import log_loss\n",
        "\n",
        "def main():\n",
        "    # Load dataset\n",
        "    cancer = datasets.load_breast_cancer()\n",
        "    X, y = cancer.data, cancer.target\n",
        "\n",
        "    # Split into training and testing sets\n",
        "    X_train, X_test, y_train, y_test = train_test_split(X, y, test_size=0.2, random_state=42)\n",
        "\n",
        "    # Standardize the features\n",
        "    scaler = StandardScaler()\n",
        "    X_train = scaler.fit_transform(X_train)\n",
        "    X_test = scaler.transform(X_test)\n",
        "\n",
        "    # Train Naïve Bayes Classifier\n",
        "    nb_classifier = GaussianNB()\n",
        "    nb_classifier.fit(X_train, y_train)\n",
        "    y_prob = nb_classifier.predict_proba(X_test)\n",
        "\n",
        "    # Evaluate performance using Log Loss (Cross-Entropy Loss)\n",
        "    loss = log_loss(y_test, y_prob)\n",
        "    print(f'Log Loss: {loss:.4f}')\n",
        "\n",
        "if __name__ == \"__main__\":\n",
        "    main()\n"
      ],
      "metadata": {
        "colab": {
          "base_uri": "https://localhost:8080/"
        },
        "id": "pGhjGoKPQTxc",
        "outputId": "7acb4ebc-4479-4d79-fe2f-49011f3b74b3"
      },
      "execution_count": null,
      "outputs": [
        {
          "output_type": "stream",
          "name": "stdout",
          "text": [
            "Log Loss: 0.2051\n"
          ]
        }
      ]
    },
    {
      "cell_type": "markdown",
      "source": [
        "**43.Write a Python program to train an SVM Classifier and visualize the Confusion Matrix using seaborn**"
      ],
      "metadata": {
        "id": "OzaIcRzBQqu1"
      }
    },
    {
      "cell_type": "code",
      "source": [
        "import seaborn as sns\n",
        "import matplotlib.pyplot as plt\n",
        "from sklearn import datasets\n",
        "from sklearn.model_selection import train_test_split\n",
        "from sklearn.preprocessing import StandardScaler\n",
        "from sklearn.svm import SVC\n",
        "from sklearn.metrics import confusion_matrix\n",
        "import numpy as np\n",
        "\n",
        "def main():\n",
        "    # Load dataset\n",
        "    cancer = datasets.load_breast_cancer()\n",
        "    X, y = cancer.data, cancer.target\n",
        "\n",
        "    # Split into training and testing sets\n",
        "    X_train, X_test, y_train, y_test = train_test_split(X, y, test_size=0.2, random_state=42)\n",
        "\n",
        "    # Standardize the features\n",
        "    scaler = StandardScaler()\n",
        "    X_train = scaler.fit_transform(X_train)\n",
        "    X_test = scaler.transform(X_test)\n",
        "\n",
        "    # Train SVM Classifier\n",
        "    svm_classifier = SVC(kernel='rbf', C=1.0, gamma='scale', random_state=42)\n",
        "    svm_classifier.fit(X_train, y_train)\n",
        "    y_pred = svm_classifier.predict(X_test)\n",
        "\n",
        "    # Compute Confusion Matrix\n",
        "    cm = confusion_matrix(y_test, y_pred)\n",
        "\n",
        "    # Visualize Confusion Matrix using seaborn\n",
        "    plt.figure(figsize=(6,4))\n",
        "    sns.heatmap(cm, annot=True, fmt='d', cmap='Blues', xticklabels=['Negative', 'Positive'], yticklabels=['Negative', 'Positive'])\n",
        "    plt.xlabel('Predicted')\n",
        "    plt.ylabel('Actual')\n",
        "    plt.title('Confusion Matrix')\n",
        "    plt.show()\n",
        "\n",
        "if __name__ == \"__main__\":\n",
        "    main()\n"
      ],
      "metadata": {
        "colab": {
          "base_uri": "https://localhost:8080/",
          "height": 410
        },
        "id": "xO3A2-NCQuif",
        "outputId": "04448b76-4e7b-440e-acd5-3a0c7d72e4af"
      },
      "execution_count": null,
      "outputs": [
        {
          "output_type": "display_data",
          "data": {
            "text/plain": [
              "<Figure size 600x400 with 2 Axes>"
            ],
            "image/png": "[encoded data removed]"
          },
          "metadata": {}
        }
      ]
    },
    {
      "cell_type": "markdown",
      "source": [
        "**44.Write a Python program to train an SVM Regressor (SVR) and evaluate its performance using Mean Absolute\n",
        "Error (MAE) instead of MSE**"
      ],
      "metadata": {
        "id": "euarEir6bvfl"
      }
    },
    {
      "cell_type": "code",
      "source": [
        "from sklearn import datasets\n",
        "from sklearn.model_selection import train_test_split\n",
        "from sklearn.preprocessing import StandardScaler\n",
        "from sklearn.svm import SVR\n",
        "from sklearn.metrics import mean_absolute_error\n",
        "\n",
        "def main():\n",
        "    # Load dataset\n",
        "    boston = datasets.load_diabetes()\n",
        "    X, y = boston.data, boston.target\n",
        "\n",
        "    # Split into training and testing sets\n",
        "    X_train, X_test, y_train, y_test = train_test_split(X, y, test_size=0.2, random_state=42)\n",
        "\n",
        "    # Standardize the features\n",
        "    scaler = StandardScaler()\n",
        "    X_train = scaler.fit_transform(X_train)\n",
        "    X_test = scaler.transform(X_test)\n",
        "\n",
        "    # Train SVM Regressor\n",
        "    svr_model = SVR(kernel='rbf', C=1.0, gamma='scale')\n",
        "    svr_model.fit(X_train, y_train)\n",
        "    y_pred = svr_model.predict(X_test)\n",
        "\n",
        "    # Evaluate performance using Mean Absolute Error (MAE)\n",
        "    mae = mean_absolute_error(y_test, y_pred)\n",
        "    print(f'Mean Absolute Error: {mae:.4f}')\n",
        "\n",
        "if __name__ == \"__main__\":\n",
        "    main()\n"
      ],
      "metadata": {
        "colab": {
          "base_uri": "https://localhost:8080/"
        },
        "id": "ljASiIKCcEU3",
        "outputId": "8df5ce3f-65fd-467c-d519-c260eccefd81"
      },
      "execution_count": null,
      "outputs": [
        {
          "output_type": "stream",
          "name": "stdout",
          "text": [
            "Mean Absolute Error: 56.0295\n"
          ]
        }
      ]
    },
    {
      "cell_type": "markdown",
      "source": [
        "**45.Write a Python program to train a Naïve Bayes classifier and evaluate its performance using the ROC-AUC\n",
        "score**"
      ],
      "metadata": {
        "id": "M1rF-_H6cTrp"
      }
    },
    {
      "cell_type": "code",
      "source": [
        "from sklearn import datasets\n",
        "from sklearn.model_selection import train_test_split\n",
        "from sklearn.preprocessing import StandardScaler\n",
        "from sklearn.naive_bayes import GaussianNB\n",
        "from sklearn.metrics import roc_auc_score\n",
        "\n",
        "def main():\n",
        "    # Load dataset\n",
        "    cancer = datasets.load_breast_cancer()\n",
        "    X, y = cancer.data, cancer.target\n",
        "\n",
        "    # Split into training and testing sets\n",
        "    X_train, X_test, y_train, y_test = train_test_split(X, y, test_size=0.2, random_state=42)\n",
        "\n",
        "    # Standardize the features\n",
        "    scaler = StandardScaler()\n",
        "    X_train = scaler.fit_transform(X_train)\n",
        "    X_test = scaler.transform(X_test)\n",
        "\n",
        "    # Train Naïve Bayes Classifier\n",
        "    nb_classifier = GaussianNB()\n",
        "    nb_classifier.fit(X_train, y_train)\n",
        "    y_prob = nb_classifier.predict_proba(X_test)[:, 1]\n",
        "\n",
        "    # Evaluate performance using ROC-AUC score\n",
        "    roc_auc = roc_auc_score(y_test, y_prob)\n",
        "    print(f'ROC-AUC Score: {roc_auc:.4f}')\n",
        "\n",
        "if __name__ == \"__main__\":\n",
        "    main()\n"
      ],
      "metadata": {
        "colab": {
          "base_uri": "https://localhost:8080/"
        },
        "id": "RIWaL120cz0A",
        "outputId": "536618cf-1cea-43fb-a55a-2eedb5e9a7a9"
      },
      "execution_count": null,
      "outputs": [
        {
          "output_type": "stream",
          "name": "stdout",
          "text": [
            "ROC-AUC Score: 0.9974\n"
          ]
        }
      ]
    },
    {
      "cell_type": "markdown",
      "source": [
        "**46.Write a Python program to train an SVM Classifier and visualize the Precision-Recall Curve.**"
      ],
      "metadata": {
        "id": "98WbWNwIdEZS"
      }
    },
    {
      "cell_type": "code",
      "source": [
        "import matplotlib.pyplot as plt\n",
        "import numpy as np\n",
        "from sklearn import datasets\n",
        "from sklearn.model_selection import train_test_split\n",
        "from sklearn.preprocessing import StandardScaler\n",
        "from sklearn.svm import SVC\n",
        "from sklearn.metrics import precision_recall_curve, auc\n",
        "import seaborn as sns\n",
        "\n",
        "def main():\n",
        "    # Load dataset\n",
        "    cancer = datasets.load_breast_cancer()\n",
        "    X, y = cancer.data, cancer.target\n",
        "\n",
        "    # Split into training and testing sets\n",
        "    X_train, X_test, y_train, y_test = train_test_split(X, y, test_size=0.2, random_state=42)\n",
        "\n",
        "    # Standardize the features\n",
        "    scaler = StandardScaler()\n",
        "    X_train = scaler.fit_transform(X_train)\n",
        "    X_test = scaler.transform(X_test)\n",
        "\n",
        "    # Train SVM Classifier\n",
        "    svm_classifier = SVC(kernel='rbf', C=1.0, gamma='scale', probability=True, random_state=42)\n",
        "    svm_classifier.fit(X_train, y_train)\n",
        "    y_scores = svm_classifier.predict_proba(X_test)[:, 1]\n",
        "\n",
        "    # Compute Precision-Recall curve\n",
        "    precision, recall, _ = precision_recall_curve(y_test, y_scores)\n",
        "    pr_auc = auc(recall, precision)\n",
        "\n",
        "    # Visualize Precision-Recall Curve\n",
        "    plt.figure(figsize=(8, 6))\n",
        "    sns.lineplot(x=recall, y=precision, label=f'PR Curve (AUC={pr_auc:.2f})')\n",
        "    plt.xlabel('Recall')\n",
        "    plt.ylabel('Precision')\n",
        "    plt.title('Precision-Recall Curve')\n",
        "    plt.legend()\n",
        "    plt.grid()\n",
        "    plt.show()\n",
        "\n",
        "if __name__ == \"__main__\":\n",
        "    main()\n"
      ],
      "metadata": {
        "colab": {
          "base_uri": "https://localhost:8080/",
          "height": 564
        },
        "id": "MiKS2nxUdNZa",
        "outputId": "c52f4a89-15ff-4a8a-9761-a9edbd3c1a8e"
      },
      "execution_count": null,
      "outputs": [
        {
          "output_type": "display_data",
          "data": {
            "text/plain": [
              "<Figure size 800x600 with 1 Axes>"
            ],
            "image/png": "[encoded data removed]"
          },
          "metadata": {}
        }
      ]
    }
  ]
}