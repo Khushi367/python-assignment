{
  "nbformat": 4,
  "nbformat_minor": 0,
  "metadata": {
    "colab": {
      "provenance": []
    },
    "kernelspec": {
      "name": "python3",
      "display_name": "Python 3"
    },
    "language_info": {
      "name": "python"
    }
  },
  "cells": [
    {
      "cell_type": "code",
      "execution_count": null,
      "metadata": {
        "id": "FxAdmuPcaJPX"
      },
      "outputs": [],
      "source": []
    },
    {
      "cell_type": "markdown",
      "source": [
        "**Q.1 What are the five key concept of object oriented programming**\n",
        "\n",
        "\n",
        "\n",
        "*  1.classes and objects\n",
        "\n",
        "    classes are blueprints for creating objects.\n",
        "\n",
        "    objects are instances of classes.\n",
        "\n",
        "*  2.Encapsulation\n",
        "\n",
        "   Helps in data hiding\n",
        "\n",
        "\n",
        "\n",
        "*  3.Inheritance\n",
        "\n",
        "    Allows a new class to inherit properties and methods from an existing class\n",
        "\n",
        "\n",
        "*  4.Polymorphism\n",
        "\n",
        "    Allow object to be treated as instances of their parent class\n",
        "\n",
        "\n",
        "\n",
        "*  5.Abstraction\n",
        "\n",
        "   Focuses on exposing only essential features and hiding unnecessary details from the user.\n",
        "\n",
        "\n",
        "\n",
        "\n",
        "\n",
        "\n"
      ],
      "metadata": {
        "id": "bLEPiy_pb8FY"
      }
    },
    {
      "cell_type": "markdown",
      "source": [],
      "metadata": {
        "id": "kSmJFO2ITO08"
      }
    },
    {
      "cell_type": "markdown",
      "source": [
        "**Q.2 Write a python class for a car with attribute for 'make'  'model'and 'year'.include a method to display the car's information.**"
      ],
      "metadata": {
        "id": "6lUqAD4Oe7LQ"
      }
    },
    {
      "cell_type": "markdown",
      "source": [],
      "metadata": {
        "id": "6cAkNIETTWSA"
      }
    },
    {
      "cell_type": "code",
      "source": [
        "class Car:\n",
        "  def __init__(self,make,model ,year):\n",
        "    self.make=make\n",
        "    self.model=model\n",
        "    self.year=year\n",
        "\n",
        "  def display_info(self):\n",
        "    print(f\"car information:\\nMake:{self.make}\\nModel:{self.model}\\nYear:{self.year}\")\n",
        "\n",
        "car1 = Car(\"Toyoto\",\"Camry\",2022)\n",
        "\n",
        "car1.display_info()"
      ],
      "metadata": {
        "colab": {
          "base_uri": "https://localhost:8080/"
        },
        "id": "NIOQkgK9OMhz",
        "outputId": "19e21ca8-840a-4b44-caa7-56833084c26c"
      },
      "execution_count": 7,
      "outputs": [
        {
          "output_type": "stream",
          "name": "stdout",
          "text": [
            "car information:\n",
            "Make:Toyoto\n",
            "Model:Camry\n",
            "Year:2022\n"
          ]
        }
      ]
    },
    {
      "cell_type": "markdown",
      "source": [
        "**Q.3 Explain the difference between instance methods and class methods.Provide an example of each.**\n",
        "\n",
        "**Instance Methods**\n",
        "\n",
        "These are methods that operate on an individual instance of a class.\n",
        "\n"
      ],
      "metadata": {
        "id": "S_9TVpLeTooX"
      }
    },
    {
      "cell_type": "code",
      "source": [
        "class Dog:#example of Instance methods\n",
        "  def __init__(self,name,age):\n",
        "    self.name=name\n",
        "    self.age=age\n",
        "  def bark(self):\n",
        "    return f\"{self.name}says woof!\"\n",
        "\n",
        "my_dog=Dog(\"Buddy\",5)\n",
        "print(my_dog.bark())"
      ],
      "metadata": {
        "colab": {
          "base_uri": "https://localhost:8080/"
        },
        "id": "iBsGaMeVV1QV",
        "outputId": "619d57cb-ce63-4244-ce94-fedcb5527c83"
      },
      "execution_count": 9,
      "outputs": [
        {
          "output_type": "stream",
          "name": "stdout",
          "text": [
            "Buddysays woof!\n"
          ]
        }
      ]
    },
    {
      "cell_type": "markdown",
      "source": [
        "**Class Methods**\n",
        "\n",
        "These methods are associated with the class itself,not individiul instances\n",
        "\n"
      ],
      "metadata": {
        "id": "qrPIu6S9XNcW"
      }
    },
    {
      "cell_type": "code",
      "source": [
        "#example of class methods\n",
        "class Dog:\n",
        "  species=\"canies lupus familiaris\"#class attribute\n",
        "  def __init__(self,name,age):\n",
        "    self.name=name\n",
        "    self.age =age\n",
        "  @classmethod\n",
        "  def get_species(cls):\n",
        "     return cls.species\n",
        "print(Dog.get_species())"
      ],
      "metadata": {
        "colab": {
          "base_uri": "https://localhost:8080/"
        },
        "id": "A9dg2BxEX7nV",
        "outputId": "261ca768-8cba-48f2-905f-e396410ef4c3"
      },
      "execution_count": 12,
      "outputs": [
        {
          "output_type": "stream",
          "name": "stdout",
          "text": [
            "canies lupus familiaris\n"
          ]
        }
      ]
    },
    {
      "cell_type": "markdown",
      "source": [
        "**Q.4 How does Python implement method overloading? give an example.**\n",
        "\n",
        "  python doesn't directly support method overloading thet is defining multiple methods with the same name but different parameters as seen languages like java or C++.Instead,python achieves this functionality using default parameters, *args and **kwargs."
      ],
      "metadata": {
        "id": "bKMWz_oDZwXN"
      }
    },
    {
      "cell_type": "code",
      "source": [
        "class Calculator:\n",
        "  def add(self,a, b=0, c=0):\n",
        "    return a+b+c\n",
        "calc = Calculator()\n",
        "print(calc.add(5))\n",
        "print(calc.add(5,10))\n",
        "print(calc.add(5,10,15))\n"
      ],
      "metadata": {
        "colab": {
          "base_uri": "https://localhost:8080/"
        },
        "id": "pldHFIIigK0U",
        "outputId": "a3bc8248-bb58-4f11-c832-7f2ad2b9465e"
      },
      "execution_count": 13,
      "outputs": [
        {
          "output_type": "stream",
          "name": "stdout",
          "text": [
            "5\n",
            "15\n",
            "30\n"
          ]
        }
      ]
    },
    {
      "cell_type": "code",
      "source": [
        "class Calculator:\n",
        "  def add(self,*args):\n",
        "    return sum(args)\n",
        "calc=Calculator()\n",
        "print(calc.add(5))\n",
        "print(calc.add(5,10))\n",
        "print(calc.add(5,10,15))"
      ],
      "metadata": {
        "colab": {
          "base_uri": "https://localhost:8080/"
        },
        "id": "pytZnn4rhL80",
        "outputId": "1116cf22-95db-4d76-d0ef-8b82f7d93c22"
      },
      "execution_count": 14,
      "outputs": [
        {
          "output_type": "stream",
          "name": "stdout",
          "text": [
            "5\n",
            "15\n",
            "30\n"
          ]
        }
      ]
    },
    {
      "cell_type": "markdown",
      "source": [
        "**Q.5 What are the three types of access modifiers in python? How are they denoted?**\n",
        "\n",
        "\n",
        "\n",
        "*   Public access:\n",
        "      \n",
        "      Accesible from any part of the code,both inside and outside the class.\n",
        "\n",
        "*   Private access:\n",
        "\n",
        "    Inaccesible outside the class\n",
        "\n",
        "\n",
        "\n",
        "\n",
        "\n",
        "\n"
      ],
      "metadata": {
        "id": "1HJoqoqhhzC-"
      }
    },
    {
      "cell_type": "code",
      "source": [
        "class Myclass:\n",
        "  def __init__(self):\n",
        "    self.__private_attribute=\"I am private\"\n",
        "\n",
        "  def get_private(self):\n",
        "    return self.__private_attribute\n",
        "\n",
        "obj=Myclass()\n",
        "print(obj.get_private())"
      ],
      "metadata": {
        "colab": {
          "base_uri": "https://localhost:8080/"
        },
        "id": "8OAczOc-jYqc",
        "outputId": "15a565e6-6427-4e46-a466-cf0e795c02d2"
      },
      "execution_count": 15,
      "outputs": [
        {
          "output_type": "stream",
          "name": "stdout",
          "text": [
            "I am private\n"
          ]
        }
      ]
    },
    {
      "cell_type": "markdown",
      "source": [
        "\n",
        "\n",
        "*   Protected access:\n",
        "\n",
        "    Indicates that they are intended for internal use within the class and its subclasses.However they are still accessible outside the class.They are denoted by single underscore.\n",
        "\n",
        "\n"
      ],
      "metadata": {
        "id": "5otDeXBTkQkk"
      }
    },
    {
      "cell_type": "code",
      "source": [
        "class Myclass:\n",
        "  def __init__(self):\n",
        "    self._protected_attribute = \"I am protected\"\n",
        "\n",
        "obj=Myclass()\n",
        "print(obj._protected_attribute)"
      ],
      "metadata": {
        "colab": {
          "base_uri": "https://localhost:8080/"
        },
        "id": "9ScFozjrlQUE",
        "outputId": "0f1c310c-c26f-4b5d-8dbb-9d5a3679478d"
      },
      "execution_count": 19,
      "outputs": [
        {
          "output_type": "stream",
          "name": "stdout",
          "text": [
            "I am protected\n"
          ]
        }
      ]
    },
    {
      "cell_type": "markdown",
      "source": [
        " **Q.6 Describe the 5 types of inheritance in python.Provide a simple example of multiple inheritence.**\n",
        "\n",
        "\n",
        "\n",
        "* Single inheritence:\n",
        "\n",
        "   A class inherits from one parent class,acquiring its properties and methods.\n",
        "\n",
        "*   Multilevel Inheritence:\n",
        "\n",
        "   A class inherits from parent class which itself inherits from another class,forming a chain of inheritence.\n",
        "\n",
        "\n",
        "*   Multiple Inheritence:\n",
        "\n",
        "    A class inherits from more than one parent class,combining their features.\n",
        "\n",
        "*   Hierarchial Inheritence:\n",
        "\n",
        "   Multiple classes inherit from the same parent class,forming a hierarchy of child class.\n",
        "\n",
        "\n",
        "*   Hybrid Inheritence:\n",
        "    \n",
        "    A combination of two or more type of inheritence,such as multiple and multilevel inheritence ,forming a more complex inheritence structure.\n",
        "\n",
        "\n",
        "\n",
        "\n",
        "\n",
        "\n"
      ],
      "metadata": {
        "id": "jtnDXzTenGEj"
      }
    },
    {
      "cell_type": "code",
      "source": [
        "#Example of multiple inheritence\n",
        "class Animal:\n",
        "  def eat(self):\n",
        "    print(\"Eating..\")\n",
        "class Canine:\n",
        "  def bark(self):\n",
        "    print(\"Barking..\")\n",
        "\n",
        "class Dog(Animal,Canine):\n",
        "  pass\n",
        "dog=Dog()\n",
        "dog.eat()\n",
        "dog.bark()\n"
      ],
      "metadata": {
        "colab": {
          "base_uri": "https://localhost:8080/"
        },
        "id": "IPBA8RLIrOC4",
        "outputId": "6ed7a174-a4f8-4613-f0b0-bd1c55b6de50"
      },
      "execution_count": 21,
      "outputs": [
        {
          "output_type": "stream",
          "name": "stdout",
          "text": [
            "Eating..\n",
            "Barking..\n"
          ]
        }
      ]
    },
    {
      "cell_type": "markdown",
      "source": [
        "**Q.7. What is the Method Resolution order(MRO)in python?.How can you retrieve it programmically?**\n",
        "\n",
        "The method resolution Order(MRO) determines the order in which python looks for a method in a hierarchy of classes.This is particularly relevant in cases of multiple inheritence, ehere a class inherits from than one parent class."
      ],
      "metadata": {
        "id": "jqlGeNVtuLyP"
      }
    },
    {
      "cell_type": "code",
      "source": [
        "class A:\n",
        "  pass\n",
        "class B(A):\n",
        "  pass\n",
        "class C(A):\n",
        "  pass\n",
        "class D(A):\n",
        "  pass\n",
        "#using mro()method\n",
        "print(D.mro())\n",
        "\n",
        "#using__mro__attribute\n",
        "print(D.__mro__)"
      ],
      "metadata": {
        "colab": {
          "base_uri": "https://localhost:8080/"
        },
        "id": "tgy-K9vk-dg8",
        "outputId": "d9f65b53-1cfe-4173-db13-369f36c373b5"
      },
      "execution_count": 22,
      "outputs": [
        {
          "output_type": "stream",
          "name": "stdout",
          "text": [
            "[<class '__main__.D'>, <class '__main__.A'>, <class 'object'>]\n",
            "(<class '__main__.D'>, <class '__main__.A'>, <class 'object'>)\n"
          ]
        }
      ]
    },
    {
      "cell_type": "markdown",
      "source": [
        "**Q.8 Create an abstract base class shape with an abstract method area().Then create two subclasses circle and rectangle that implement the area() method.**\n",
        "\n"
      ],
      "metadata": {
        "id": "w2AAzhIX_ZMD"
      }
    },
    {
      "cell_type": "code",
      "source": [
        "import math\n",
        "\n",
        "# Base Shape class\n",
        "class Shape:\n",
        "    def area(self):\n",
        "        return 0\n",
        "\n",
        "# Circle class inheriting Shape\n",
        "class Circle(Shape):\n",
        "    def __init__(self, radius):\n",
        "        self.radius = radius\n",
        "\n",
        "    def area(self):\n",
        "        return math.pi * (self.radius ** 2)\n",
        "\n",
        "# Rectangle class inheriting Shape\n",
        "class Rectangle(Shape):\n",
        "    def __init__(self, width, height):\n",
        "        self.width = width\n",
        "        self.height = height\n",
        "\n",
        "    def area(self):\n",
        "        return self.width * self.height\n",
        "\n",
        "circle = Circle(6)\n",
        "rectangle = Rectangle(2, 9)\n",
        "\n",
        "print(\"Circle area:\", circle.area())\n",
        "print(\"Rectangle area:\", rectangle.area())\n",
        "print(\"Shape area:\", Shape().area())"
      ],
      "metadata": {
        "colab": {
          "base_uri": "https://localhost:8080/"
        },
        "id": "OJmjS-VCAM6U",
        "outputId": "ccb41ae1-f738-4c1f-cd20-03c1acd939a1"
      },
      "execution_count": 26,
      "outputs": [
        {
          "output_type": "stream",
          "name": "stdout",
          "text": [
            "Circle area: 113.09733552923255\n",
            "Rectangle area: 18\n",
            "Shape area: 0\n"
          ]
        }
      ]
    },
    {
      "cell_type": "markdown",
      "source": [
        "**Q.9 Demonstrate polymorphism by creating a function that can work with different shape of objects to calculate area of objects.**\n",
        "\n"
      ],
      "metadata": {
        "id": "8Wd_4cabBab3"
      }
    },
    {
      "cell_type": "code",
      "source": [
        "# Base Vehicle class\n",
        "class Vehicle:\n",
        "    def move(self):\n",
        "        pass  # Placeholder method\n",
        "\n",
        "# Car class inheriting Vehicle\n",
        "class Car(Vehicle):\n",
        "    def move(self):\n",
        "        print(\"The car is driving on the road.\")\n",
        "\n",
        "# Bicycle class inheriting Vehicle\n",
        "class Bicycle(Vehicle):\n",
        "    def move(self):\n",
        "        print(\"The bicycle is pedaling along the bike path.\")\n",
        "\n",
        "# Function to start the journey using polymorphism\n",
        "def start_journey(vehicle):\n",
        "    vehicle.move()  # Calls the move method of the given vehicle\n",
        "\n",
        "car = Car()\n",
        "bicycle = Bicycle()\n",
        "\n",
        "# Call the function with different vehicle types\n",
        "start_journey(car)      # calls Car\n",
        "start_journey(bicycle)   # calls Bicycle"
      ],
      "metadata": {
        "colab": {
          "base_uri": "https://localhost:8080/"
        },
        "id": "OP5Tie2-CVpY",
        "outputId": "e8a53cb9-5cf8-49cd-99d1-b21bbf114cb2"
      },
      "execution_count": 27,
      "outputs": [
        {
          "output_type": "stream",
          "name": "stdout",
          "text": [
            "The car is driving on the road.\n",
            "The bicycle is pedaling along the bike path.\n"
          ]
        }
      ]
    },
    {
      "cell_type": "markdown",
      "source": [
        "**Q.10 Implement encapsulation in a 'bank account' class with private attributes for 'balance' and 'account_number'include methods for withdrawl**"
      ],
      "metadata": {
        "id": "Eh7fZBoFCcTv"
      }
    },
    {
      "cell_type": "code",
      "source": [
        "class BankAccount:\n",
        "    def __init__(self, account_number, initial_balance=0):\n",
        "        self.__account_number = account_number\n",
        "        self.__balance = initial_balance\n",
        "\n",
        "    # Method to deposit money\n",
        "    def deposit(self, amount):\n",
        "        if amount > 0:\n",
        "            self.__balance += amount\n",
        "            print(f\"Deposited: {amount}\")\n",
        "        else:\n",
        "            print(\"Deposit amount must be positive.\")\n",
        "\n",
        "    # Method to withdraw money\n",
        "    def withdraw(self, amount):\n",
        "        if 0 < amount <= self.__balance:\n",
        "            self.__balance -= amount\n",
        "            print(f\"Withdrew: {amount}\")\n",
        "        else:\n",
        "            print(\"Insufficient balance or invalid amount.\")\n",
        "\n",
        "    # Method to check the balance\n",
        "    def get_balance(self):\n",
        "        return self.__balance\n",
        "\n",
        "    # Method to get account number\n",
        "    def get_account_number(self):\n",
        "        return self.__account_number\n",
        "\n",
        "# Example usage\n",
        "account = BankAccount(\"123456789\", 1000)\n",
        "\n",
        "# Perform operations\n",
        "account.deposit(500)\n",
        "account.withdraw(200)\n",
        "print(\"Current Balance:\", account.get_balance())\n",
        "print(\"Account Number:\", account.get_account_number())"
      ],
      "metadata": {
        "colab": {
          "base_uri": "https://localhost:8080/"
        },
        "id": "1870fSDCDk2i",
        "outputId": "8455352d-8ebe-45ed-d07a-680976895676"
      },
      "execution_count": 29,
      "outputs": [
        {
          "output_type": "stream",
          "name": "stdout",
          "text": [
            "Deposited: 500\n",
            "Withdrew: 200\n",
            "Current Balance: 1300\n",
            "Account Number: 123456789\n"
          ]
        }
      ]
    },
    {
      "cell_type": "markdown",
      "source": [
        "**Q.11 Write a class that overrides the __str,__and,__add magic methods.What will these methods allow you to do?**"
      ],
      "metadata": {
        "id": "oHVjt1NTD74B"
      }
    },
    {
      "cell_type": "code",
      "source": [
        "class Vector:\n",
        "    def __init__(self, x, y):\n",
        "        self.x = x\n",
        "        self.y = y\n",
        "\n",
        "    # Overriding _str_ to provide a string representation\n",
        "    def __str__(self):\n",
        "        return f\"Vector({self.x}, {self.y})\"\n",
        "\n",
        "    # Overriding _add_ to define addition for Vector objects\n",
        "    def __add__(self, other):\n",
        "        if isinstance(other, Vector):\n",
        "            return Vector(self.x + other.x, self.y + other.y)\n",
        "        return NotImplemented\n",
        "\n",
        "v1 = Vector(2, 3)\n",
        "v2 = Vector(5, 7)\n",
        "\n",
        "print(v1)  # Outputs: Vector(2, 3)\n",
        "\n",
        "# Using the __add__ method\n",
        "v3 = v1 + v2  # This will invoke the _add_ method\n",
        "print(v3)  # Outputs: Vector(7, 10)"
      ],
      "metadata": {
        "colab": {
          "base_uri": "https://localhost:8080/"
        },
        "id": "Yj59vNIdFEnb",
        "outputId": "33d1555d-55f3-4a23-aea8-9e607d7a4d59"
      },
      "execution_count": 32,
      "outputs": [
        {
          "output_type": "stream",
          "name": "stdout",
          "text": [
            "Vector(2, 3)\n",
            "Vector(7, 10)\n"
          ]
        }
      ]
    },
    {
      "cell_type": "markdown",
      "source": [
        "**Q.12 Create a decorator that measure and print execution time of function**"
      ],
      "metadata": {
        "id": "H08fAGRSFgPl"
      }
    },
    {
      "cell_type": "code",
      "source": [
        "import time\n",
        "\n",
        "def execution_time_decorator(func):\n",
        "    def wrapper(*args, **kwargs):\n",
        "        start_time = time.time()\n",
        "        result = func(*args, **kwargs)\n",
        "        end_time = time.time()\n",
        "        execution_time = end_time - start_time\n",
        "        print(f\"Execution time of {func.__name__}: {execution_time:.4f} seconds\")\n",
        "        return result\n",
        "    return wrapper\n",
        "\n",
        "# Example usage of the decorator\n",
        "\n",
        "@execution_time_decorator\n",
        "def example_function(n):\n",
        "    \"\"\"A function that sums the numbers from 1 to n.\"\"\"\n",
        "    total = sum(range(1, n + 1))\n",
        "    return total\n",
        "\n",
        "# Call the decorated function\n",
        "result = example_function(12987456)\n",
        "print(\"Result:\", result)"
      ],
      "metadata": {
        "colab": {
          "base_uri": "https://localhost:8080/"
        },
        "id": "wwdRRWYLGIN6",
        "outputId": "fe07240a-c208-4cb8-ab52-5638540a7f8d"
      },
      "execution_count": 40,
      "outputs": [
        {
          "output_type": "stream",
          "name": "stdout",
          "text": [
            "Execution time of example_function: 0.2279 seconds\n",
            "Result: 84337013169696\n"
          ]
        }
      ]
    },
    {
      "cell_type": "markdown",
      "source": [
        "**Q.13 Explain the concept of the Diamond Problem in multiple inheritance. How does Python resolve it?**\n",
        "\n",
        "\n",
        "The Diamond Problem is a common issue in object-oriented programming that arises with multiple inheritance, particularly in languages that allow a class to inherit from more than one parent class. It is called the \"diamond problem\" because the inheritance structure can be visualized as a diamond shape.\n",
        "Python uses a method resolution order (MRO) to determine the order in which classes are checked for methods and attributes. The MRO follows the C3 linearization algorithm, which ensures a consistent order of class resolution while respecting the order of inheritance.\n",
        " C3 linearization algorithm, which determines the order in which base classes are searched for methods and attributes, thus providing a clear and consistent resolution. The method from the class that appears first in the MRO will be called, eliminating ambiguity.\n",
        ""
      ],
      "metadata": {
        "id": "4g2LTierIP48"
      }
    },
    {
      "cell_type": "markdown",
      "source": [
        "**Q.14 Write a class method that keeps track of the number of instances created from the class.**"
      ],
      "metadata": {
        "id": "XA9B8cvgOEAS"
      }
    },
    {
      "cell_type": "code",
      "source": [
        "class InstanceCounter:\n",
        "    instance_count = 0  # Class-level attribute to keep track of instances\n",
        "\n",
        "    def __init__(self):\n",
        "        InstanceCounter.instance_count += 1  # Increment the count when a new instance is created\n",
        "\n",
        "    @classmethod\n",
        "    def get_instance_count(cls):\n",
        "        \"\"\"Class method to return the current instance count.\"\"\"\n",
        "        return cls.instance_count\n",
        "\n",
        "if __name__ == \"__main__\":\n",
        "    obj1 = InstanceCounter()\n",
        "    obj2 = InstanceCounter()\n",
        "\n",
        "\n",
        "    print(\"Number of instances created:\", InstanceCounter.get_instance_count())"
      ],
      "metadata": {
        "colab": {
          "base_uri": "https://localhost:8080/"
        },
        "id": "hmAPzzF_JEuK",
        "outputId": "799a5761-f698-43da-e098-0fb15540c8d8"
      },
      "execution_count": 48,
      "outputs": [
        {
          "output_type": "stream",
          "name": "stdout",
          "text": [
            "Number of instances created: 2\n"
          ]
        }
      ]
    },
    {
      "cell_type": "markdown",
      "source": [
        "**Q.15 Implement a static method in a class that checks if a given year is a leap year.**"
      ],
      "metadata": {
        "id": "f72P8lwVOqQv"
      }
    },
    {
      "cell_type": "code",
      "source": [
        "class YearChecker:\n",
        "    @staticmethod\n",
        "    def is_leap_year(year):\n",
        "        \"\"\"Static method to check if a given year is a leap year.\"\"\"\n",
        "        if (year % 4 == 0 and year % 100 != 0) or (year % 400 == 0):\n",
        "            return True\n",
        "        return False\n",
        "\n",
        "if __name__ == \"__main__\":\n",
        "    year = 2024\n",
        "    if YearChecker.is_leap_year(year):\n",
        "        print(f\"{year} is a leap year.\")\n",
        "    else:\n",
        "        print(f\"{year} is not a leap year.\")\n",
        "\n",
        "    year = 1900\n",
        "    if YearChecker.is_leap_year(year):\n",
        "        print(f\"{year} is a leap year.\")\n",
        "    else:\n",
        "        print(f\"{year} is not a leap year.\")"
      ],
      "metadata": {
        "colab": {
          "base_uri": "https://localhost:8080/"
        },
        "id": "ZWFHwCfMPCe9",
        "outputId": "632d849b-ef52-4e9c-bc63-e5c6214caafa"
      },
      "execution_count": 49,
      "outputs": [
        {
          "output_type": "stream",
          "name": "stdout",
          "text": [
            "2024 is a leap year.\n",
            "1900 is not a leap year.\n"
          ]
        }
      ]
    }
  ]
}