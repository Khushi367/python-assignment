{
  "nbformat": 4,
  "nbformat_minor": 0,
  "metadata": {
    "colab": {
      "provenance": []
    },
    "kernelspec": {
      "name": "python3",
      "display_name": "Python 3"
    },
    "language_info": {
      "name": "python"
    }
  },
  "cells": [
    {
      "cell_type": "code",
      "execution_count": null,
      "metadata": {
        "id": "phaymYGJvfBm"
      },
      "outputs": [],
      "source": []
    },
    {
      "cell_type": "markdown",
      "source": [
        "**Q1.What is a Decision Tree, and how does it work?**\n",
        "\n",
        "Ans.A Decision Tree is a supervised machine learning algorithm used for classification and regression tasks. It is a tree-like model of decisions and their possible consequences, including chance event outcomes, resource costs, and utility. Decision Trees are popular because they are simple to understand, interpret, and visualize.\n",
        "\n",
        "A Decision Tree works by splitting data into smaller subsets based on feature values. It follows a hierarchical structure consisting of:\n",
        "Root Node: The starting point of the tree, representing the entire dataset.\n",
        "Decision Nodes: Internal nodes where the data is split based on a specific feature.\n",
        "Leaf Nodes: The final nodes that provide the output (class label in classification or numerical value in regression)."
      ],
      "metadata": {
        "id": "69xaLChY3_de"
      }
    },
    {
      "cell_type": "markdown",
      "source": [
        "**Q2.What are impurity measures in Decision Trees?**\n",
        "\n",
        "Ans.Impurity measures are used to evaluate how mixed (impure) a node is in a Decision Tree. The goal of a Decision Tree is to reduce impurity at each split, leading to pure nodes where all data points belong to the same class. The most common impurity measures are:\n",
        "\n",
        "1. Gini Impurity (Used in CART Algorithm)\n",
        "Formula:\n",
        "\n",
        "Gini=1− i=1∑n pi2\n",
        "where pi is the probability of a class in a node.\n",
        "\n",
        "2. Classification Error (Misclassification Rate)\n",
        "Formula:\n",
        "\n",
        "Error=1−max(pi)\n",
        "where pi is the probability of the majority class.\n",
        "Range: 0 (pure node) to 0.5 (equal class distribution)"
      ],
      "metadata": {
        "id": "zYEUaItG4XiK"
      }
    },
    {
      "cell_type": "markdown",
      "source": [
        "**Q3.What is the mathematical formula for Gini Impurity?**\n",
        "\n",
        "Ans.Gini Impurity (Used in CART Algorithm)\n",
        "Formula:\n",
        "\n",
        "Gini=1− i=1∑n pi2\n",
        "where pi is the probability of a class in a node.\n",
        "\n",
        "The Gini Impurity measures how often a randomly chosen element from the set would be incorrectly labeled if it were randomly classified according to the distribution of labels in the set.\n",
        "A lower Gini Impurity means a purer node (closer to a single class).\n",
        "A higher Gini Impurity means a more mixed node"
      ],
      "metadata": {
        "id": "tK98FVId4i6X"
      }
    },
    {
      "cell_type": "markdown",
      "source": [
        "**Q4.What is the mathematical formula for Entropy?**\n",
        "\n",
        "Ans.\n",
        "The mathematical formula for Entropy in a Decision Tree is:\n",
        "Entropy = − i=1∑npi log2 pi\n",
        "\n",
        "where:\n",
        "n is the number of classes.\n",
        "pi is the probability of a data point belonging to class i.\n",
        "The logarithm is base 2 (log2), which measures information in bits"
      ],
      "metadata": {
        "id": "Tg7jix-e4t_D"
      }
    },
    {
      "cell_type": "markdown",
      "source": [
        "**Q5.What is Information Gain, and how is it used in Decision Trees?**\n",
        "\n",
        "Ans.Information Gain (IG) is a measure used in Decision Trees to determine the best feature to split on. It quantifies the reduction in entropy (uncertainty) after a dataset is split on a particular feature. The feature with the highest Information Gain is chosen for splitting.\n",
        "\n",
        "IG=Entropy(Parent) − j=1∑k Nj/N × Entropy(Childj)\n",
        "\n",
        "How Information Gain Works in Decision Trees\n",
        "\n",
        "1.Calculate the entropy of the parent node (before the split).\n",
        "2.Split the dataset based on a feature.\n",
        "3.Calculate entropy for each child node and compute the weighted sum of these entropies.\n",
        "4.Subtract the weighted entropy of the children from the parent entropy to get Information Gain.\n",
        "5.Choose the feature with the highest Information Gain for the split."
      ],
      "metadata": {
        "id": "DjnU4M8n45cz"
      }
    },
    {
      "cell_type": "markdown",
      "source": [
        "\n",
        "\n",
        "**6.What is the difference between Gini Impurity and Entropy?**\n",
        "\n",
        "1. Formula:\n",
        "Gini Impurity:\n",
        "\n",
        "𝐺\n",
        "𝑖\n",
        "𝑛\n",
        "𝑖\n",
        "=\n",
        "1\n",
        "−\n",
        "∑\n",
        "𝑖\n",
        "=\n",
        "1\n",
        "𝑛\n",
        "𝑝\n",
        "𝑖\n",
        "2\n",
        "Gini=1−\n",
        "i=1\n",
        "∑\n",
        "n\n",
        "​\n",
        " p\n",
        "i\n",
        "2\n",
        "​\n",
        "\n",
        "Where\n",
        "𝑝\n",
        "𝑖\n",
        "p\n",
        "i\n",
        "​\n",
        "  is the probability of class\n",
        "𝑖\n",
        "i in the dataset. The Gini Impurity takes the sum of the squared probabilities of each class and subtracts it from 1.\n",
        "\n",
        "Entropy:\n",
        "\n",
        "𝐸\n",
        "𝑛\n",
        "𝑡\n",
        "𝑟\n",
        "𝑜\n",
        "𝑝\n",
        "𝑦\n",
        "=\n",
        "−\n",
        "∑\n",
        "𝑖\n",
        "=\n",
        "1\n",
        "𝑛\n",
        "𝑝\n",
        "𝑖\n",
        "log\n",
        "⁡\n",
        "2\n",
        "𝑝\n",
        "𝑖\n",
        "Entropy=−\n",
        "i=1\n",
        "∑\n",
        "n\n",
        "​\n",
        " p\n",
        "i\n",
        "​\n",
        " log\n",
        "2\n",
        "​\n",
        " p\n",
        "i\n",
        "​\n",
        "\n",
        "Where\n",
        "𝑝\n",
        "𝑖\n",
        "p\n",
        "i\n",
        "​\n",
        "  is the probability of class\n",
        "𝑖\n",
        "i in the dataset. Entropy measures the amount of uncertainty\n",
        "\n",
        "2. Range:\n",
        "Gini Impurity: Ranges from 0 to 1. A Gini Impurity of 0 means perfect purity (all elements belong to a single class), and a value of 1 means the dataset is equally distributed across all classes.\n",
        "\n",
        "Entropy: Ranges from 0 to\n",
        "log\n",
        "⁡\n",
        "2\n",
        "(\n",
        "𝑛\n",
        ")\n",
        "log\n",
        "2\n",
        "​\n",
        " (n), where\n",
        "𝑛\n",
        "n is the number of classes in the dataset. A value of 0 means perfect purity, and higher values indicate more disorder.\n",
        "\n",
        "3. Interpretation of Values:\n",
        "Gini Impurity: Focuses more on the \"misclassification\" aspect. A lower Gini value means fewer misclassifications.\n",
        "Entropy: Measures the uncertainty or unpredictability in the dataset. Lower entropy means less uncertainty (more purity), and higher entropy means more uncertainty"
      ],
      "metadata": {
        "id": "HzFZdc8Txldk"
      }
    },
    {
      "cell_type": "markdown",
      "source": [
        "**7.What is the mathematical explanation behind Decision Tree**\n",
        "\n",
        "1. Mathematical Calculation for Information Gain (Entropy):\n",
        "\n",
        "Information Gain (IG) measures the reduction in uncertainty from a split. It is defined as the difference between the entropy of the original set and the weighted sum of the entropy of the subsets after the split.\n",
        "\n",
        "The formula for Information Gain is:\n",
        "\n",
        "𝐼\n",
        "𝐺\n",
        "(\n",
        "𝐷\n",
        ",\n",
        "𝐴\n",
        ")\n",
        "=\n",
        "𝐸\n",
        "𝑛\n",
        "𝑡\n",
        "𝑟\n",
        "𝑜\n",
        "𝑝\n",
        "𝑦\n",
        "(\n",
        "𝐷\n",
        ")\n",
        "−\n",
        "∑\n",
        "𝑣\n",
        "∈\n",
        "𝑉\n",
        "𝑎\n",
        "𝑙\n",
        "𝑢\n",
        "𝑒\n",
        "𝑠\n",
        "(\n",
        "𝐴\n",
        ")\n",
        "∣\n",
        "𝐷\n",
        "𝑣\n",
        "∣\n",
        "∣\n",
        "𝐷\n",
        "∣\n",
        "⋅\n",
        "𝐸\n",
        "𝑛\n",
        "𝑡\n",
        "𝑟\n",
        "𝑜\n",
        "𝑝\n",
        "𝑦\n",
        "(\n",
        "𝐷\n",
        "𝑣\n",
        ")\n",
        "IG(D,A)=Entropy(D)−\n",
        "v∈Values(A)\n",
        "∑\n",
        "​\n",
        "  \n",
        "∣D∣\n",
        "∣D\n",
        "v\n",
        "​\n",
        " ∣\n",
        "​\n",
        " ⋅Entropy(D\n",
        "v\n",
        "​\n",
        " )\n",
        "\n",
        " 2. Stopping Criteria:\n",
        "\n",
        "Max Depth: The tree can be limited by the maximum depth, meaning the number of splits it can make.\n",
        "Min Samples Split: A minimum number of data points required in a node to continue splitting.\n",
        "Pure Node: If the node reaches perfect purity (all data points belong to the same class), no further splitting occurs.\n",
        "Min Samples Leaf: A minimum number of samples required in a leaf node (final nodes of the tree)."
      ],
      "metadata": {
        "id": "cNJ3HkmTy6SC"
      }
    },
    {
      "cell_type": "markdown",
      "source": [
        "**8.What is Pre-Pruning in Decision Trees**\n",
        "\n",
        "Pre-Pruning (also known as Early Stopping) in decision trees is a technique used to prevent overfitting by stopping the tree construction process before it becomes too complex. Essentially, it involves setting conditions that limit the growth of the tree during the training phase.\n",
        "\n",
        "Key Concepts of Pre-Pruning:\n",
        "\n",
        "Pre-pruning involves placing constraints on the tree as it is being built. Some of these constraints include:\n",
        "\n",
        "Maximum Depth:\n",
        "\n",
        "The maximum number of levels or layers the tree can have. Limiting the depth prevents the tree from growing too large and capturing unnecessary details that may not generalize well.\n",
        "For example, if the maximum depth is set to 3, the tree will only have 3 layers of splits, no matter how much the data could potentially benefit from further splits.\n",
        "\n",
        "Advantages of Pre-Pruning\n",
        "\n",
        "Reduces Overfitting by preventing the tree from capturing noise.\n",
        "\n",
        "Improves Generalization by ensuring the model works well on new data.\n",
        "\n",
        "Reduces Computation by limiting the number of splits, making the tree more efficient.\n",
        "\n",
        "Disadvantages of Pre-Pruning\n",
        "\n",
        "Risk of Underfitting if the stopping criteria are too strict.\n",
        "\n",
        "Difficult to Tune as selecting optimal thresholds requires experimentation."
      ],
      "metadata": {
        "id": "U4HJLg5w0fIQ"
      }
    },
    {
      "cell_type": "markdown",
      "source": [
        "**9.What is Post-Pruning in Decision Trees**\n",
        "\n",
        "Post-Pruning in Decision Trees\n",
        "\n",
        "Post-pruning (also called \"pruning after training\" or \"cost complexity pruning\") is a technique used to reduce the size of a fully grown decision tree by removing less significant branches. This helps improve generalization and prevents overfitting\n",
        "\n",
        "Advantages of Post-Pruning\n",
        "\n",
        "1.Reduces Overfitting – By eliminating unnecessary branches, the model generalizes better.\n",
        "\n",
        "2.Improves Interpretability – A smaller tree is easier to understand and visualize.\n",
        "\n",
        "3.Enhances Accuracy on New Data – Helps the model perform better on unseen examples.\n",
        "\n",
        "Disadvantages of Post-Pruning\n",
        "\n",
        "1. Requires Extra Computation – The pruning process adds an extra step after training.\n",
        "\n",
        "2. Risk of Removing Important Splits – If not done correctly, pruning may remove useful pattern\n"
      ],
      "metadata": {
        "id": "72IMmkIK1upZ"
      }
    },
    {
      "cell_type": "markdown",
      "source": [
        "**10.What is the difference between Pre-Pruning and Post-Pruning**\n",
        "\n",
        "Difference Between Pre-Pruning and Post-Pruning in Decision Trees\n",
        "\n",
        "1. Definition:\n",
        "Pre-pruning stops the tree from growing too large by applying constraints during training. In contrast, post-pruning allows the tree to grow fully first and then removes unnecessary branches after training.\n",
        "\n",
        "2. When Applied:\n",
        "Pre-pruning is done while the tree is being constructed, meaning it stops further splitting based on predefined conditions. Post-pruning is done after the tree has been fully built, by analyzing and trimming parts of the tree that do not contribute to better generalization.\n",
        "\n",
        "3. How it Works:\n",
        "Pre-pruning sets conditions such as maximum depth, minimum samples per node, or a threshold for information gain to decide whether a split should occur. If a split does not meet the criteria, it is prevented. Post-pruning first builds the tree completely and then removes less significant branches by evaluating their impact on accuracy using techniques like cost-complexity pruning or reduced-error pruning.\n",
        "\n",
        "4. Risk Factor:\n",
        "Pre-pruning risks underfitting if it stops the tree too early, leading to missed important patterns. Post-pruning, on the other hand, initially allows the tree to overfit before pruning it back to improve generalization.\n",
        "\n",
        "5. Computation Cost:\n",
        "Pre-pruning is computationally cheaper since it stops tree growth early. Post-pruning requires more computation because it involves growing the full tree first and then evaluating and trimming branches.\n",
        "\n",
        "6. Impact on Accuracy:\n",
        "Pre-pruning can sometimes limit model complexity too much, reducing its ability to learn from data effectively. Post-pruning usually provides a better balance between complexity and accuracy, as it first captures all possible patterns before deciding which ones to remove."
      ],
      "metadata": {
        "id": "1mdUzu-23ZHC"
      }
    },
    {
      "cell_type": "markdown",
      "source": [
        "Q11.What is a Decision Tree Regressor?\n",
        "Ans.A Decision Tree Regressor is a type of Decision Tree used for regression tasks. Unlike classification trees that predict discrete labels, a Decision Tree Regressor predicts continuous numerical values. It works by recursively splitting the data into smaller regions and fitting a constant value (mean or median) to each region.\n",
        "How Does a Decision Tree Regressor Work?\n",
        "1.Start with the entire dataset as the root node.\n",
        "2.Find the best feature to split the data, using a criterion like:\n",
        "*Mean Squared Error (MSE)\n",
        "*Mean Absolute Error (MAE)\n",
        "*Poisson Deviance\n",
        "3.Split the dataset at the chosen feature and threshold to minimize error.\n",
        "4.Repeat recursively until a stopping condition is met (e.g., max depth, minimum samples per leaf).\n",
        "5.Make predictions by assigning the mean or median value of data points in each leaf node."
      ],
      "metadata": {
        "id": "X8E9SqX650ns"
      }
    },
    {
      "cell_type": "markdown",
      "source": [
        "**Q12.What are the advantages and disadvantages of Decision Trees\t?**\n",
        "\n",
        "Ans.\n",
        "Advantages of Decision Trees\n",
        "\n",
        "1. Easy to Understand & Interpret\n",
        "Decision Trees mimic human decision-making, making them intuitive and easy to explain.\n",
        "Can be visualized in a tree structure.\n",
        "2. Handles Both Numerical & Categorical Data\n",
        "Works well with continuous (e.g., age, salary) and categorical (e.g., gender, yes/no) data.\n",
        "3. No Need for Feature Scaling\n",
        "Unlike SVMs or neural networks, Decision Trees don’t require normalization or standardization.\n",
        "4. Handles Missing Values\n",
        "Can handle missing data by using surrogate splits.\n",
        "\n",
        "Disadvantages of Decision Trees\n",
        "\n",
        "1. Prone to Overfitting\n",
        "Deep trees can memorize training data, leading to poor generalization on new data.\n",
        "Solution: Use pruning or ensemble methods (Random Forest, Gradient Boosting).\n",
        "2. Unstable (Sensitive to Small Changes in Data)\n",
        "A slight change in data can drastically change the tree structure.\n",
        "Solution: Use ensemble methods like Random Forest, which averages multiple trees.\n",
        "3. Biased with Imbalanced Data\n",
        "If certain classes dominate, the tree may favor them.\n",
        "Solution: Balance classes using resampling techniques."
      ],
      "metadata": {
        "id": "nFiG_BVK6S1R"
      }
    },
    {
      "cell_type": "markdown",
      "source": [
        "\n",
        "**13.How does a Decision Tree handle missing values**\n",
        "\n",
        "1. Ignoring Missing Values (Default in Some Implementations)\n",
        "Some decision tree algorithms, like CART (Classification and Regression Trees), can handle missing values internally.\n",
        "Instead of discarding data points with missing values, they use surrogate splits (alternative splits) based on other available features.\n",
        "2. Using Surrogate Splits\n",
        "If a feature used for splitting is missing in a data point, the tree finds a backup feature (surrogate) that gives a similar split.\n",
        "The model learns these surrogate splits during training by identifying features that closely mimic the original split.\n",
        "This method helps retain data instead of dropping missing values.\n",
        "3. Assigning the Most Frequent (or Mean/Median) Value\n",
        "For categorical features, missing values are often replaced with the most frequent category in that column.\n",
        "For numerical features, they can be replaced with the mean or median of that column.\n",
        "This is a simple but effective approach when missing values are minimal.\n",
        "4. Using Probabilistic Splitting\n",
        "Instead of assigning a single value, the model can distribute missing values proportionally based on the existing data distribution.\n",
        "If a feature is missing, the data point is assigned to different branches based on the probability of each possible value.\n",
        "5. Dropping Missing Data (Less Common)\n",
        "In some cases, when missing values are too frequent, dropping rows with missing values might be necessary.\n",
        "However, this can lead to significant data loss and is not recommended unless missing values are excessive.\n"
      ],
      "metadata": {
        "id": "Bhuy5pbK81to"
      }
    },
    {
      "cell_type": "markdown",
      "source": [
        "**14.How does a Decision Tree handle categorical features**\n",
        "\n",
        "1. One-Hot Encoding (for Nominal Categories)\n",
        "\n",
        "When dealing with categorical variables that have no inherent order (e.g., \"Red,\" \"Blue,\" \"Green\"), one common approach is one-hot encoding.\n",
        "This converts each category into a separate binary column (0 or 1).\n",
        "\n",
        "ex:\n",
        "Color: {Red, Blue, Green}  \n",
        "→ Color_Red, Color_Blue, Color_Green\n",
        "\n",
        " 2.Ordinal Encoding (for Ordered Categories)\n",
        "\n",
        "If the categories have a meaningful order (e.g., \"Low,\" \"Medium,\" \"High\"), we can assign numeric values:\n",
        "scss\n",
        "Copy\n",
        "Edit\n",
        "Low → 1, Medium → 2, High → 3  \n",
        "The tree can then use these numerical values for splitting, similar to numerical features.\n",
        "However, if the order is not truly numeric, this can lead to misleading splits.\n",
        "\n",
        "3. Direct Splitting on Categorical Features\n",
        "\n",
        "Some decision tree implementations, such as CART (used in scikit-learn), do not natively support categorical splits. Instead, categorical features need to be encoded.\n",
        "However, other algorithms like C4.5 or CHAID can split directly on categorical values.\n",
        "The tree creates branches for each category, splitting the dataset accordingly.\n"
      ],
      "metadata": {
        "id": "AMBdDBWF9Tt7"
      }
    },
    {
      "cell_type": "markdown",
      "source": [
        "**Q15.What are some real-world applications of Decision Trees?**\n",
        "\n",
        "Ans.\n",
        "1. Healthcare & Medical Diagnosis :\n",
        "Disease Diagnosis:\n",
        "Used to classify diseases based on symptoms (e.g., diagnosing diabetes, cancer, or heart disease).\n",
        "Example: A Decision Tree can predict whether a patient has COVID-19 based on fever, cough, and other symptoms.\n",
        "\n",
        "Medical Treatment Plans:\n",
        "Helps doctors decide which treatment to prescribe based on a patient’s medical history.\n",
        "2. Banking & Finance :\n",
        "Credit Risk Assessment:\n",
        "Banks use Decision Trees to determine whether to approve a loan based on income, credit score, and past defaults.\n",
        "\n",
        "Fraud Detection:\n",
        "Identifies fraudulent transactions by analyzing spending patterns.\n",
        "\n",
        "Stock Market Prediction:\n",
        "Helps predict stock price movements using historical data."
      ],
      "metadata": {
        "id": "1qtkvrfL-jLE"
      }
    },
    {
      "cell_type": "markdown",
      "source": [
        "**16.Write a Python program to train a Decision Tree Classifier on the Iris dataset and print the model accuracy**"
      ],
      "metadata": {
        "id": "bQaCY2g3TXmD"
      }
    },
    {
      "cell_type": "code",
      "source": [
        "# Import necessary libraries\n",
        "from sklearn.datasets import load_iris\n",
        "from sklearn.model_selection import train_test_split\n",
        "from sklearn.tree import DecisionTreeClassifier\n",
        "from sklearn.metrics import accuracy_score\n",
        "\n",
        "# Step 1: Load the Iris dataset\n",
        "iris = load_iris()\n",
        "X = iris.data\n",
        "y = iris.target\n",
        "X_train, X_test, y_train, y_test = train_test_split(X, y, test_size=0.2, random_state=42)\n",
        "clf = DecisionTreeClassifier()\n",
        "clf.fit(X_train, y_train)\n",
        "y_pred = clf.predict(X_test)\n",
        "accuracy = accuracy_score(y_test, y_pred)\n",
        "print(f\"Model Accuracy: {accuracy:.2f}\")"
      ],
      "metadata": {
        "colab": {
          "base_uri": "https://localhost:8080/"
        },
        "id": "Zo8h4i6xTjrS",
        "outputId": "1ee39606-0ad9-4a0a-e9dc-329de0f637cf"
      },
      "execution_count": 12,
      "outputs": [
        {
          "output_type": "stream",
          "name": "stdout",
          "text": [
            "Model Accuracy: 1.00\n"
          ]
        }
      ]
    },
    {
      "cell_type": "markdown",
      "source": [
        "**17.Write a Python program to train a Decision Tree Classifier using Gini Impurity as the criterion and print the\n",
        "feature importances**"
      ],
      "metadata": {
        "id": "-nNOUOU7TqFW"
      }
    },
    {
      "cell_type": "code",
      "source": [
        "# Import necessary libraries\n",
        "from sklearn.datasets import load_iris\n",
        "from sklearn.model_selection import train_test_split\n",
        "from sklearn.tree import DecisionTreeClassifier\n",
        "\n",
        "# Step 1: Load the Iris dataset\n",
        "iris = load_iris()\n",
        "X = iris.data  # Features (Sepal length, Sepal width, Petal length, Petal width)\n",
        "y = iris.target  # Labels (Setosa, Versicolor, Virginica)\n",
        "X_train, X_test, y_train, y_test = train_test_split(X, y, test_size=0.2, random_state=42)\n",
        "clf = DecisionTreeClassifier(criterion='gini', random_state=42)\n",
        "clf.fit(X_train, y_train)\n",
        "\n",
        "# Step 4: Print Feature Importances\n",
        "print(\"Feature Importances:\")\n",
        "for feature, importance in zip(iris.feature_names, clf.feature_importances_):\n",
        "    print(f\"{feature}: {importance:.4f}\")"
      ],
      "metadata": {
        "colab": {
          "base_uri": "https://localhost:8080/"
        },
        "id": "atFjn14aUcx7",
        "outputId": "8701350a-4d64-41ab-d5c9-25b14fd7e90a"
      },
      "execution_count": 14,
      "outputs": [
        {
          "output_type": "stream",
          "name": "stdout",
          "text": [
            "Feature Importances:\n",
            "sepal length (cm): 0.0000\n",
            "sepal width (cm): 0.0167\n",
            "petal length (cm): 0.9061\n",
            "petal width (cm): 0.0772\n"
          ]
        }
      ]
    },
    {
      "cell_type": "markdown",
      "source": [],
      "metadata": {
        "id": "UV5H9TOFUiDT"
      }
    },
    {
      "cell_type": "code",
      "source": [
        "#Q18. Write a Python program to train a Decision Tree Classifier using Entropy as the splitting criterion and print the model accuracy\n",
        "\n",
        "from sklearn.datasets import load_iris\n",
        "from sklearn.model_selection import train_test_split\n",
        "from sklearn.tree import DecisionTreeClassifier\n",
        "from sklearn.metrics import accuracy_score\n",
        "\n",
        "# Load the Iris dataset\n",
        "data = load_iris()\n",
        "X, y = data.data, data.target\n",
        "\n",
        "# Splitting the data into training and testing sets\n",
        "X_train, X_test, y_train, y_test = train_test_split(X, y, test_size=0.2, random_state=42)\n",
        "\n",
        "# Creating a Decision Tree Classifier with entropy as the criterion\n",
        "clf = DecisionTreeClassifier(criterion='entropy', random_state=42)\n",
        "clf.fit(X_train, y_train)\n",
        "y_pred = clf.predict(X_test)\n",
        "\n",
        "# Calculate and printing model accuracy\n",
        "accuracy = accuracy_score(y_test, y_pred)\n",
        "print(f'Model Accuracy: {accuracy:.2f}')"
      ],
      "metadata": {
        "colab": {
          "base_uri": "https://localhost:8080/"
        },
        "id": "VRYKVJKeUtEJ",
        "outputId": "31970cd9-0574-4169-96b9-b019e7a367eb"
      },
      "execution_count": 15,
      "outputs": [
        {
          "output_type": "stream",
          "name": "stdout",
          "text": [
            "Model Accuracy: 1.00\n"
          ]
        }
      ]
    },
    {
      "cell_type": "code",
      "source": [
        "#Q19.Write a Python program to train a Decision Tree Regressor on a housing dataset and evaluate using Mean Squared Error (MSE)\n",
        "\n",
        "from sklearn.datasets import fetch_california_housing\n",
        "from sklearn.model_selection import train_test_split\n",
        "from sklearn.tree import DecisionTreeRegressor\n",
        "from sklearn.metrics import mean_squared_error\n",
        "\n",
        "# Load the California housing dataset\n",
        "data = fetch_california_housing()\n",
        "X, y = data.data, data.target\n",
        "X_train, X_test, y_train, y_test = train_test_split(X, y, test_size=0.2, random_state=42)\n",
        "\n",
        "# Creating a Decision Tree Regressor\n",
        "regressor = DecisionTreeRegressor(random_state=42)\n",
        "regressor.fit(X_train, y_train)\n",
        "y_pred = regressor.predict(X_test)\n",
        "\n",
        "# Calculate and printing Mean Squared Error (MSE)\n",
        "mse = mean_squared_error(y_test, y_pred)\n",
        "print(f'Mean Squared Error: {mse:.2f}')"
      ],
      "metadata": {
        "colab": {
          "base_uri": "https://localhost:8080/"
        },
        "id": "cqADjFdYUyCh",
        "outputId": "ae4a55b3-0d53-41fb-bd30-bed071945036"
      },
      "execution_count": 16,
      "outputs": [
        {
          "output_type": "stream",
          "name": "stdout",
          "text": [
            "Mean Squared Error: 0.50\n"
          ]
        }
      ]
    },
    {
      "cell_type": "code",
      "source": [
        "#Q21.Write a Python program to train a Decision Tree Classifier with a maximum depth of 3 and compare its accuracy with a fully grown tree\n",
        "\n",
        "from sklearn.datasets import load_iris\n",
        "from sklearn.model_selection import train_test_split\n",
        "from sklearn.tree import DecisionTreeClassifier\n",
        "from sklearn.metrics import accuracy_score\n",
        "\n",
        "# Load the Iris dataset\n",
        "data = load_iris()\n",
        "X, y = data.data, data.target\n",
        "X_train, X_test, y_train, y_test = train_test_split(X, y, test_size=0.2, random_state=42)\n",
        "clf_limited = DecisionTreeClassifier(max_depth=3, random_state=42)\n",
        "clf_limited.fit(X_train, y_train)\n",
        "y_pred_limited = clf_limited.predict(X_test)\n",
        "accuracy_limited = accuracy_score(y_test, y_pred_limited)\n",
        "clf_full = DecisionTreeClassifier(random_state=42)\n",
        "clf_full.fit(X_train, y_train)\n",
        "y_pred_full = clf_full.predict(X_test)\n",
        "accuracy_full = accuracy_score(y_test, y_pred_full)\n",
        "print(f'Accuracy with max depth 3: {accuracy_limited:.2f}')\n",
        "print(f'Accuracy with fully grown tree: {accuracy_full:.2f}')"
      ],
      "metadata": {
        "colab": {
          "base_uri": "https://localhost:8080/"
        },
        "id": "AsOhe8p6U3ne",
        "outputId": "9d648ff6-8e11-4543-c42d-33546f5bd47d"
      },
      "execution_count": 17,
      "outputs": [
        {
          "output_type": "stream",
          "name": "stdout",
          "text": [
            "Accuracy with max depth 3: 1.00\n",
            "Accuracy with fully grown tree: 1.00\n"
          ]
        }
      ]
    },
    {
      "cell_type": "markdown",
      "source": [
        "**22. Write a Python program to train a Decision Tree Classifier using min_samples_split=5 and compare its\n",
        "accuracy with a default tree.**\n",
        "\n"
      ],
      "metadata": {
        "id": "eioVaHm2K0QG"
      }
    },
    {
      "cell_type": "code",
      "source": [
        "import numpy as np\n",
        "import pandas as pd\n",
        "from sklearn.datasets import load_iris\n",
        "from sklearn.model_selection import train_test_split\n",
        "from sklearn.tree import DecisionTreeClassifier\n",
        "from sklearn.metrics import accuracy_score\n",
        "\n",
        "# Load dataset (Iris dataset)\n",
        "iris = load_iris()\n",
        "X, y = iris.data, iris.target\n",
        "\n",
        "# Split into training and testing data (80% train, 20% test)\n",
        "X_train, X_test, y_train, y_test = train_test_split(X, y, test_size=0.2, random_state=42)\n",
        "\n",
        "# Train Decision Tree with default parameters\n",
        "default_tree = DecisionTreeClassifier(random_state=42)\n",
        "default_tree.fit(X_train, y_train)\n",
        "\n",
        "# Train Decision Tree with min_samples_split=5\n",
        "pruned_tree = DecisionTreeClassifier(min_samples_split=5, random_state=42)\n",
        "pruned_tree.fit(X_train, y_train)\n",
        "\n",
        "# Predict on test data\n",
        "default_pred = default_tree.predict(X_test)\n",
        "pruned_pred = pruned_tree.predict(X_test)\n",
        "\n",
        "# Compute accuracy\n",
        "default_acc = accuracy_score(y_test, default_pred)\n",
        "pruned_acc = accuracy_score(y_test, pruned_pred)\n",
        "\n",
        "# Print results\n",
        "print(f\"Accuracy of Default Decision Tree: {default_acc:.4f}\")\n",
        "print(f\"Accuracy of Pruned Decision Tree (min_samples_split=5): {pruned_acc:.4f}\")\n",
        "\n",
        "# Compare Results\n",
        "if pruned_acc > default_acc:\n",
        "    print(\"Pruned tree performed better!\")\n",
        "elif pruned_acc < default_acc:\n",
        "    print(\"Default tree performed better!\")\n",
        "else:\n",
        "    print(\"Both trees have the same accuracy.\")mp\n"
      ],
      "metadata": {
        "colab": {
          "base_uri": "https://localhost:8080/"
        },
        "id": "Bol3kU8HLlab",
        "outputId": "250dbcaa-9770-4f45-ef97-d76411f41020"
      },
      "execution_count": 1,
      "outputs": [
        {
          "output_type": "stream",
          "name": "stdout",
          "text": [
            "Accuracy of Default Decision Tree: 1.0000\n",
            "Accuracy of Pruned Decision Tree (min_samples_split=5): 1.0000\n",
            "Both trees have the same accuracy.\n"
          ]
        }
      ]
    },
    {
      "cell_type": "markdown",
      "source": [
        "**23.Write a Python program to apply feature scaling before training a Decision Tree Classifier and compare its\n",
        "accuracy with unscaled data**"
      ],
      "metadata": {
        "id": "FNOpVZqzMYYt"
      }
    },
    {
      "cell_type": "code",
      "source": [
        "import numpy as np\n",
        "import pandas as pd\n",
        "from sklearn.datasets import load_iris\n",
        "from sklearn.model_selection import train_test_split\n",
        "from sklearn.tree import DecisionTreeClassifier\n",
        "from sklearn.preprocessing import StandardScaler\n",
        "from sklearn.metrics import accuracy_score\n",
        "\n",
        "# Load dataset (Iris dataset)\n",
        "iris = load_iris()\n",
        "X, y = iris.data, iris.target\n",
        "\n",
        "# Split into training and testing sets (80% train, 20% test)\n",
        "X_train, X_test, y_train, y_test = train_test_split(X, y, test_size=0.2, random_state=42)\n",
        "\n",
        "# Train Decision Tree on Unscaled Data\n",
        "tree_unscaled = DecisionTreeClassifier(random_state=42)\n",
        "tree_unscaled.fit(X_train, y_train)\n",
        "unscaled_pred = tree_unscaled.predict(X_test)\n",
        "unscaled_acc = accuracy_score(y_test, unscaled_pred)\n",
        "\n",
        "# Apply Feature Scaling (Standardization)\n",
        "scaler = StandardScaler()\n",
        "X_train_scaled = scaler.fit_transform(X_train)\n",
        "X_test_scaled = scaler.transform(X_test)\n",
        "\n",
        "# Train Decision Tree on Scaled Data\n",
        "tree_scaled = DecisionTreeClassifier(random_state=42)\n",
        "tree_scaled.fit(X_train_scaled, y_train)\n",
        "scaled_pred = tree_scaled.predict(X_test_scaled)\n",
        "scaled_acc = accuracy_score(y_test, scaled_pred)\n",
        "\n",
        "# Print results\n",
        "print(f\"Accuracy of Decision Tree (Unscaled Data): {unscaled_acc:.4f}\")\n",
        "print(f\"Accuracy of Decision Tree (Scaled Data): {scaled_acc:.4f}\")\n",
        "\n",
        "# Compare Results\n",
        "if scaled_acc > unscaled_acc:\n",
        "    print(\"Feature scaling improved accuracy!\")\n",
        "elif scaled_acc < unscaled_acc:\n",
        "    print(\"Unscaled data performed better!\")\n",
        "else:\n",
        "    print(\"Both models performed equally well.\")\n"
      ],
      "metadata": {
        "colab": {
          "base_uri": "https://localhost:8080/"
        },
        "id": "2OTfS15WM1Hn",
        "outputId": "f0b3343e-dde5-4861-c9f2-d36dce22d801"
      },
      "execution_count": 5,
      "outputs": [
        {
          "output_type": "stream",
          "name": "stdout",
          "text": [
            "Accuracy of Decision Tree (Unscaled Data): 1.0000\n",
            "Accuracy of Decision Tree (Scaled Data): 1.0000\n",
            "Both models performed equally well.\n"
          ]
        }
      ]
    },
    {
      "cell_type": "markdown",
      "source": [
        "**24.Write a Python program to train a Decision Tree Classifier using One-vs-Rest (OvR) strategy for multiclass\n",
        "classification**"
      ],
      "metadata": {
        "id": "iyTCd2LxM4bf"
      }
    },
    {
      "cell_type": "code",
      "source": [
        "import numpy as np\n",
        "import pandas as pd\n",
        "from sklearn.datasets import load_iris\n",
        "from sklearn.model_selection import train_test_split\n",
        "from sklearn.tree import DecisionTreeClassifier\n",
        "from sklearn.multiclass import OneVsRestClassifier\n",
        "from sklearn.metrics import accuracy_score\n",
        "\n",
        "# Load dataset (Iris dataset with 3 classes)\n",
        "iris = load_iris()\n",
        "X, y = iris.data, iris.target\n",
        "\n",
        "# Split into training and testing sets (80% train, 20% test)\n",
        "X_train, X_test, y_train, y_test = train_test_split(X, y, test_size=0.2, random_state=42)\n",
        "\n",
        "# Train a One-vs-Rest (OvR) Decision Tree Classifier\n",
        "ovr_classifier = OneVsRestClassifier(DecisionTreeClassifier(random_state=42))\n",
        "ovr_classifier.fit(X_train, y_train)\n",
        "\n",
        "# Predict on test data\n",
        "ovr_pred = ovr_classifier.predict(X_test)\n",
        "\n",
        "# Compute accuracy\n",
        "ovr_acc = accuracy_score(y_test, ovr_pred)\n",
        "\n",
        "# Train a Regular Decision Tree Classifier (for comparison)\n",
        "default_tree = DecisionTreeClassifier(random_state=42)\n",
        "default_tree.fit(X_train, y_train)\n",
        "default_pred = default_tree.predict(X_test)\n",
        "default_acc = accuracy_score(y_test, default_pred)\n",
        "\n",
        "# Print results\n",
        "print(f\"Accuracy of One-vs-Rest Decision Tree: {ovr_acc:.4f}\")\n",
        "print(f\"Accuracy of Regular Decision Tree: {default_acc:.4f}\")\n",
        "\n",
        "# Compare Results\n",
        "if ovr_acc > default_acc:\n",
        "    print(\"One-vs-Rest model performed better!\")\n",
        "elif ovr_acc < default_acc:\n",
        "    print(\"Regular Decision Tree performed better!\")\n",
        "else:\n",
        "    print(\"Both models have the same accuracy.\")\n"
      ],
      "metadata": {
        "colab": {
          "base_uri": "https://localhost:8080/"
        },
        "id": "3LDUWwxPNPD3",
        "outputId": "37831281-6456-4439-b27e-1788a4cb7026"
      },
      "execution_count": 6,
      "outputs": [
        {
          "output_type": "stream",
          "name": "stdout",
          "text": [
            "Accuracy of One-vs-Rest Decision Tree: 1.0000\n",
            "Accuracy of Regular Decision Tree: 1.0000\n",
            "Both models have the same accuracy.\n"
          ]
        }
      ]
    },
    {
      "cell_type": "markdown",
      "source": [
        "**25. Write a Python program to train a Decision Tree Classifier and display the feature importance scores**\n"
      ],
      "metadata": {
        "id": "VwGC4ihnNl3Z"
      }
    },
    {
      "cell_type": "code",
      "source": [
        "import numpy as np\n",
        "import pandas as pd\n",
        "import matplotlib.pyplot as plt\n",
        "from sklearn.datasets import load_iris\n",
        "from sklearn.model_selection import train_test_split\n",
        "from sklearn.tree import DecisionTreeClassifier\n",
        "\n",
        "# Load dataset (Iris dataset)\n",
        "iris = load_iris()\n",
        "X, y = iris.data, iris.target\n",
        "feature_names = iris.feature_names  # Feature names\n",
        "\n",
        "# Split into training and testing data (80% train, 20% test)\n",
        "X_train, X_test, y_train, y_test = train_test_split(X, y, test_size=0.2, random_state=42)\n",
        "\n",
        "# Train Decision Tree Classifier\n",
        "tree = DecisionTreeClassifier(random_state=42)\n",
        "tree.fit(X_train, y_train)\n",
        "\n",
        "# Get Feature Importance Scores\n",
        "feature_importance = tree.feature_importances_\n",
        "\n",
        "# Display feature importance\n",
        "print(\"Feature Importance Scores:\")\n",
        "for feature, importance in zip(feature_names, feature_importance):\n",
        "    print(f\"{feature}: {importance:.4f}\")\n",
        "\n",
        "# Plot feature importance\n",
        "plt.figure(figsize=(8, 5))\n",
        "plt.barh(feature_names, feature_importance, color='skyblue')\n",
        "plt.xlabel(\"Importance Score\")\n",
        "plt.ylabel(\"Feature\")\n",
        "plt.title(\"Feature Importance in Decision Tree Classifier\")\n",
        "plt.show()\n"
      ],
      "metadata": {
        "colab": {
          "base_uri": "https://localhost:8080/",
          "height": 578
        },
        "id": "xISVIgkZOKN-",
        "outputId": "4f5b5ee7-2475-4f2a-f348-1997928cc187"
      },
      "execution_count": 7,
      "outputs": [
        {
          "output_type": "stream",
          "name": "stdout",
          "text": [
            "Feature Importance Scores:\n",
            "sepal length (cm): 0.0000\n",
            "sepal width (cm): 0.0167\n",
            "petal length (cm): 0.9061\n",
            "petal width (cm): 0.0772\n"
          ]
        },
        {
          "output_type": "display_data",
          "data": {
            "text/plain": [
              "<Figure size 800x500 with 1 Axes>"
            ],
            "image/png": "[encoded data removed]"
          },
          "metadata": {}
        }
      ]
    },
    {
      "cell_type": "markdown",
      "source": [
        "**26.Write a Python program to train a Decision Tree Regressor with max_depth=5 and compare its performance\n",
        "with an unrestricted tree**"
      ],
      "metadata": {
        "id": "AMd9V45VOR39"
      }
    },
    {
      "cell_type": "code",
      "source": [
        "import numpy as np\n",
        "import pandas as pd\n",
        "import matplotlib.pyplot as plt\n",
        "from sklearn.datasets import fetch_california_housing\n",
        "from sklearn.model_selection import train_test_split\n",
        "from sklearn.tree import DecisionTreeRegressor\n",
        "from sklearn.metrics import mean_squared_error\n",
        "\n",
        "# Load dataset (California Housing dataset)\n",
        "data = fetch_california_housing()\n",
        "X, y = data.data, data.target  # Features and target\n",
        "feature_names = data.feature_names  # Feature names\n",
        "\n",
        "# Split into training (80%) and testing (20%) data\n",
        "X_train, X_test, y_train, y_test = train_test_split(X, y, test_size=0.2, random_state=42)\n",
        "\n",
        "# Train Decision Tree Regressor with max_depth=5\n",
        "tree_limited = DecisionTreeRegressor(max_depth=5, random_state=42)\n",
        "tree_limited.fit(X_train, y_train)\n",
        "limited_pred = tree_limited.predict(X_test)\n",
        "mse_limited = mean_squared_error(y_test, limited_pred)\n",
        "\n",
        "# Train Unrestricted Decision Tree Regressor\n",
        "tree_unrestricted = DecisionTreeRegressor(random_state=42)  # No depth limit\n",
        "tree_unrestricted.fit(X_train, y_train)\n",
        "unrestricted_pred = tree_unrestricted.predict(X_test)\n",
        "mse_unrestricted = mean_squared_error(y_test, unrestricted_pred)\n",
        "\n",
        "# Print results\n",
        "print(f\"Mean Squared Error (MSE) - Decision Tree (max_depth=5): {mse_limited:.4f}\")\n",
        "print(f\"Mean Squared Error (MSE) - Unrestricted Decision Tree: {mse_unrestricted:.4f}\")\n",
        "\n",
        "# Compare Performance\n",
        "if mse_limited < mse_unrestricted:\n",
        "    print(\"Limited-depth tree generalizes better (lower MSE).\")\n",
        "elif mse_limited > mse_unrestricted:\n",
        "    print(\"Unrestricted tree fits better on test data (lower MSE).\")\n",
        "else:\n",
        "    print(\"Both models perform equally.\")\n",
        "\n",
        "# Plot Feature Importance\n",
        "feature_importance = tree_limited.feature_importances_\n",
        "plt.figure(figsize=(8, 5))\n",
        "plt.barh(feature_names, feature_importance, color='lightcoral')\n",
        "plt.xlabel(\"Importance Score\")\n",
        "plt.ylabel(\"Feature\")\n",
        "plt.title(\"Feature Importance in Decision Tree Regressor (max_depth=5)\")\n",
        "plt.show()\n"
      ],
      "metadata": {
        "colab": {
          "base_uri": "https://localhost:8080/",
          "height": 541
        },
        "id": "zgpcI2zjOfXR",
        "outputId": "9645276e-a641-4bfc-b01b-d369e92edc28"
      },
      "execution_count": 8,
      "outputs": [
        {
          "output_type": "stream",
          "name": "stdout",
          "text": [
            "Mean Squared Error (MSE) - Decision Tree (max_depth=5): 0.5245\n",
            "Mean Squared Error (MSE) - Unrestricted Decision Tree: 0.4952\n",
            "Unrestricted tree fits better on test data (lower MSE).\n"
          ]
        },
        {
          "output_type": "display_data",
          "data": {
            "text/plain": [
              "<Figure size 800x500 with 1 Axes>"
            ],
            "image/png": "[encoded data removed]"
          },
          "metadata": {}
        }
      ]
    },
    {
      "cell_type": "markdown",
      "source": [
        "**27.Write a Python program to train a Decision Tree Classifier, apply Cost Complexity Pruning (CCP), and\n",
        "visualize its effect on accuracy**"
      ],
      "metadata": {
        "id": "VKnyZm_2PFVb"
      }
    },
    {
      "cell_type": "code",
      "source": [
        "import numpy as np\n",
        "import matplotlib.pyplot as plt\n",
        "from sklearn.datasets import load_iris\n",
        "from sklearn.model_selection import train_test_split\n",
        "from sklearn.tree import DecisionTreeClassifier\n",
        "from sklearn.metrics import accuracy_score\n",
        "\n",
        "# Load dataset (Iris dataset)\n",
        "iris = load_iris()\n",
        "X, y = iris.data, iris.target\n",
        "\n",
        "# Split into training and testing sets (80% train, 20% test)\n",
        "X_train, X_test, y_train, y_test = train_test_split(X, y, test_size=0.2, random_state=42)\n",
        "\n",
        "# Train an initial Decision Tree to determine pruning path\n",
        "tree = DecisionTreeClassifier(random_state=42)\n",
        "tree.fit(X_train, y_train)\n",
        "\n",
        "# Get the Cost Complexity Pruning Path\n",
        "path = tree.cost_complexity_pruning_path(X_train, y_train)\n",
        "ccp_alphas = path.ccp_alphas[:-1]  # Exclude maximum alpha (leads to a single root node)\n",
        "\n",
        "# Train multiple Decision Trees with different ccp_alpha values\n",
        "train_scores = []\n",
        "test_scores = []\n",
        "\n",
        "for alpha in ccp_alphas:\n",
        "    pruned_tree = DecisionTreeClassifier(random_state=42, ccp_alpha=alpha)\n",
        "    pruned_tree.fit(X_train, y_train)\n",
        "\n",
        "    # Compute accuracy\n",
        "    train_scores.append(accuracy_score(y_train, pruned_tree.predict(X_train)))\n",
        "    test_scores.append(accuracy_score(y_test, pruned_tree.predict(X_test)))\n",
        "\n",
        "# Plot accuracy vs. ccp_alpha\n",
        "plt.figure(figsize=(8, 5))\n",
        "plt.plot(ccp_alphas, train_scores, marker='o', label=\"Training Accuracy\", color='blue')\n",
        "plt.plot(ccp_alphas, test_scores, marker='s', label=\"Testing Accuracy\", color='red')\n",
        "plt.xlabel(\"ccp_alpha (Pruning Strength)\")\n",
        "plt.ylabel(\"Accuracy\")\n",
        "plt.title(\"Effect of Cost Complexity Pruning on Decision Tree Accuracy\")\n",
        "plt.legend()\n",
        "plt.show()\n"
      ],
      "metadata": {
        "colab": {
          "base_uri": "https://localhost:8080/",
          "height": 487
        },
        "id": "cRGqw3llPvHx",
        "outputId": "ea1766ff-42bb-4389-c2ec-5017908fcdb8"
      },
      "execution_count": 9,
      "outputs": [
        {
          "output_type": "display_data",
          "data": {
            "text/plain": [
              "<Figure size 800x500 with 1 Axes>"
            ],
            "image/png": "[encoded data removed]"
          },
          "metadata": {}
        }
      ]
    },
    {
      "cell_type": "markdown",
      "source": [
        "**28.Write a Python program to train a Decision Tree Classifier and evaluate its performance using Precision,\n",
        "Recall, and F1-Score**"
      ],
      "metadata": {
        "id": "UbVvjVVuQAb3"
      }
    },
    {
      "cell_type": "code",
      "source": [
        "import numpy as np\n",
        "import pandas as pd\n",
        "from sklearn.datasets import load_iris\n",
        "from sklearn.model_selection import train_test_split\n",
        "from sklearn.tree import DecisionTreeClassifier\n",
        "from sklearn.metrics import precision_score, recall_score, f1_score, classification_report\n",
        "\n",
        "# Load dataset (Iris dataset)\n",
        "iris = load_iris()\n",
        "X, y = iris.data, iris.target\n",
        "\n",
        "# Split into training and testing sets (80% train, 20% test)\n",
        "X_train, X_test, y_train, y_test = train_test_split(X, y, test_size=0.2, random_state=42)\n",
        "\n",
        "# Train Decision Tree Classifier\n",
        "tree = DecisionTreeClassifier(random_state=42)\n",
        "tree.fit(X_train, y_train)\n",
        "\n",
        "# Predict on test data\n",
        "y_pred = tree.predict(X_test)\n",
        "\n",
        "# Compute Precision, Recall, and F1-Score for each class\n",
        "precision = precision_score(y_test, y_pred, average='weighted')\n",
        "recall = recall_score(y_test, y_pred, average='weighted')\n",
        "f1 = f1_score(y_test, y_pred, average='weighted')\n",
        "\n",
        "# Display results\n",
        "print(f\"Precision: {precision:.4f}\")\n",
        "print(f\"Recall: {recall:.4f}\")\n",
        "print(f\"F1-Score: {f1:.4f}\")\n",
        "\n",
        "# Show detailed classification report\n",
        "print(\"\\nClassification Report:\")\n",
        "print(classification_report(y_test, y_pred, target_names=iris.target_names))\n"
      ],
      "metadata": {
        "colab": {
          "base_uri": "https://localhost:8080/"
        },
        "id": "0yXIGcEBQJj1",
        "outputId": "9e5ceced-900c-4bd0-f708-80d97126d916"
      },
      "execution_count": 10,
      "outputs": [
        {
          "output_type": "stream",
          "name": "stdout",
          "text": [
            "Precision: 1.0000\n",
            "Recall: 1.0000\n",
            "F1-Score: 1.0000\n",
            "\n",
            "Classification Report:\n",
            "              precision    recall  f1-score   support\n",
            "\n",
            "      setosa       1.00      1.00      1.00        10\n",
            "  versicolor       1.00      1.00      1.00         9\n",
            "   virginica       1.00      1.00      1.00        11\n",
            "\n",
            "    accuracy                           1.00        30\n",
            "   macro avg       1.00      1.00      1.00        30\n",
            "weighted avg       1.00      1.00      1.00        30\n",
            "\n"
          ]
        }
      ]
    },
    {
      "cell_type": "markdown",
      "source": [
        "**29.Write a Python program to train a Decision Tree Classifier and visualize the confusion matrix using seaborn**"
      ],
      "metadata": {
        "id": "tvbvu5g6Qaww"
      }
    },
    {
      "cell_type": "code",
      "source": [
        "import numpy as np\n",
        "import pandas as pd\n",
        "import matplotlib.pyplot as plt\n",
        "import seaborn as sns\n",
        "from sklearn.datasets import load_iris\n",
        "from sklearn.model_selection import train_test_split\n",
        "from sklearn.tree import DecisionTreeClassifier\n",
        "from sklearn.metrics import confusion_matrix, accuracy_score\n",
        "\n",
        "# Load dataset (Iris dataset)\n",
        "iris = load_iris()\n",
        "X, y = iris.data, iris.target\n",
        "class_names = iris.target_names  # Class labels\n",
        "\n",
        "# Split into training and testing sets (80% train, 20% test)\n",
        "X_train, X_test, y_train, y_test = train_test_split(X, y, test_size=0.2, random_state=42)\n",
        "\n",
        "# Train Decision Tree Classifier\n",
        "tree = DecisionTreeClassifier(random_state=42)\n",
        "tree.fit(X_train, y_train)\n",
        "\n",
        "# Predict on test data\n",
        "y_pred = tree.predict(X_test)\n",
        "\n",
        "# Compute Confusion Matrix\n",
        "cm = confusion_matrix(y_test, y_pred)\n",
        "\n",
        "# Compute accuracy\n",
        "accuracy = accuracy_score(y_test, y_pred)\n",
        "print(f\"Model Accuracy: {accuracy:.4f}\")\n",
        "\n",
        "# Visualize Confusion Matrix using Seaborn\n",
        "plt.figure(figsize=(6,5))\n",
        "sns.heatmap(cm, annot=True, fmt=\"d\", cmap=\"Blues\", xticklabels=class_names, yticklabels=class_names)\n",
        "plt.xlabel(\"Predicted Label\")\n",
        "plt.ylabel(\"True Label\")\n",
        "plt.title(\"Confusion Matrix - Decision Tree Classifier\")\n",
        "plt.show()\n"
      ],
      "metadata": {
        "colab": {
          "base_uri": "https://localhost:8080/",
          "height": 505
        },
        "id": "XUQ6dgKjQjvg",
        "outputId": "d4112201-3d72-4bfd-f69b-e276425b4814"
      },
      "execution_count": 11,
      "outputs": [
        {
          "output_type": "stream",
          "name": "stdout",
          "text": [
            "Model Accuracy: 1.0000\n"
          ]
        },
        {
          "output_type": "display_data",
          "data": {
            "text/plain": [
              "<Figure size 600x500 with 2 Axes>"
            ],
            "image/png": "[encoded data removed]"
          },
          "metadata": {}
        }
      ]
    },
    {
      "cell_type": "code",
      "source": [
        "#Q30.Write a Python program to train a Decision Tree Classifier and use GridSearchCV to find the optimal values for max_depth and min_samples_split.\n",
        "\n",
        "from sklearn.datasets import load_iris\n",
        "from sklearn.model_selection import train_test_split, GridSearchCV\n",
        "from sklearn.tree import DecisionTreeClassifier\n",
        "from sklearn.metrics import accuracy_score\n",
        "\n",
        "# Load the Iris dataset\n",
        "data = load_iris()\n",
        "X, y = data.data, data.target\n",
        "X_train, X_test, y_train, y_test = train_test_split(X, y, test_size=0.2, random_state=42)\n",
        "param_grid = {\n",
        "    'max_depth': [3, 5, 10, None],\n",
        "    'min_samples_split': [2, 5, 10]\n",
        "}\n",
        "\n",
        "clf = DecisionTreeClassifier(random_state=42)\n",
        "grid_search = GridSearchCV(clf, param_grid, cv=5, scoring='accuracy')\n",
        "grid_search.fit(X_train, y_train)\n",
        "best_clf = grid_search.best_estimator_\n",
        "y_pred = best_clf.predict(X_test)\n",
        "accuracy = accuracy_score(y_test, y_pred)\n",
        "print(f'Best Parameters: {grid_search.best_params_}')\n",
        "print(f'Accuracy with Best Parameters: {accuracy:.2f}')"
      ],
      "metadata": {
        "colab": {
          "base_uri": "https://localhost:8080/"
        },
        "id": "NPDdxDjHVDuh",
        "outputId": "e0ca71df-479c-45e0-b174-94c18b79e0ae"
      },
      "execution_count": 18,
      "outputs": [
        {
          "output_type": "stream",
          "name": "stdout",
          "text": [
            "Best Parameters: {'max_depth': 10, 'min_samples_split': 2}\n",
            "Accuracy with Best Parameters: 1.00\n"
          ]
        }
      ]
    }
  ]
}