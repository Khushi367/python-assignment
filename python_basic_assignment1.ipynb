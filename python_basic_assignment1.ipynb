{
  "nbformat": 4,
  "nbformat_minor": 0,
  "metadata": {
    "colab": {
      "provenance": []
    },
    "kernelspec": {
      "name": "python3",
      "display_name": "Python 3"
    },
    "language_info": {
      "name": "python"
    }
  },
  "cells": [
    {
      "cell_type": "markdown",
      "source": [
        "1.Explain the key features of python that makes it popular choice for programming.\n",
        "\n",
        "**Readibility and Simplicity**\n",
        "*   Provide easy syntax to read and understand.\n",
        "*   Code is simple .\n",
        "\n",
        "\n",
        "**Extensive libraries and frameworks**\n",
        "\n",
        "*   Vast collection of libraries andframeworks.\n",
        "*   Ex:NumPy,Pandas,TensorFlow.\n",
        "\n",
        "**Versatility**\n",
        "\n",
        "*  General purpose language used for various application\n",
        "*  ex:web devlopment,data analysis and Artificial intelligence.\n",
        "\n",
        "**Dynamic Typing**\n",
        "\n",
        "*   Allows variables to change types\n",
        "*   Flexible for different types of devlopment\n",
        "\n",
        "\n",
        "**INSIGHTS**\n",
        "Thus above features make python versatile,beginner friendly and well suited for\n",
        "wide range of applications.\n",
        "\n",
        "\n",
        "\n"
      ],
      "metadata": {
        "id": "-xZSfQrfACdS"
      }
    },
    {
      "cell_type": "markdown",
      "source": [
        "2.Describe the role of predefined keywords in python and provide examples of how they are used in.\n",
        "\n",
        "**Roles of predefined keywords:**\n",
        "\n",
        "*   Control flow:\n",
        "\n",
        "    ex:else,elif,while,for and break.\n",
        "\n",
        "*   To define function:\n",
        "\n",
        "    ex:def.\n",
        "\n",
        "*   Logical operations:\n",
        "\n",
        "     ex:and,or,in,is.\n",
        "\n",
        "\n",
        "\n",
        "\n",
        "\n",
        "\n",
        "\n",
        "\n"
      ],
      "metadata": {
        "id": "lpOqNAi2E-rN"
      }
    },
    {
      "cell_type": "code",
      "source": [
        "x=10\n",
        "if x>10:\n",
        "  print(\"x is grater than 10\")\n",
        "elif x==10:\n",
        "  print(\"x is equal to 10\")\n",
        "else:\n",
        "  print(\"x is less than 10\")"
      ],
      "metadata": {
        "colab": {
          "base_uri": "https://localhost:8080/"
        },
        "id": "kPCPvvsGHtuV",
        "outputId": "9e676f14-8ffc-46a9-d025-034b2bbde573"
      },
      "execution_count": 2,
      "outputs": [
        {
          "output_type": "stream",
          "name": "stdout",
          "text": [
            "x is equal to 10\n"
          ]
        }
      ]
    },
    {
      "cell_type": "markdown",
      "source": [
        "3.Compare and contrast mutable and immutable objects in python with examples.\n",
        "\n",
        "**Mutable Objects:**\n",
        "\n",
        "\n",
        "*   Values can be changed after creation\n",
        "*   ex: lists ,dictionaries and sets.\n",
        "\n",
        "**Immutable objects:**\n",
        "\n",
        "\n",
        "*   Values cannot be changed after creation.\n",
        "*   ex:strings ,tuples.\n",
        "\n",
        "\n",
        "\n"
      ],
      "metadata": {
        "id": "Ksx5I7jCJsKr"
      }
    },
    {
      "cell_type": "code",
      "source": [
        "#Mutable object :list\n",
        "my_list = [1,2,3,4]\n",
        "print(my_list)\n",
        "my_list.append(5)\n",
        "print(my_list)\n"
      ],
      "metadata": {
        "colab": {
          "base_uri": "https://localhost:8080/"
        },
        "id": "x2Krv9aWLdro",
        "outputId": "d864ee30-bb95-4cd1-ece2-76f6d9b1aaaa"
      },
      "execution_count": 7,
      "outputs": [
        {
          "output_type": "stream",
          "name": "stdout",
          "text": [
            "[1, 2, 3, 4]\n",
            "[1, 2, 3, 4, 5]\n"
          ]
        }
      ]
    },
    {
      "cell_type": "code",
      "source": [
        "#Immutable object:string\n",
        "my_string=\"Hello\"\n",
        "print(my_string)\n",
        "new_string=my_string + \" World\"\n",
        "print(new_string)"
      ],
      "metadata": {
        "colab": {
          "base_uri": "https://localhost:8080/"
        },
        "id": "yu5FtKjyM9KI",
        "outputId": "bde20cb5-2698-464e-84e0-eea65de375ca"
      },
      "execution_count": 11,
      "outputs": [
        {
          "output_type": "stream",
          "name": "stdout",
          "text": [
            "Hello\n",
            "Hello World\n"
          ]
        }
      ]
    },
    {
      "cell_type": "markdown",
      "source": [
        "4.Discuss the different types of operators in python with examples.\n",
        "\n",
        "\n",
        "**1.Arithmatic operators**\n",
        "\n",
        "\n",
        "*   Addition\n",
        "\n",
        "    ex:a+b\n",
        "\n",
        "*   Subtraction\n",
        "\n",
        "    ex:a-b\n",
        "\n",
        "\n",
        "*   Multiplication\n",
        "\n",
        "    ex:a*b\n",
        "\n",
        "*   Division\n",
        "\n",
        "    ex:a/b\n",
        "\n",
        "*   Modulus\n",
        "\n",
        "    ex:a%b\n",
        "\n",
        "\n",
        "*   Exponentiation\n",
        "\n",
        "    ex:a**b\n",
        "\n",
        "\n",
        "*   Floor division\n",
        "\n",
        "    ex:a//b\n",
        "\n",
        "\n",
        "\n",
        "\n",
        "\n",
        "\n",
        "\n",
        "\n",
        "\n",
        "\n"
      ],
      "metadata": {
        "id": "7fZqb5NzN8dw"
      }
    },
    {
      "cell_type": "code",
      "source": [
        "a=10\n",
        "b=5\n",
        "print(a+b)\n",
        "print(a-b)\n",
        "print(a*b)\n",
        "print(a**b)\n",
        "print(a%b)\n",
        "print(a//b)\n",
        "print(a/b)"
      ],
      "metadata": {
        "colab": {
          "base_uri": "https://localhost:8080/"
        },
        "id": "TCsouSMKQnw1",
        "outputId": "235b745b-d6d4-4885-fe7a-3ee5e0347f04"
      },
      "execution_count": 13,
      "outputs": [
        {
          "output_type": "stream",
          "name": "stdout",
          "text": [
            "15\n",
            "5\n",
            "50\n",
            "100000\n",
            "0\n",
            "2\n",
            "2.0\n"
          ]
        }
      ]
    },
    {
      "cell_type": "markdown",
      "source": [
        "**2.Relational operators**\n",
        "\n",
        "\n",
        "*   Compares two values\n",
        "*   Return true or false\n",
        "\n",
        "\n",
        "\n"
      ],
      "metadata": {
        "id": "lM83Zx77Rx4C"
      }
    },
    {
      "cell_type": "code",
      "source": [
        "a=10\n",
        "b=4\n",
        "print(a==b)\n",
        "print(a!=b)\n",
        "print(a>b)\n",
        "print(a>=b)\n",
        "print(a<b)\n",
        "print(a<=b)\n"
      ],
      "metadata": {
        "colab": {
          "base_uri": "https://localhost:8080/"
        },
        "id": "gRyGiHdlSOxO",
        "outputId": "121ec870-ccc0-433a-f4eb-25ba4fe8eed3"
      },
      "execution_count": 15,
      "outputs": [
        {
          "output_type": "stream",
          "name": "stdout",
          "text": [
            "False\n",
            "True\n",
            "True\n",
            "True\n",
            "False\n",
            "False\n"
          ]
        }
      ]
    },
    {
      "cell_type": "markdown",
      "source": [
        "**3.Assignment Operator**\n",
        "\n",
        "*   Operators used to assign values to variables\n",
        "\n",
        "\n"
      ],
      "metadata": {
        "id": "rWBRcv3DS-ai"
      }
    },
    {
      "cell_type": "code",
      "source": [
        "a=5\n",
        "a+=3\n",
        "print(a)\n",
        "a*=2\n",
        "print(a)\n",
        "a-=4\n",
        "print(a)"
      ],
      "metadata": {
        "colab": {
          "base_uri": "https://localhost:8080/"
        },
        "id": "vEh1CZ6QTW3S",
        "outputId": "8e2591bc-fa69-4b6e-b268-a7d379ab1763"
      },
      "execution_count": 16,
      "outputs": [
        {
          "output_type": "stream",
          "name": "stdout",
          "text": [
            "8\n",
            "16\n",
            "12\n"
          ]
        }
      ]
    },
    {
      "cell_type": "markdown",
      "source": [
        "**4.Logical Operators**\n",
        "\n",
        "\n",
        "*   Operators are used to combine conditional statements\n",
        "\n",
        "\n"
      ],
      "metadata": {
        "id": "2NJSH0GjP9Pr"
      }
    },
    {
      "cell_type": "code",
      "source": [
        "a=True\n",
        "b=False\n",
        "print(a and b)\n",
        "print(a or b)\n",
        "print(not a)"
      ],
      "metadata": {
        "colab": {
          "base_uri": "https://localhost:8080/"
        },
        "id": "T7xIXTAVQzyM",
        "outputId": "1624036e-090f-4e13-ff27-6e97b280d8a4"
      },
      "execution_count": 1,
      "outputs": [
        {
          "output_type": "stream",
          "name": "stdout",
          "text": [
            "False\n",
            "True\n",
            "False\n"
          ]
        }
      ]
    },
    {
      "cell_type": "markdown",
      "source": [
        "**5.Bitwise Operators**\n",
        "\n",
        "\n",
        "*   Operators used to perform  bit_level operations\n",
        "\n",
        "\n"
      ],
      "metadata": {
        "id": "rURsVvRuRSez"
      }
    },
    {
      "cell_type": "code",
      "source": [
        "a=10\n",
        "bin(a)\n"
      ],
      "metadata": {
        "colab": {
          "base_uri": "https://localhost:8080/",
          "height": 36
        },
        "id": "hAhDnMiaSY8r",
        "outputId": "9fad27bc-2404-471a-d0b3-d0259f3025df"
      },
      "execution_count": 4,
      "outputs": [
        {
          "output_type": "execute_result",
          "data": {
            "text/plain": [
              "'0b1010'"
            ],
            "application/vnd.google.colaboratory.intrinsic+json": {
              "type": "string"
            }
          },
          "metadata": {},
          "execution_count": 4
        }
      ]
    },
    {
      "cell_type": "code",
      "source": [
        "bin(25)"
      ],
      "metadata": {
        "colab": {
          "base_uri": "https://localhost:8080/",
          "height": 36
        },
        "id": "FzvjhjZrS4W3",
        "outputId": "a7986a8e-a271-494f-ad81-7c39aec9a67f"
      },
      "execution_count": 5,
      "outputs": [
        {
          "output_type": "execute_result",
          "data": {
            "text/plain": [
              "'0b11001'"
            ],
            "application/vnd.google.colaboratory.intrinsic+json": {
              "type": "string"
            }
          },
          "metadata": {},
          "execution_count": 5
        }
      ]
    },
    {
      "cell_type": "code",
      "source": [
        "a=12\n",
        "b=10\n",
        "bin(a&b)"
      ],
      "metadata": {
        "colab": {
          "base_uri": "https://localhost:8080/",
          "height": 36
        },
        "id": "jdT3zgTkS9JC",
        "outputId": "8494e0ec-1764-4a5a-8914-389d0758d2b9"
      },
      "execution_count": 6,
      "outputs": [
        {
          "output_type": "execute_result",
          "data": {
            "text/plain": [
              "'0b1000'"
            ],
            "application/vnd.google.colaboratory.intrinsic+json": {
              "type": "string"
            }
          },
          "metadata": {},
          "execution_count": 6
        }
      ]
    },
    {
      "cell_type": "markdown",
      "source": [
        "**Q.5 Explain the concept of type casting in python with examples.**\n",
        "\n",
        "\n",
        "\n",
        "*   Converting a variable from one data type to another\n",
        "\n",
        "\n"
      ],
      "metadata": {
        "id": "UNW2zByZTLfm"
      }
    },
    {
      "cell_type": "code",
      "source": [
        "a=23.53 #int()\n",
        "int(a)"
      ],
      "metadata": {
        "colab": {
          "base_uri": "https://localhost:8080/"
        },
        "id": "MbU61_DEUdjX",
        "outputId": "0b984daf-7aae-421a-fd19-4a26cd4b10bc"
      },
      "execution_count": 8,
      "outputs": [
        {
          "output_type": "execute_result",
          "data": {
            "text/plain": [
              "23"
            ]
          },
          "metadata": {},
          "execution_count": 8
        }
      ]
    },
    {
      "cell_type": "code",
      "source": [
        "#2.float()\n",
        "a=23\n",
        "float(a)\n"
      ],
      "metadata": {
        "colab": {
          "base_uri": "https://localhost:8080/"
        },
        "id": "WclG6P5QUnhW",
        "outputId": "5f7809b9-e713-4007-bdb2-2f870ed1afa1"
      },
      "execution_count": 9,
      "outputs": [
        {
          "output_type": "execute_result",
          "data": {
            "text/plain": [
              "23.0"
            ]
          },
          "metadata": {},
          "execution_count": 9
        }
      ]
    },
    {
      "cell_type": "code",
      "source": [
        "#3.str()\n",
        "a=10\n",
        "str(a)"
      ],
      "metadata": {
        "colab": {
          "base_uri": "https://localhost:8080/",
          "height": 36
        },
        "id": "blciXXlCVIbV",
        "outputId": "b5b1f255-e455-40f2-99b2-1636f1fc27de"
      },
      "execution_count": 10,
      "outputs": [
        {
          "output_type": "execute_result",
          "data": {
            "text/plain": [
              "'10'"
            ],
            "application/vnd.google.colaboratory.intrinsic+json": {
              "type": "string"
            }
          },
          "metadata": {},
          "execution_count": 10
        }
      ]
    },
    {
      "cell_type": "code",
      "source": [
        "#4.list()\n",
        "a='abc'\n",
        "list(a)"
      ],
      "metadata": {
        "colab": {
          "base_uri": "https://localhost:8080/"
        },
        "id": "Csk9X2JYVTwK",
        "outputId": "f20c8855-642f-418f-a767-2c9b7d1c548d"
      },
      "execution_count": 11,
      "outputs": [
        {
          "output_type": "execute_result",
          "data": {
            "text/plain": [
              "['a', 'b', 'c']"
            ]
          },
          "metadata": {},
          "execution_count": 11
        }
      ]
    },
    {
      "cell_type": "code",
      "source": [
        "#5.tuple()\n",
        "a=[1,2,3]\n",
        "tuple(a)"
      ],
      "metadata": {
        "colab": {
          "base_uri": "https://localhost:8080/"
        },
        "id": "An9JVb1GVlpe",
        "outputId": "6d66ef67-e9b1-49ed-e358-5c8c47813384"
      },
      "execution_count": 12,
      "outputs": [
        {
          "output_type": "execute_result",
          "data": {
            "text/plain": [
              "(1, 2, 3)"
            ]
          },
          "metadata": {},
          "execution_count": 12
        }
      ]
    },
    {
      "cell_type": "code",
      "source": [
        "#6.bool()\n",
        "a=0\n",
        "b=1\n",
        "print(bool(a))\n",
        "print(bool(b))"
      ],
      "metadata": {
        "colab": {
          "base_uri": "https://localhost:8080/"
        },
        "id": "1utr4kSAV1C6",
        "outputId": "780cef71-f826-46f9-ab03-1c2a77b4e194"
      },
      "execution_count": 13,
      "outputs": [
        {
          "output_type": "stream",
          "name": "stdout",
          "text": [
            "False\n",
            "True\n"
          ]
        }
      ]
    },
    {
      "cell_type": "markdown",
      "source": [
        "**Q.6 Hoe do conditional statements work in python?Illustrate with examples.**\n",
        "\n",
        "\n",
        "\n",
        "*   It allows to execute specific blocks of code based on whether a condition is true or false\n",
        "\n",
        "\n"
      ],
      "metadata": {
        "id": "5-xrCsp_WOqJ"
      }
    },
    {
      "cell_type": "code",
      "source": [
        "#example\n",
        "age=25\n",
        "if age>0:\n",
        "  if age <18:\n",
        "    print(\"You are minor\")\n",
        "  elif 18<= age < 60:\n",
        "    print(\"You are an adult\")\n",
        "  else:\n",
        "    print(\"You are a senior citizen\")\n",
        "else:\n",
        "  print(\"Invalid age\")"
      ],
      "metadata": {
        "colab": {
          "base_uri": "https://localhost:8080/"
        },
        "id": "Y_XoPCbgXUbO",
        "outputId": "55f83c91-f6d7-4e4d-bf7b-8096498887a6"
      },
      "execution_count": 14,
      "outputs": [
        {
          "output_type": "stream",
          "name": "stdout",
          "text": [
            "You are an adult\n"
          ]
        }
      ]
    },
    {
      "cell_type": "markdown",
      "source": [
        "**Q.7 Describe the different types of loops in python and their use cases with examples.**\n",
        "\n",
        "\n",
        "\n",
        "*   There are two different types of loops\n",
        "*   for loops and while loops\n",
        "\n",
        "**Use case of for and while loop**\n",
        "\n",
        "\n",
        "* for loop is used to process items in a list and to iterate over the charecters of string\n",
        "*  while loop is used when a loop execution depends on a condition rather tban a simple sequence\n",
        "\n",
        "\n"
      ],
      "metadata": {
        "id": "acCDcA-JZFeO"
      }
    },
    {
      "cell_type": "code",
      "source": [
        "#for loop\n",
        "a=[1,2,3,4,9]\n",
        "for num in a :\n",
        "  print(num)"
      ],
      "metadata": {
        "colab": {
          "base_uri": "https://localhost:8080/"
        },
        "id": "lhmsUv2KaFRB",
        "outputId": "7d928930-9b66-4827-c3db-970f4e7cefb1"
      },
      "execution_count": 15,
      "outputs": [
        {
          "output_type": "stream",
          "name": "stdout",
          "text": [
            "1\n",
            "2\n",
            "3\n",
            "4\n",
            "9\n"
          ]
        }
      ]
    },
    {
      "cell_type": "code",
      "source": [
        "#while loop\n",
        "i=1\n",
        "while i <=5:\n",
        "  print(i)\n",
        "  i+=1"
      ],
      "metadata": {
        "colab": {
          "base_uri": "https://localhost:8080/"
        },
        "id": "AifEx0Y6cVOm",
        "outputId": "460ef7b7-4fe0-4cc6-a7fc-d19b6374872c"
      },
      "execution_count": 16,
      "outputs": [
        {
          "output_type": "stream",
          "name": "stdout",
          "text": [
            "1\n",
            "2\n",
            "3\n",
            "4\n",
            "5\n"
          ]
        }
      ]
    }
  ]
}